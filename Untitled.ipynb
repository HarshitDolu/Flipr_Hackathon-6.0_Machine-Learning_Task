{
 "cells": [
  {
   "cell_type": "code",
   "execution_count": 1,
   "metadata": {},
   "outputs": [],
   "source": [
    "import pandas as pd\n",
    "import numpy as np\n",
    "import xlrd \n"
   ]
  },
  {
   "cell_type": "code",
   "execution_count": 2,
   "metadata": {
    "scrolled": true
   },
   "outputs": [
    {
     "data": {
      "text/html": [
       "<div>\n",
       "<style scoped>\n",
       "    .dataframe tbody tr th:only-of-type {\n",
       "        vertical-align: middle;\n",
       "    }\n",
       "\n",
       "    .dataframe tbody tr th {\n",
       "        vertical-align: top;\n",
       "    }\n",
       "\n",
       "    .dataframe thead th {\n",
       "        text-align: right;\n",
       "    }\n",
       "</style>\n",
       "<table border=\"1\" class=\"dataframe\">\n",
       "  <thead>\n",
       "    <tr style=\"text-align: right;\">\n",
       "      <th></th>\n",
       "      <th>City</th>\n",
       "      <th>State</th>\n",
       "      <th>Type</th>\n",
       "      <th>Population [2011]</th>\n",
       "      <th>Popuation [2001]</th>\n",
       "      <th>Sex Ratio</th>\n",
       "      <th>Median Age</th>\n",
       "      <th>Avg Temp</th>\n",
       "      <th>SWM</th>\n",
       "      <th>Toilets Avl</th>\n",
       "      <th>Water Purity</th>\n",
       "      <th>H Index</th>\n",
       "      <th>Female Population</th>\n",
       "      <th># of hospitals</th>\n",
       "      <th>Foreign Visitors</th>\n",
       "      <th>Covid Cases</th>\n",
       "    </tr>\n",
       "  </thead>\n",
       "  <tbody>\n",
       "    <tr>\n",
       "      <th>0</th>\n",
       "      <td>Mumbai</td>\n",
       "      <td>Maharashtra</td>\n",
       "      <td>M.C</td>\n",
       "      <td>12442373.0</td>\n",
       "      <td>11978450.0</td>\n",
       "      <td>878.0</td>\n",
       "      <td>23.0</td>\n",
       "      <td>32.0</td>\n",
       "      <td>MEDIUM</td>\n",
       "      <td>219.0</td>\n",
       "      <td>150.0</td>\n",
       "      <td>0.700440</td>\n",
       "      <td>10924403.0</td>\n",
       "      <td>159.0</td>\n",
       "      <td>4408916.0</td>\n",
       "      <td>163115.0</td>\n",
       "    </tr>\n",
       "    <tr>\n",
       "      <th>1</th>\n",
       "      <td>Delhi</td>\n",
       "      <td>Delhi</td>\n",
       "      <td>M.C</td>\n",
       "      <td>11007835.0</td>\n",
       "      <td>9879172.0</td>\n",
       "      <td>858.0</td>\n",
       "      <td>27.0</td>\n",
       "      <td>30.0</td>\n",
       "      <td>MEDIUM</td>\n",
       "      <td>215.0</td>\n",
       "      <td>196.0</td>\n",
       "      <td>0.920018</td>\n",
       "      <td>9444722.0</td>\n",
       "      <td>148.0</td>\n",
       "      <td>2379169.0</td>\n",
       "      <td>80188.0</td>\n",
       "    </tr>\n",
       "    <tr>\n",
       "      <th>2</th>\n",
       "      <td>Bangalore</td>\n",
       "      <td>Karnataka</td>\n",
       "      <td>MPUA</td>\n",
       "      <td>8436675.0</td>\n",
       "      <td>4301326.0</td>\n",
       "      <td>936.0</td>\n",
       "      <td>28.0</td>\n",
       "      <td>37.0</td>\n",
       "      <td>HIGH</td>\n",
       "      <td>212.0</td>\n",
       "      <td>102.0</td>\n",
       "      <td>0.097085</td>\n",
       "      <td>7896728.0</td>\n",
       "      <td>123.0</td>\n",
       "      <td>636502.0</td>\n",
       "      <td>141000.0</td>\n",
       "    </tr>\n",
       "    <tr>\n",
       "      <th>3</th>\n",
       "      <td>Hyderabad</td>\n",
       "      <td>Telangana</td>\n",
       "      <td>MPUA</td>\n",
       "      <td>6809970.0</td>\n",
       "      <td>3637483.0</td>\n",
       "      <td>930.0</td>\n",
       "      <td>23.0</td>\n",
       "      <td>31.0</td>\n",
       "      <td>MEDIUM</td>\n",
       "      <td>217.0</td>\n",
       "      <td>118.0</td>\n",
       "      <td>0.827744</td>\n",
       "      <td>6333272.0</td>\n",
       "      <td>110.0</td>\n",
       "      <td>126078.0</td>\n",
       "      <td>55123.0</td>\n",
       "    </tr>\n",
       "    <tr>\n",
       "      <th>4</th>\n",
       "      <td>Ahmedabad</td>\n",
       "      <td>Gujarat</td>\n",
       "      <td>MPUA</td>\n",
       "      <td>5570585.0</td>\n",
       "      <td>3520085.0</td>\n",
       "      <td>852.0</td>\n",
       "      <td>29.0</td>\n",
       "      <td>25.0</td>\n",
       "      <td>LOW</td>\n",
       "      <td>227.0</td>\n",
       "      <td>109.0</td>\n",
       "      <td>0.847941</td>\n",
       "      <td>4746138.0</td>\n",
       "      <td>73.0</td>\n",
       "      <td>284973.0</td>\n",
       "      <td>33204.0</td>\n",
       "    </tr>\n",
       "    <tr>\n",
       "      <th>5</th>\n",
       "      <td>Chennai</td>\n",
       "      <td>Tamil Nadu</td>\n",
       "      <td>MPUA</td>\n",
       "      <td>4681087.0</td>\n",
       "      <td>4343645.0</td>\n",
       "      <td>904.0</td>\n",
       "      <td>26.0</td>\n",
       "      <td>31.0</td>\n",
       "      <td>HIGH</td>\n",
       "      <td>210.0</td>\n",
       "      <td>179.0</td>\n",
       "      <td>0.536995</td>\n",
       "      <td>4231703.0</td>\n",
       "      <td>67.0</td>\n",
       "      <td>4684707.0</td>\n",
       "      <td>145606.0</td>\n",
       "    </tr>\n",
       "    <tr>\n",
       "      <th>6</th>\n",
       "      <td>Chennai</td>\n",
       "      <td>Tamil nadu</td>\n",
       "      <td>T</td>\n",
       "      <td>4646732.0</td>\n",
       "      <td>NaN</td>\n",
       "      <td>912.0</td>\n",
       "      <td>26.0</td>\n",
       "      <td>30.0</td>\n",
       "      <td>MEDIUM</td>\n",
       "      <td>145.0</td>\n",
       "      <td>177.0</td>\n",
       "      <td>0.093451</td>\n",
       "      <td>4237820.0</td>\n",
       "      <td>55.0</td>\n",
       "      <td>4684707.0</td>\n",
       "      <td>145606.0</td>\n",
       "    </tr>\n",
       "    <tr>\n",
       "      <th>7</th>\n",
       "      <td>Kolkata</td>\n",
       "      <td>West Bengal</td>\n",
       "      <td>MPUA</td>\n",
       "      <td>4486679.0</td>\n",
       "      <td>4572876.0</td>\n",
       "      <td>945.0</td>\n",
       "      <td>26.0</td>\n",
       "      <td>37.0</td>\n",
       "      <td>NaN</td>\n",
       "      <td>NaN</td>\n",
       "      <td>NaN</td>\n",
       "      <td>0.473585</td>\n",
       "      <td>4239912.0</td>\n",
       "      <td>82.0</td>\n",
       "      <td>1489500.0</td>\n",
       "      <td>44957.0</td>\n",
       "    </tr>\n",
       "    <tr>\n",
       "      <th>8</th>\n",
       "      <td>Surat</td>\n",
       "      <td>Gujarat</td>\n",
       "      <td>MPUA</td>\n",
       "      <td>4467797.0</td>\n",
       "      <td>2433835.0</td>\n",
       "      <td>NaN</td>\n",
       "      <td>27.0</td>\n",
       "      <td>26.0</td>\n",
       "      <td>NaN</td>\n",
       "      <td>NaN</td>\n",
       "      <td>NaN</td>\n",
       "      <td>0.809334</td>\n",
       "      <td>3797627.0</td>\n",
       "      <td>98.0</td>\n",
       "      <td>284973.0</td>\n",
       "      <td>23432.0</td>\n",
       "    </tr>\n",
       "    <tr>\n",
       "      <th>9</th>\n",
       "      <td>Pune</td>\n",
       "      <td>Maharashtra</td>\n",
       "      <td>MPUA</td>\n",
       "      <td>3124458.0</td>\n",
       "      <td>2538473.0</td>\n",
       "      <td>NaN</td>\n",
       "      <td>29.0</td>\n",
       "      <td>29.0</td>\n",
       "      <td>NaN</td>\n",
       "      <td>NaN</td>\n",
       "      <td>NaN</td>\n",
       "      <td>0.445902</td>\n",
       "      <td>2743274.0</td>\n",
       "      <td>50.0</td>\n",
       "      <td>4408916.0</td>\n",
       "      <td>218502.0</td>\n",
       "    </tr>\n",
       "  </tbody>\n",
       "</table>\n",
       "</div>"
      ],
      "text/plain": [
       "        City        State  Type  Population [2011]  Popuation [2001]  \\\n",
       "0     Mumbai  Maharashtra   M.C         12442373.0        11978450.0   \n",
       "1      Delhi        Delhi   M.C         11007835.0         9879172.0   \n",
       "2  Bangalore    Karnataka  MPUA          8436675.0         4301326.0   \n",
       "3  Hyderabad    Telangana  MPUA          6809970.0         3637483.0   \n",
       "4  Ahmedabad      Gujarat  MPUA          5570585.0         3520085.0   \n",
       "5    Chennai   Tamil Nadu  MPUA          4681087.0         4343645.0   \n",
       "6    Chennai   Tamil nadu     T          4646732.0               NaN   \n",
       "7    Kolkata  West Bengal  MPUA          4486679.0         4572876.0   \n",
       "8      Surat      Gujarat  MPUA          4467797.0         2433835.0   \n",
       "9       Pune  Maharashtra  MPUA          3124458.0         2538473.0   \n",
       "\n",
       "   Sex Ratio  Median Age  Avg Temp     SWM  Toilets Avl  Water Purity  \\\n",
       "0      878.0        23.0      32.0  MEDIUM        219.0         150.0   \n",
       "1      858.0        27.0      30.0  MEDIUM        215.0         196.0   \n",
       "2      936.0        28.0      37.0    HIGH        212.0         102.0   \n",
       "3      930.0        23.0      31.0  MEDIUM        217.0         118.0   \n",
       "4      852.0        29.0      25.0     LOW        227.0         109.0   \n",
       "5      904.0        26.0      31.0    HIGH        210.0         179.0   \n",
       "6      912.0        26.0      30.0  MEDIUM        145.0         177.0   \n",
       "7      945.0        26.0      37.0     NaN          NaN           NaN   \n",
       "8        NaN        27.0      26.0     NaN          NaN           NaN   \n",
       "9        NaN        29.0      29.0     NaN          NaN           NaN   \n",
       "\n",
       "    H Index  Female Population  # of hospitals  Foreign Visitors  Covid Cases  \n",
       "0  0.700440         10924403.0           159.0         4408916.0     163115.0  \n",
       "1  0.920018          9444722.0           148.0         2379169.0      80188.0  \n",
       "2  0.097085          7896728.0           123.0          636502.0     141000.0  \n",
       "3  0.827744          6333272.0           110.0          126078.0      55123.0  \n",
       "4  0.847941          4746138.0            73.0          284973.0      33204.0  \n",
       "5  0.536995          4231703.0            67.0         4684707.0     145606.0  \n",
       "6  0.093451          4237820.0            55.0         4684707.0     145606.0  \n",
       "7  0.473585          4239912.0            82.0         1489500.0      44957.0  \n",
       "8  0.809334          3797627.0            98.0          284973.0      23432.0  \n",
       "9  0.445902          2743274.0            50.0         4408916.0     218502.0  "
      ]
     },
     "execution_count": 2,
     "metadata": {},
     "output_type": "execute_result"
    }
   ],
   "source": [
    "train = pd.read_excel('Train_dataset.xlsx')\n",
    "test = pd.read_excel('Test_dataset.xlsx')\n",
    "data= train.append(test,ignore_index=True)\n",
    "data.head(10)\n",
    "\n"
   ]
  },
  {
   "cell_type": "code",
   "execution_count": 3,
   "metadata": {},
   "outputs": [
    {
     "data": {
      "text/plain": [
       "(1288, 16)"
      ]
     },
     "execution_count": 3,
     "metadata": {},
     "output_type": "execute_result"
    }
   ],
   "source": [
    "data.shape"
   ]
  },
  {
   "cell_type": "code",
   "execution_count": 4,
   "metadata": {},
   "outputs": [
    {
     "data": {
      "text/plain": [
       "City                   0\n",
       "State                  0\n",
       "Type                   2\n",
       "Population [2011]     54\n",
       "Popuation [2001]     993\n",
       "Sex Ratio             15\n",
       "Median Age            31\n",
       "Avg Temp              31\n",
       "SWM                   13\n",
       "Toilets Avl           48\n",
       "Water Purity         177\n",
       "H Index              155\n",
       "Female Population    156\n",
       "# of hospitals        32\n",
       "Foreign Visitors     107\n",
       "Covid Cases          501\n",
       "dtype: int64"
      ]
     },
     "execution_count": 4,
     "metadata": {},
     "output_type": "execute_result"
    }
   ],
   "source": [
    "\n",
    "data.isnull().sum()"
   ]
  },
  {
   "cell_type": "code",
   "execution_count": 5,
   "metadata": {},
   "outputs": [
    {
     "data": {
      "text/plain": [
       "dtype('float64')"
      ]
     },
     "execution_count": 5,
     "metadata": {},
     "output_type": "execute_result"
    }
   ],
   "source": [
    "data['Avg Temp'].dtype"
   ]
  },
  {
   "cell_type": "code",
   "execution_count": 6,
   "metadata": {},
   "outputs": [
    {
     "data": {
      "text/plain": [
       "<matplotlib.axes._subplots.AxesSubplot at 0x20517a8d108>"
      ]
     },
     "execution_count": 6,
     "metadata": {},
     "output_type": "execute_result"
    },
    {
     "data": {
      "image/png": "[encoded data removed]",
      "text/plain": [
       "<Figure size 432x288 with 2 Axes>"
      ]
     },
     "metadata": {
      "needs_background": "light"
     },
     "output_type": "display_data"
    }
   ],
   "source": [
    "import seaborn as sns\n",
    "\n",
    "import matplotlib.pyplot as plt\n",
    "import matplotlib.mlab as mlab\n",
    "import matplotlib\n",
    "cols = data.columns[:30] # first 30 columns\n",
    "colours = ['#000099', '#ffff00'] # specify the colours - yellow is missing. blue is not missing.\n",
    "sns.heatmap(data[cols].isnull(), cmap=sns.color_palette(colours))"
   ]
  },
  {
   "cell_type": "code",
   "execution_count": 7,
   "metadata": {},
   "outputs": [
    {
     "name": "stdout",
     "output_type": "stream",
     "text": [
      "26.0\n"
     ]
    }
   ],
   "source": [
    "#for age\n",
    "med = data['Median Age'].median()\n",
    "print(med)\n",
    "data['Median Age'] = data['Median Age'].fillna(med)"
   ]
  },
  {
   "cell_type": "code",
   "execution_count": 8,
   "metadata": {},
   "outputs": [
    {
     "data": {
      "text/plain": [
       "City                   0\n",
       "State                  0\n",
       "Type                   2\n",
       "Population [2011]     54\n",
       "Popuation [2001]     993\n",
       "Sex Ratio             15\n",
       "Median Age             0\n",
       "Avg Temp              31\n",
       "SWM                   13\n",
       "Toilets Avl           48\n",
       "Water Purity         177\n",
       "H Index              155\n",
       "Female Population    156\n",
       "# of hospitals        32\n",
       "Foreign Visitors     107\n",
       "Covid Cases          501\n",
       "dtype: int64"
      ]
     },
     "execution_count": 8,
     "metadata": {},
     "output_type": "execute_result"
    }
   ],
   "source": [
    "data.isnull().sum()"
   ]
  },
  {
   "cell_type": "code",
   "execution_count": 9,
   "metadata": {
    "scrolled": true
   },
   "outputs": [
    {
     "name": "stdout",
     "output_type": "stream",
     "text": [
      "31.0\n"
     ]
    }
   ],
   "source": [
    "# for temperature\n",
    "med =data['Avg Temp'].median()\n",
    "print(med)\n",
    "data['Avg Temp'] = data['Avg Temp'].fillna(med)\n"
   ]
  },
  {
   "cell_type": "code",
   "execution_count": 10,
   "metadata": {},
   "outputs": [
    {
     "data": {
      "text/plain": [
       "City                  object\n",
       "State                 object\n",
       "Type                  object\n",
       "Population [2011]    float64\n",
       "Popuation [2001]     float64\n",
       "Sex Ratio            float64\n",
       "Median Age           float64\n",
       "Avg Temp             float64\n",
       "SWM                   object\n",
       "Toilets Avl          float64\n",
       "Water Purity         float64\n",
       "H Index              float64\n",
       "Female Population    float64\n",
       "# of hospitals       float64\n",
       "Foreign Visitors     float64\n",
       "Covid Cases          float64\n",
       "dtype: object"
      ]
     },
     "execution_count": 10,
     "metadata": {},
     "output_type": "execute_result"
    }
   ],
   "source": [
    "data.dtypes"
   ]
  },
  {
   "cell_type": "code",
   "execution_count": 11,
   "metadata": {},
   "outputs": [
    {
     "data": {
      "text/plain": [
       "City                   0\n",
       "State                  0\n",
       "Type                   2\n",
       "Population [2011]     54\n",
       "Popuation [2001]     993\n",
       "Sex Ratio             15\n",
       "Median Age             0\n",
       "Avg Temp               0\n",
       "SWM                   13\n",
       "Toilets Avl           48\n",
       "Water Purity         177\n",
       "H Index              155\n",
       "Female Population    156\n",
       "# of hospitals        32\n",
       "Foreign Visitors     107\n",
       "Covid Cases          501\n",
       "dtype: int64"
      ]
     },
     "execution_count": 11,
     "metadata": {},
     "output_type": "execute_result"
    }
   ],
   "source": [
    "data.isnull().sum()"
   ]
  },
  {
   "cell_type": "code",
   "execution_count": 12,
   "metadata": {},
   "outputs": [
    {
     "data": {
      "text/html": [
       "<div>\n",
       "<style scoped>\n",
       "    .dataframe tbody tr th:only-of-type {\n",
       "        vertical-align: middle;\n",
       "    }\n",
       "\n",
       "    .dataframe tbody tr th {\n",
       "        vertical-align: top;\n",
       "    }\n",
       "\n",
       "    .dataframe thead th {\n",
       "        text-align: right;\n",
       "    }\n",
       "</style>\n",
       "<table border=\"1\" class=\"dataframe\">\n",
       "  <thead>\n",
       "    <tr style=\"text-align: right;\">\n",
       "      <th></th>\n",
       "      <th>Population [2011]</th>\n",
       "      <th>Popuation [2001]</th>\n",
       "      <th>Sex Ratio</th>\n",
       "      <th>Median Age</th>\n",
       "      <th>Avg Temp</th>\n",
       "      <th>Toilets Avl</th>\n",
       "      <th>Water Purity</th>\n",
       "      <th>H Index</th>\n",
       "      <th>Female Population</th>\n",
       "      <th># of hospitals</th>\n",
       "      <th>Foreign Visitors</th>\n",
       "      <th>Covid Cases</th>\n",
       "    </tr>\n",
       "  </thead>\n",
       "  <tbody>\n",
       "    <tr>\n",
       "      <th>count</th>\n",
       "      <td>1.234000e+03</td>\n",
       "      <td>2.950000e+02</td>\n",
       "      <td>1273.000000</td>\n",
       "      <td>1288.000000</td>\n",
       "      <td>1288.000000</td>\n",
       "      <td>1240.000000</td>\n",
       "      <td>1111.000000</td>\n",
       "      <td>1133.000000</td>\n",
       "      <td>1.132000e+03</td>\n",
       "      <td>1256.000000</td>\n",
       "      <td>1.181000e+03</td>\n",
       "      <td>787.00000</td>\n",
       "    </tr>\n",
       "    <tr>\n",
       "      <th>mean</th>\n",
       "      <td>1.957451e+05</td>\n",
       "      <td>5.320451e+05</td>\n",
       "      <td>901.736842</td>\n",
       "      <td>26.155280</td>\n",
       "      <td>30.246894</td>\n",
       "      <td>86.889516</td>\n",
       "      <td>150.801080</td>\n",
       "      <td>0.498773</td>\n",
       "      <td>1.757442e+05</td>\n",
       "      <td>33.111465</td>\n",
       "      <td>1.547432e+06</td>\n",
       "      <td>6615.64676</td>\n",
       "    </tr>\n",
       "    <tr>\n",
       "      <th>std</th>\n",
       "      <td>7.007524e+05</td>\n",
       "      <td>1.067831e+06</td>\n",
       "      <td>37.901777</td>\n",
       "      <td>2.099496</td>\n",
       "      <td>7.902155</td>\n",
       "      <td>29.550628</td>\n",
       "      <td>28.905921</td>\n",
       "      <td>0.289424</td>\n",
       "      <td>6.447710e+05</td>\n",
       "      <td>25.669372</td>\n",
       "      <td>1.683666e+06</td>\n",
       "      <td>15108.10276</td>\n",
       "    </tr>\n",
       "    <tr>\n",
       "      <th>min</th>\n",
       "      <td>1.100000e+02</td>\n",
       "      <td>2.935400e+04</td>\n",
       "      <td>774.000000</td>\n",
       "      <td>23.000000</td>\n",
       "      <td>5.000000</td>\n",
       "      <td>10.000000</td>\n",
       "      <td>100.000000</td>\n",
       "      <td>0.000957</td>\n",
       "      <td>0.000000e+00</td>\n",
       "      <td>3.000000</td>\n",
       "      <td>7.980000e+02</td>\n",
       "      <td>334.00000</td>\n",
       "    </tr>\n",
       "    <tr>\n",
       "      <th>25%</th>\n",
       "      <td>2.777575e+04</td>\n",
       "      <td>1.694320e+05</td>\n",
       "      <td>873.000000</td>\n",
       "      <td>24.000000</td>\n",
       "      <td>27.000000</td>\n",
       "      <td>66.000000</td>\n",
       "      <td>126.000000</td>\n",
       "      <td>0.251916</td>\n",
       "      <td>2.414575e+04</td>\n",
       "      <td>16.000000</td>\n",
       "      <td>2.378540e+05</td>\n",
       "      <td>2270.00000</td>\n",
       "    </tr>\n",
       "    <tr>\n",
       "      <th>50%</th>\n",
       "      <td>4.739200e+04</td>\n",
       "      <td>2.366000e+05</td>\n",
       "      <td>902.000000</td>\n",
       "      <td>26.000000</td>\n",
       "      <td>31.000000</td>\n",
       "      <td>85.000000</td>\n",
       "      <td>151.000000</td>\n",
       "      <td>0.507363</td>\n",
       "      <td>3.884550e+04</td>\n",
       "      <td>23.000000</td>\n",
       "      <td>6.365020e+05</td>\n",
       "      <td>2582.00000</td>\n",
       "    </tr>\n",
       "    <tr>\n",
       "      <th>75%</th>\n",
       "      <td>9.998275e+04</td>\n",
       "      <td>4.745850e+05</td>\n",
       "      <td>926.000000</td>\n",
       "      <td>28.000000</td>\n",
       "      <td>36.000000</td>\n",
       "      <td>100.000000</td>\n",
       "      <td>176.000000</td>\n",
       "      <td>0.748042</td>\n",
       "      <td>9.915425e+04</td>\n",
       "      <td>30.000000</td>\n",
       "      <td>3.104060e+06</td>\n",
       "      <td>8761.00000</td>\n",
       "    </tr>\n",
       "    <tr>\n",
       "      <th>max</th>\n",
       "      <td>1.244237e+07</td>\n",
       "      <td>1.197845e+07</td>\n",
       "      <td>1042.000000</td>\n",
       "      <td>32.000000</td>\n",
       "      <td>40.000000</td>\n",
       "      <td>227.000000</td>\n",
       "      <td>200.000000</td>\n",
       "      <td>0.999901</td>\n",
       "      <td>1.092440e+07</td>\n",
       "      <td>159.000000</td>\n",
       "      <td>4.684707e+06</td>\n",
       "      <td>218502.00000</td>\n",
       "    </tr>\n",
       "  </tbody>\n",
       "</table>\n",
       "</div>"
      ],
      "text/plain": [
       "       Population [2011]  Popuation [2001]    Sex Ratio   Median Age  \\\n",
       "count       1.234000e+03      2.950000e+02  1273.000000  1288.000000   \n",
       "mean        1.957451e+05      5.320451e+05   901.736842    26.155280   \n",
       "std         7.007524e+05      1.067831e+06    37.901777     2.099496   \n",
       "min         1.100000e+02      2.935400e+04   774.000000    23.000000   \n",
       "25%         2.777575e+04      1.694320e+05   873.000000    24.000000   \n",
       "50%         4.739200e+04      2.366000e+05   902.000000    26.000000   \n",
       "75%         9.998275e+04      4.745850e+05   926.000000    28.000000   \n",
       "max         1.244237e+07      1.197845e+07  1042.000000    32.000000   \n",
       "\n",
       "          Avg Temp  Toilets Avl  Water Purity      H Index  Female Population  \\\n",
       "count  1288.000000  1240.000000   1111.000000  1133.000000       1.132000e+03   \n",
       "mean     30.246894    86.889516    150.801080     0.498773       1.757442e+05   \n",
       "std       7.902155    29.550628     28.905921     0.289424       6.447710e+05   \n",
       "min       5.000000    10.000000    100.000000     0.000957       0.000000e+00   \n",
       "25%      27.000000    66.000000    126.000000     0.251916       2.414575e+04   \n",
       "50%      31.000000    85.000000    151.000000     0.507363       3.884550e+04   \n",
       "75%      36.000000   100.000000    176.000000     0.748042       9.915425e+04   \n",
       "max      40.000000   227.000000    200.000000     0.999901       1.092440e+07   \n",
       "\n",
       "       # of hospitals  Foreign Visitors   Covid Cases  \n",
       "count     1256.000000      1.181000e+03     787.00000  \n",
       "mean        33.111465      1.547432e+06    6615.64676  \n",
       "std         25.669372      1.683666e+06   15108.10276  \n",
       "min          3.000000      7.980000e+02     334.00000  \n",
       "25%         16.000000      2.378540e+05    2270.00000  \n",
       "50%         23.000000      6.365020e+05    2582.00000  \n",
       "75%         30.000000      3.104060e+06    8761.00000  \n",
       "max        159.000000      4.684707e+06  218502.00000  "
      ]
     },
     "execution_count": 12,
     "metadata": {},
     "output_type": "execute_result"
    }
   ],
   "source": [
    "data.describe()"
   ]
  },
  {
   "cell_type": "code",
   "execution_count": 13,
   "metadata": {},
   "outputs": [
    {
     "data": {
      "text/plain": [
       "<bound method Series.unique of 0            Mumbai\n",
       "1             Delhi\n",
       "2         Bangalore\n",
       "3         Hyderabad\n",
       "4         Ahmedabad\n",
       "           ...     \n",
       "1283    Nandaprayag\n",
       "1284     Kirtinagar\n",
       "1285      Kedarnath\n",
       "1286       Gangotri\n",
       "1287      Kumarganj\n",
       "Name: City, Length: 1288, dtype: object>"
      ]
     },
     "execution_count": 13,
     "metadata": {},
     "output_type": "execute_result"
    }
   ],
   "source": [
    "data['City'].unique"
   ]
  },
  {
   "cell_type": "code",
   "execution_count": 14,
   "metadata": {},
   "outputs": [],
   "source": [
    "g=data.groupby('City')"
   ]
  },
  {
   "cell_type": "code",
   "execution_count": 15,
   "metadata": {},
   "outputs": [
    {
     "data": {
      "text/html": [
       "<div>\n",
       "<style scoped>\n",
       "    .dataframe tbody tr th:only-of-type {\n",
       "        vertical-align: middle;\n",
       "    }\n",
       "\n",
       "    .dataframe tbody tr th {\n",
       "        vertical-align: top;\n",
       "    }\n",
       "\n",
       "    .dataframe thead th {\n",
       "        text-align: right;\n",
       "    }\n",
       "</style>\n",
       "<table border=\"1\" class=\"dataframe\">\n",
       "  <thead>\n",
       "    <tr style=\"text-align: right;\">\n",
       "      <th></th>\n",
       "      <th>City</th>\n",
       "      <th>State</th>\n",
       "      <th>Type</th>\n",
       "      <th>Population [2011]</th>\n",
       "      <th>Popuation [2001]</th>\n",
       "      <th>Sex Ratio</th>\n",
       "      <th>Median Age</th>\n",
       "      <th>Avg Temp</th>\n",
       "      <th>SWM</th>\n",
       "      <th>Toilets Avl</th>\n",
       "      <th>Water Purity</th>\n",
       "      <th>H Index</th>\n",
       "      <th>Female Population</th>\n",
       "      <th># of hospitals</th>\n",
       "      <th>Foreign Visitors</th>\n",
       "      <th>Covid Cases</th>\n",
       "    </tr>\n",
       "  </thead>\n",
       "  <tbody>\n",
       "    <tr>\n",
       "      <th>1</th>\n",
       "      <td>Delhi</td>\n",
       "      <td>Delhi</td>\n",
       "      <td>M.C</td>\n",
       "      <td>11007835.0</td>\n",
       "      <td>9879172.0</td>\n",
       "      <td>858.0</td>\n",
       "      <td>27.0</td>\n",
       "      <td>30.0</td>\n",
       "      <td>MEDIUM</td>\n",
       "      <td>215.0</td>\n",
       "      <td>196.0</td>\n",
       "      <td>0.920018</td>\n",
       "      <td>9444722.0</td>\n",
       "      <td>148.0</td>\n",
       "      <td>2379169.0</td>\n",
       "      <td>80188.0</td>\n",
       "    </tr>\n",
       "  </tbody>\n",
       "</table>\n",
       "</div>"
      ],
      "text/plain": [
       "    City  State Type  Population [2011]  Popuation [2001]  Sex Ratio  \\\n",
       "1  Delhi  Delhi  M.C         11007835.0         9879172.0      858.0   \n",
       "\n",
       "   Median Age  Avg Temp     SWM  Toilets Avl  Water Purity   H Index  \\\n",
       "1        27.0      30.0  MEDIUM        215.0         196.0  0.920018   \n",
       "\n",
       "   Female Population  # of hospitals  Foreign Visitors  Covid Cases  \n",
       "1          9444722.0           148.0         2379169.0      80188.0  "
      ]
     },
     "execution_count": 15,
     "metadata": {},
     "output_type": "execute_result"
    }
   ],
   "source": [
    "g.get_group('Delhi')"
   ]
  },
  {
   "cell_type": "code",
   "execution_count": 16,
   "metadata": {},
   "outputs": [],
   "source": [
    "gs=data.groupby('State')"
   ]
  },
  {
   "cell_type": "code",
   "execution_count": null,
   "metadata": {},
   "outputs": [],
   "source": [
    "\n"
   ]
  },
  {
   "cell_type": "code",
   "execution_count": 17,
   "metadata": {},
   "outputs": [
    {
     "data": {
      "text/html": [
       "<div>\n",
       "<style scoped>\n",
       "    .dataframe tbody tr th:only-of-type {\n",
       "        vertical-align: middle;\n",
       "    }\n",
       "\n",
       "    .dataframe tbody tr th {\n",
       "        vertical-align: top;\n",
       "    }\n",
       "\n",
       "    .dataframe thead th {\n",
       "        text-align: right;\n",
       "    }\n",
       "</style>\n",
       "<table border=\"1\" class=\"dataframe\">\n",
       "  <thead>\n",
       "    <tr style=\"text-align: right;\">\n",
       "      <th></th>\n",
       "      <th>City</th>\n",
       "      <th>State</th>\n",
       "      <th>Type</th>\n",
       "      <th>Population [2011]</th>\n",
       "      <th>Popuation [2001]</th>\n",
       "      <th>Sex Ratio</th>\n",
       "      <th>Median Age</th>\n",
       "      <th>Avg Temp</th>\n",
       "      <th>SWM</th>\n",
       "      <th>Toilets Avl</th>\n",
       "      <th>Water Purity</th>\n",
       "      <th>H Index</th>\n",
       "      <th>Female Population</th>\n",
       "      <th># of hospitals</th>\n",
       "      <th>Foreign Visitors</th>\n",
       "      <th>Covid Cases</th>\n",
       "    </tr>\n",
       "  </thead>\n",
       "  <tbody>\n",
       "    <tr>\n",
       "      <th>4</th>\n",
       "      <td>Ahmedabad</td>\n",
       "      <td>Gujarat</td>\n",
       "      <td>MPUA</td>\n",
       "      <td>5570585.0</td>\n",
       "      <td>3520085.0</td>\n",
       "      <td>852.0</td>\n",
       "      <td>29.0</td>\n",
       "      <td>25.0</td>\n",
       "      <td>LOW</td>\n",
       "      <td>227.0</td>\n",
       "      <td>109.0</td>\n",
       "      <td>0.847941</td>\n",
       "      <td>4746138.0</td>\n",
       "      <td>73.0</td>\n",
       "      <td>284973.0</td>\n",
       "      <td>33204.0</td>\n",
       "    </tr>\n",
       "    <tr>\n",
       "      <th>8</th>\n",
       "      <td>Surat</td>\n",
       "      <td>Gujarat</td>\n",
       "      <td>MPUA</td>\n",
       "      <td>4467797.0</td>\n",
       "      <td>2433835.0</td>\n",
       "      <td>NaN</td>\n",
       "      <td>27.0</td>\n",
       "      <td>26.0</td>\n",
       "      <td>NaN</td>\n",
       "      <td>NaN</td>\n",
       "      <td>NaN</td>\n",
       "      <td>0.809334</td>\n",
       "      <td>3797627.0</td>\n",
       "      <td>98.0</td>\n",
       "      <td>284973.0</td>\n",
       "      <td>23432.0</td>\n",
       "    </tr>\n",
       "    <tr>\n",
       "      <th>21</th>\n",
       "      <td>Vadodara</td>\n",
       "      <td>Gujarat</td>\n",
       "      <td>MPUA</td>\n",
       "      <td>1670806.0</td>\n",
       "      <td>1306227.0</td>\n",
       "      <td>840.0</td>\n",
       "      <td>26.0</td>\n",
       "      <td>29.0</td>\n",
       "      <td>LOW</td>\n",
       "      <td>112.0</td>\n",
       "      <td>156.0</td>\n",
       "      <td>0.263219</td>\n",
       "      <td>1403477.0</td>\n",
       "      <td>91.0</td>\n",
       "      <td>284973.0</td>\n",
       "      <td>9439.0</td>\n",
       "    </tr>\n",
       "    <tr>\n",
       "      <th>29</th>\n",
       "      <td>Rajkot</td>\n",
       "      <td>Gujarat</td>\n",
       "      <td>MPUA</td>\n",
       "      <td>1286678.0</td>\n",
       "      <td>967476.0</td>\n",
       "      <td>848.0</td>\n",
       "      <td>23.0</td>\n",
       "      <td>28.0</td>\n",
       "      <td>HIGH</td>\n",
       "      <td>129.0</td>\n",
       "      <td>NaN</td>\n",
       "      <td>NaN</td>\n",
       "      <td>NaN</td>\n",
       "      <td>NaN</td>\n",
       "      <td>NaN</td>\n",
       "      <td>6250.0</td>\n",
       "    </tr>\n",
       "    <tr>\n",
       "      <th>79</th>\n",
       "      <td>Bhavnagar</td>\n",
       "      <td>Gujarat</td>\n",
       "      <td>C-1T</td>\n",
       "      <td>593768.0</td>\n",
       "      <td>511085.0</td>\n",
       "      <td>846.0</td>\n",
       "      <td>24.0</td>\n",
       "      <td>28.0</td>\n",
       "      <td>LOW</td>\n",
       "      <td>117.0</td>\n",
       "      <td>166.0</td>\n",
       "      <td>0.679264</td>\n",
       "      <td>502328.0</td>\n",
       "      <td>81.0</td>\n",
       "      <td>284973.0</td>\n",
       "      <td>3317.0</td>\n",
       "    </tr>\n",
       "    <tr>\n",
       "      <th>...</th>\n",
       "      <td>...</td>\n",
       "      <td>...</td>\n",
       "      <td>...</td>\n",
       "      <td>...</td>\n",
       "      <td>...</td>\n",
       "      <td>...</td>\n",
       "      <td>...</td>\n",
       "      <td>...</td>\n",
       "      <td>...</td>\n",
       "      <td>...</td>\n",
       "      <td>...</td>\n",
       "      <td>...</td>\n",
       "      <td>...</td>\n",
       "      <td>...</td>\n",
       "      <td>...</td>\n",
       "      <td>...</td>\n",
       "    </tr>\n",
       "    <tr>\n",
       "      <th>1102</th>\n",
       "      <td>Rapar</td>\n",
       "      <td>Gujarat</td>\n",
       "      <td>M</td>\n",
       "      <td>23057.0</td>\n",
       "      <td>NaN</td>\n",
       "      <td>862.0</td>\n",
       "      <td>28.0</td>\n",
       "      <td>35.0</td>\n",
       "      <td>LOW</td>\n",
       "      <td>90.0</td>\n",
       "      <td>181.0</td>\n",
       "      <td>0.121426</td>\n",
       "      <td>19875.0</td>\n",
       "      <td>20.0</td>\n",
       "      <td>284973.0</td>\n",
       "      <td>NaN</td>\n",
       "    </tr>\n",
       "    <tr>\n",
       "      <th>1126</th>\n",
       "      <td>Songadh</td>\n",
       "      <td>Gujarat</td>\n",
       "      <td>M</td>\n",
       "      <td>22431.0</td>\n",
       "      <td>NaN</td>\n",
       "      <td>849.0</td>\n",
       "      <td>26.0</td>\n",
       "      <td>33.0</td>\n",
       "      <td>HIGH</td>\n",
       "      <td>69.0</td>\n",
       "      <td>105.0</td>\n",
       "      <td>0.294858</td>\n",
       "      <td>19044.0</td>\n",
       "      <td>11.0</td>\n",
       "      <td>284973.0</td>\n",
       "      <td>NaN</td>\n",
       "    </tr>\n",
       "    <tr>\n",
       "      <th>1170</th>\n",
       "      <td>Lathi</td>\n",
       "      <td>Gujarat</td>\n",
       "      <td>M</td>\n",
       "      <td>21173.0</td>\n",
       "      <td>NaN</td>\n",
       "      <td>868.0</td>\n",
       "      <td>27.0</td>\n",
       "      <td>26.0</td>\n",
       "      <td>LOW</td>\n",
       "      <td>66.0</td>\n",
       "      <td>160.0</td>\n",
       "      <td>0.258092</td>\n",
       "      <td>18378.0</td>\n",
       "      <td>17.0</td>\n",
       "      <td>284973.0</td>\n",
       "      <td>NaN</td>\n",
       "    </tr>\n",
       "    <tr>\n",
       "      <th>1238</th>\n",
       "      <td>Adalaj</td>\n",
       "      <td>Gujarat</td>\n",
       "      <td>C.T.</td>\n",
       "      <td>11957.0</td>\n",
       "      <td>NaN</td>\n",
       "      <td>867.0</td>\n",
       "      <td>26.0</td>\n",
       "      <td>30.0</td>\n",
       "      <td>HIGH</td>\n",
       "      <td>64.0</td>\n",
       "      <td>157.0</td>\n",
       "      <td>0.508475</td>\n",
       "      <td>10367.0</td>\n",
       "      <td>11.0</td>\n",
       "      <td>284973.0</td>\n",
       "      <td>NaN</td>\n",
       "    </tr>\n",
       "    <tr>\n",
       "      <th>1245</th>\n",
       "      <td>Chhapra</td>\n",
       "      <td>Gujarat</td>\n",
       "      <td>C.T</td>\n",
       "      <td>10147.0</td>\n",
       "      <td>NaN</td>\n",
       "      <td>847.0</td>\n",
       "      <td>24.0</td>\n",
       "      <td>30.0</td>\n",
       "      <td>MEDIUM</td>\n",
       "      <td>52.0</td>\n",
       "      <td>133.0</td>\n",
       "      <td>0.126519</td>\n",
       "      <td>8595.0</td>\n",
       "      <td>10.0</td>\n",
       "      <td>284973.0</td>\n",
       "      <td>NaN</td>\n",
       "    </tr>\n",
       "  </tbody>\n",
       "</table>\n",
       "<p>63 rows × 16 columns</p>\n",
       "</div>"
      ],
      "text/plain": [
       "           City    State  Type  Population [2011]  Popuation [2001]  \\\n",
       "4     Ahmedabad  Gujarat  MPUA          5570585.0         3520085.0   \n",
       "8         Surat  Gujarat  MPUA          4467797.0         2433835.0   \n",
       "21     Vadodara  Gujarat  MPUA          1670806.0         1306227.0   \n",
       "29       Rajkot  Gujarat  MPUA          1286678.0          967476.0   \n",
       "79    Bhavnagar  Gujarat  C-1T           593768.0          511085.0   \n",
       "...         ...      ...   ...                ...               ...   \n",
       "1102      Rapar  Gujarat     M            23057.0               NaN   \n",
       "1126    Songadh  Gujarat     M            22431.0               NaN   \n",
       "1170      Lathi  Gujarat     M            21173.0               NaN   \n",
       "1238     Adalaj  Gujarat  C.T.            11957.0               NaN   \n",
       "1245    Chhapra  Gujarat   C.T            10147.0               NaN   \n",
       "\n",
       "      Sex Ratio  Median Age  Avg Temp     SWM  Toilets Avl  Water Purity  \\\n",
       "4         852.0        29.0      25.0     LOW        227.0         109.0   \n",
       "8           NaN        27.0      26.0     NaN          NaN           NaN   \n",
       "21        840.0        26.0      29.0     LOW        112.0         156.0   \n",
       "29        848.0        23.0      28.0    HIGH        129.0           NaN   \n",
       "79        846.0        24.0      28.0     LOW        117.0         166.0   \n",
       "...         ...         ...       ...     ...          ...           ...   \n",
       "1102      862.0        28.0      35.0     LOW         90.0         181.0   \n",
       "1126      849.0        26.0      33.0    HIGH         69.0         105.0   \n",
       "1170      868.0        27.0      26.0     LOW         66.0         160.0   \n",
       "1238      867.0        26.0      30.0    HIGH         64.0         157.0   \n",
       "1245      847.0        24.0      30.0  MEDIUM         52.0         133.0   \n",
       "\n",
       "       H Index  Female Population  # of hospitals  Foreign Visitors  \\\n",
       "4     0.847941          4746138.0            73.0          284973.0   \n",
       "8     0.809334          3797627.0            98.0          284973.0   \n",
       "21    0.263219          1403477.0            91.0          284973.0   \n",
       "29         NaN                NaN             NaN               NaN   \n",
       "79    0.679264           502328.0            81.0          284973.0   \n",
       "...        ...                ...             ...               ...   \n",
       "1102  0.121426            19875.0            20.0          284973.0   \n",
       "1126  0.294858            19044.0            11.0          284973.0   \n",
       "1170  0.258092            18378.0            17.0          284973.0   \n",
       "1238  0.508475            10367.0            11.0          284973.0   \n",
       "1245  0.126519             8595.0            10.0          284973.0   \n",
       "\n",
       "      Covid Cases  \n",
       "4         33204.0  \n",
       "8         23432.0  \n",
       "21         9439.0  \n",
       "29         6250.0  \n",
       "79         3317.0  \n",
       "...           ...  \n",
       "1102          NaN  \n",
       "1126          NaN  \n",
       "1170          NaN  \n",
       "1238          NaN  \n",
       "1245          NaN  \n",
       "\n",
       "[63 rows x 16 columns]"
      ]
     },
     "execution_count": 17,
     "metadata": {},
     "output_type": "execute_result"
    }
   ],
   "source": [
    "gs.get_group('Gujarat')"
   ]
  },
  {
   "cell_type": "code",
   "execution_count": 18,
   "metadata": {},
   "outputs": [],
   "source": [
    "st=data['State'].tolist()"
   ]
  },
  {
   "cell_type": "code",
   "execution_count": 19,
   "metadata": {},
   "outputs": [],
   "source": [
    "st=set(st)"
   ]
  },
  {
   "cell_type": "code",
   "execution_count": 20,
   "metadata": {},
   "outputs": [
    {
     "data": {
      "text/plain": [
       "{'Andaman and Nicobar Islands',\n",
       " 'Andhra Pradesh',\n",
       " 'Andhra pradesh',\n",
       " 'Arunachal Pradesh',\n",
       " 'Assam',\n",
       " 'Bihar',\n",
       " 'Chandigarh',\n",
       " 'Chhattisgarh',\n",
       " 'Dadra and Nagar Haveli',\n",
       " 'Delhi',\n",
       " 'Goa',\n",
       " 'Gujarat',\n",
       " 'Haryana',\n",
       " 'Himachal Pradesh',\n",
       " 'Jammu and Kashmir',\n",
       " 'Jharkhand',\n",
       " 'Karnataka',\n",
       " 'Kerala',\n",
       " 'Madhya Pradesh',\n",
       " 'Maharashtra',\n",
       " 'Manipur',\n",
       " 'Meghalaya',\n",
       " 'Mizoram',\n",
       " 'Nagaland',\n",
       " 'Odisha',\n",
       " 'Puducherry',\n",
       " 'Punjab',\n",
       " 'Rajasthan',\n",
       " 'Sikkim',\n",
       " 'Tamil Nadu',\n",
       " 'Tamil nadu',\n",
       " 'Telangana',\n",
       " 'Tripura',\n",
       " 'Uttar Pradesh',\n",
       " 'Uttarakhand',\n",
       " 'West Bengal'}"
      ]
     },
     "execution_count": 20,
     "metadata": {},
     "output_type": "execute_result"
    }
   ],
   "source": [
    "st"
   ]
  },
  {
   "cell_type": "code",
   "execution_count": 21,
   "metadata": {},
   "outputs": [
    {
     "data": {
      "text/plain": [
       "36"
      ]
     },
     "execution_count": 21,
     "metadata": {},
     "output_type": "execute_result"
    }
   ],
   "source": [
    "len(st)"
   ]
  },
  {
   "cell_type": "code",
   "execution_count": 22,
   "metadata": {},
   "outputs": [],
   "source": [
    "st=list(st)"
   ]
  },
  {
   "cell_type": "code",
   "execution_count": 23,
   "metadata": {},
   "outputs": [
    {
     "data": {
      "text/plain": [
       "36"
      ]
     },
     "execution_count": 23,
     "metadata": {},
     "output_type": "execute_result"
    }
   ],
   "source": [
    "len(st)"
   ]
  },
  {
   "cell_type": "code",
   "execution_count": 24,
   "metadata": {},
   "outputs": [
    {
     "name": "stdout",
     "output_type": "stream",
     "text": [
      "City                 0\n",
      "State                0\n",
      "Type                 0\n",
      "Population [2011]    0\n",
      "Popuation [2001]     2\n",
      "Sex Ratio            0\n",
      "Median Age           0\n",
      "Avg Temp             0\n",
      "SWM                  0\n",
      "Toilets Avl          0\n",
      "Water Purity         1\n",
      "H Index              1\n",
      "Female Population    1\n",
      "# of hospitals       0\n",
      "Foreign Visitors     0\n",
      "Covid Cases          1\n",
      "dtype: int64\n",
      "City                  0\n",
      "State                 0\n",
      "Type                  0\n",
      "Population [2011]     3\n",
      "Popuation [2001]     48\n",
      "Sex Ratio             1\n",
      "Median Age            0\n",
      "Avg Temp              0\n",
      "SWM                   1\n",
      "Toilets Avl           3\n",
      "Water Purity          5\n",
      "H Index               3\n",
      "Female Population     4\n",
      "# of hospitals        1\n",
      "Foreign Visitors      5\n",
      "Covid Cases          22\n",
      "dtype: int64\n",
      "City                 0\n",
      "State                0\n",
      "Type                 0\n",
      "Population [2011]    0\n",
      "Popuation [2001]     3\n",
      "Sex Ratio            0\n",
      "Median Age           0\n",
      "Avg Temp             0\n",
      "SWM                  0\n",
      "Toilets Avl          0\n",
      "Water Purity         0\n",
      "H Index              0\n",
      "Female Population    0\n",
      "# of hospitals       0\n",
      "Foreign Visitors     1\n",
      "Covid Cases          2\n",
      "dtype: int64\n",
      "City                 0\n",
      "State                0\n",
      "Type                 0\n",
      "Population [2011]    0\n",
      "Popuation [2001]     1\n",
      "Sex Ratio            0\n",
      "Median Age           0\n",
      "Avg Temp             0\n",
      "SWM                  0\n",
      "Toilets Avl          0\n",
      "Water Purity         0\n",
      "H Index              0\n",
      "Female Population    0\n",
      "# of hospitals       0\n",
      "Foreign Visitors     0\n",
      "Covid Cases          0\n",
      "dtype: int64\n",
      "City                  0\n",
      "State                 0\n",
      "Type                  0\n",
      "Population [2011]     5\n",
      "Popuation [2001]     74\n",
      "Sex Ratio             1\n",
      "Median Age            0\n",
      "Avg Temp              0\n",
      "SWM                   0\n",
      "Toilets Avl           3\n",
      "Water Purity         12\n",
      "H Index               9\n",
      "Female Population     9\n",
      "# of hospitals        0\n",
      "Foreign Visitors      6\n",
      "Covid Cases          14\n",
      "dtype: int64\n",
      "City                 0\n",
      "State                0\n",
      "Type                 0\n",
      "Population [2011]    0\n",
      "Popuation [2001]     6\n",
      "Sex Ratio            0\n",
      "Median Age           0\n",
      "Avg Temp             0\n",
      "SWM                  0\n",
      "Toilets Avl          0\n",
      "Water Purity         0\n",
      "H Index              0\n",
      "Female Population    0\n",
      "# of hospitals       0\n",
      "Foreign Visitors     0\n",
      "Covid Cases          6\n",
      "dtype: int64\n",
      "City                  0\n",
      "State                 0\n",
      "Type                  0\n",
      "Population [2011]     0\n",
      "Popuation [2001]     59\n",
      "Sex Ratio             0\n",
      "Median Age            0\n",
      "Avg Temp              0\n",
      "SWM                   0\n",
      "Toilets Avl           6\n",
      "Water Purity          7\n",
      "H Index               7\n",
      "Female Population     7\n",
      "# of hospitals        6\n",
      "Foreign Visitors      7\n",
      "Covid Cases          51\n",
      "dtype: int64\n",
      "City                 0\n",
      "State                0\n",
      "Type                 0\n",
      "Population [2011]    0\n",
      "Popuation [2001]     3\n",
      "Sex Ratio            0\n",
      "Median Age           0\n",
      "Avg Temp             0\n",
      "SWM                  0\n",
      "Toilets Avl          0\n",
      "Water Purity         0\n",
      "H Index              0\n",
      "Female Population    0\n",
      "# of hospitals       0\n",
      "Foreign Visitors     0\n",
      "Covid Cases          0\n",
      "dtype: int64\n",
      "City                 0\n",
      "State                0\n",
      "Type                 0\n",
      "Population [2011]    0\n",
      "Popuation [2001]     2\n",
      "Sex Ratio            0\n",
      "Median Age           0\n",
      "Avg Temp             0\n",
      "SWM                  0\n",
      "Toilets Avl          0\n",
      "Water Purity         0\n",
      "H Index              0\n",
      "Female Population    0\n",
      "# of hospitals       0\n",
      "Foreign Visitors     0\n",
      "Covid Cases          0\n",
      "dtype: int64\n",
      "City                  0\n",
      "State                 0\n",
      "Type                  0\n",
      "Population [2011]     4\n",
      "Popuation [2001]     50\n",
      "Sex Ratio             0\n",
      "Median Age            0\n",
      "Avg Temp              0\n",
      "SWM                   0\n",
      "Toilets Avl           2\n",
      "Water Purity          9\n",
      "H Index               7\n",
      "Female Population     7\n",
      "# of hospitals        0\n",
      "Foreign Visitors      0\n",
      "Covid Cases          18\n",
      "dtype: int64\n",
      "City                 0\n",
      "State                0\n",
      "Type                 0\n",
      "Population [2011]    0\n",
      "Popuation [2001]     1\n",
      "Sex Ratio            0\n",
      "Median Age           0\n",
      "Avg Temp             0\n",
      "SWM                  0\n",
      "Toilets Avl          0\n",
      "Water Purity         0\n",
      "H Index              0\n",
      "Female Population    0\n",
      "# of hospitals       0\n",
      "Foreign Visitors     0\n",
      "Covid Cases          1\n",
      "dtype: int64\n",
      "City                  0\n",
      "State                 0\n",
      "Type                  1\n",
      "Population [2011]     3\n",
      "Popuation [2001]     41\n",
      "Sex Ratio             0\n",
      "Median Age            0\n",
      "Avg Temp              0\n",
      "SWM                   0\n",
      "Toilets Avl           2\n",
      "Water Purity         16\n",
      "H Index              16\n",
      "Female Population    15\n",
      "# of hospitals        1\n",
      "Foreign Visitors      2\n",
      "Covid Cases          13\n",
      "dtype: int64\n",
      "City                 0\n",
      "State                0\n",
      "Type                 0\n",
      "Population [2011]    0\n",
      "Popuation [2001]     0\n",
      "Sex Ratio            0\n",
      "Median Age           0\n",
      "Avg Temp             0\n",
      "SWM                  0\n",
      "Toilets Avl          0\n",
      "Water Purity         0\n",
      "H Index              0\n",
      "Female Population    0\n",
      "# of hospitals       0\n",
      "Foreign Visitors     0\n",
      "Covid Cases          0\n",
      "dtype: int64\n",
      "City                 0\n",
      "State                0\n",
      "Type                 0\n",
      "Population [2011]    0\n",
      "Popuation [2001]     2\n",
      "Sex Ratio            0\n",
      "Median Age           0\n",
      "Avg Temp             0\n",
      "SWM                  0\n",
      "Toilets Avl          0\n",
      "Water Purity         0\n",
      "H Index              0\n",
      "Female Population    0\n",
      "# of hospitals       0\n",
      "Foreign Visitors     0\n",
      "Covid Cases          1\n",
      "dtype: int64\n",
      "City                  0\n",
      "State                 0\n",
      "Type                  0\n",
      "Population [2011]     5\n",
      "Popuation [2001]     89\n",
      "Sex Ratio             1\n",
      "Median Age            0\n",
      "Avg Temp              0\n",
      "SWM                   2\n",
      "Toilets Avl           2\n",
      "Water Purity         12\n",
      "H Index              10\n",
      "Female Population    10\n",
      "# of hospitals        3\n",
      "Foreign Visitors     11\n",
      "Covid Cases          56\n",
      "dtype: int64\n",
      "City                  0\n",
      "State                 0\n",
      "Type                  0\n",
      "Population [2011]     3\n",
      "Popuation [2001]     22\n",
      "Sex Ratio             1\n",
      "Median Age            0\n",
      "Avg Temp              0\n",
      "SWM                   1\n",
      "Toilets Avl           3\n",
      "Water Purity          4\n",
      "H Index               3\n",
      "Female Population     3\n",
      "# of hospitals        1\n",
      "Foreign Visitors      2\n",
      "Covid Cases           9\n",
      "dtype: int64\n",
      "City                  0\n",
      "State                 0\n",
      "Type                  0\n",
      "Population [2011]     2\n",
      "Popuation [2001]     49\n",
      "Sex Ratio             2\n",
      "Median Age            0\n",
      "Avg Temp              0\n",
      "SWM                   1\n",
      "Toilets Avl           2\n",
      "Water Purity         10\n",
      "H Index               8\n",
      "Female Population     8\n",
      "# of hospitals        1\n",
      "Foreign Visitors      5\n",
      "Covid Cases          22\n",
      "dtype: int64\n",
      "City                  0\n",
      "State                 0\n",
      "Type                  0\n",
      "Population [2011]     1\n",
      "Popuation [2001]     19\n",
      "Sex Ratio             0\n",
      "Median Age            0\n",
      "Avg Temp              0\n",
      "SWM                   0\n",
      "Toilets Avl           0\n",
      "Water Purity          5\n",
      "H Index               5\n",
      "Female Population     5\n",
      "# of hospitals        1\n",
      "Foreign Visitors      3\n",
      "Covid Cases           7\n",
      "dtype: int64\n",
      "City                  0\n",
      "State                 0\n",
      "Type                  0\n",
      "Population [2011]     1\n",
      "Popuation [2001]     22\n",
      "Sex Ratio             1\n",
      "Median Age            0\n",
      "Avg Temp              0\n",
      "SWM                   0\n",
      "Toilets Avl           0\n",
      "Water Purity          5\n",
      "H Index               5\n",
      "Female Population     6\n",
      "# of hospitals        1\n",
      "Foreign Visitors      6\n",
      "Covid Cases          12\n",
      "dtype: int64\n",
      "City                  0\n",
      "State                 0\n",
      "Type                  0\n",
      "Population [2011]     3\n",
      "Popuation [2001]     62\n",
      "Sex Ratio             0\n",
      "Median Age            0\n",
      "Avg Temp              0\n",
      "SWM                   1\n",
      "Toilets Avl           5\n",
      "Water Purity         12\n",
      "H Index               9\n",
      "Female Population     8\n",
      "# of hospitals        2\n",
      "Foreign Visitors     11\n",
      "Covid Cases          37\n",
      "dtype: int64\n",
      "City                 0\n",
      "State                0\n",
      "Type                 0\n",
      "Population [2011]    0\n",
      "Popuation [2001]     0\n",
      "Sex Ratio            0\n",
      "Median Age           0\n",
      "Avg Temp             0\n",
      "SWM                  0\n",
      "Toilets Avl          0\n",
      "Water Purity         0\n",
      "H Index              0\n",
      "Female Population    0\n",
      "# of hospitals       0\n",
      "Foreign Visitors     0\n",
      "Covid Cases          0\n",
      "dtype: int64\n",
      "City                 0\n",
      "State                0\n",
      "Type                 0\n",
      "Population [2011]    0\n",
      "Popuation [2001]     0\n",
      "Sex Ratio            0\n",
      "Median Age           0\n",
      "Avg Temp             0\n",
      "SWM                  0\n",
      "Toilets Avl          0\n",
      "Water Purity         0\n",
      "H Index              0\n",
      "Female Population    0\n",
      "# of hospitals       0\n",
      "Foreign Visitors     5\n",
      "Covid Cases          0\n",
      "dtype: int64\n",
      "City                  0\n",
      "State                 0\n",
      "Type                  0\n",
      "Population [2011]     5\n",
      "Popuation [2001]     94\n",
      "Sex Ratio             1\n",
      "Median Age            0\n",
      "Avg Temp              0\n",
      "SWM                   1\n",
      "Toilets Avl           2\n",
      "Water Purity         16\n",
      "H Index              15\n",
      "Female Population    15\n",
      "# of hospitals        2\n",
      "Foreign Visitors      8\n",
      "Covid Cases          51\n",
      "dtype: int64\n",
      "City                 0\n",
      "State                0\n",
      "Type                 0\n",
      "Population [2011]    0\n",
      "Popuation [2001]     1\n",
      "Sex Ratio            0\n",
      "Median Age           0\n",
      "Avg Temp             0\n",
      "SWM                  0\n",
      "Toilets Avl          0\n",
      "Water Purity         0\n",
      "H Index              0\n",
      "Female Population    0\n",
      "# of hospitals       0\n",
      "Foreign Visitors     0\n",
      "Covid Cases          1\n",
      "dtype: int64\n",
      "City                 0\n",
      "State                0\n",
      "Type                 0\n",
      "Population [2011]    1\n",
      "Popuation [2001]     5\n",
      "Sex Ratio            0\n",
      "Median Age           0\n",
      "Avg Temp             0\n",
      "SWM                  0\n",
      "Toilets Avl          1\n",
      "Water Purity         3\n",
      "H Index              3\n",
      "Female Population    2\n",
      "# of hospitals       1\n",
      "Foreign Visitors     1\n",
      "Covid Cases          1\n",
      "dtype: int64\n",
      "City                  0\n",
      "State                 0\n",
      "Type                  0\n",
      "Population [2011]     4\n",
      "Popuation [2001]     92\n",
      "Sex Ratio             1\n",
      "Median Age            0\n",
      "Avg Temp              0\n",
      "SWM                   2\n",
      "Toilets Avl           6\n",
      "Water Purity         18\n",
      "H Index              15\n",
      "Female Population    14\n",
      "# of hospitals        5\n",
      "Foreign Visitors      7\n",
      "Covid Cases          51\n",
      "dtype: int64\n",
      "City                  0\n",
      "State                 0\n",
      "Type                  0\n",
      "Population [2011]     1\n",
      "Popuation [2001]     10\n",
      "Sex Ratio             0\n",
      "Median Age            0\n",
      "Avg Temp              0\n",
      "SWM                   0\n",
      "Toilets Avl           0\n",
      "Water Purity          3\n",
      "H Index               3\n",
      "Female Population     3\n",
      "# of hospitals        0\n",
      "Foreign Visitors      1\n",
      "Covid Cases           4\n",
      "dtype: int64\n",
      "City                  0\n",
      "State                 0\n",
      "Type                  0\n",
      "Population [2011]     3\n",
      "Popuation [2001]     27\n",
      "Sex Ratio             2\n",
      "Median Age            0\n",
      "Avg Temp              0\n",
      "SWM                   0\n",
      "Toilets Avl           0\n",
      "Water Purity          6\n",
      "H Index               6\n",
      "Female Population     6\n",
      "# of hospitals        0\n",
      "Foreign Visitors      1\n",
      "Covid Cases           6\n",
      "dtype: int64\n",
      "City                  0\n",
      "State                 0\n",
      "Type                  0\n",
      "Population [2011]     3\n",
      "Popuation [2001]     31\n",
      "Sex Ratio             2\n",
      "Median Age            0\n",
      "Avg Temp              0\n",
      "SWM                   0\n",
      "Toilets Avl           1\n",
      "Water Purity         10\n",
      "H Index               9\n",
      "Female Population    10\n",
      "# of hospitals        1\n",
      "Foreign Visitors      3\n",
      "Covid Cases           5\n",
      "dtype: int64\n",
      "City                 0\n",
      "State                0\n",
      "Type                 0\n",
      "Population [2011]    0\n",
      "Popuation [2001]     4\n",
      "Sex Ratio            0\n",
      "Median Age           0\n",
      "Avg Temp             0\n",
      "SWM                  0\n",
      "Toilets Avl          1\n",
      "Water Purity         1\n",
      "H Index              0\n",
      "Female Population    0\n",
      "# of hospitals       0\n",
      "Foreign Visitors     0\n",
      "Covid Cases          4\n",
      "dtype: int64\n",
      "City                 0\n",
      "State                0\n",
      "Type                 0\n",
      "Population [2011]    0\n",
      "Popuation [2001]     5\n",
      "Sex Ratio            0\n",
      "Median Age           0\n",
      "Avg Temp             0\n",
      "SWM                  0\n",
      "Toilets Avl          0\n",
      "Water Purity         0\n",
      "H Index              0\n",
      "Female Population    0\n",
      "# of hospitals       0\n",
      "Foreign Visitors     0\n",
      "Covid Cases          3\n",
      "dtype: int64\n",
      "City                 0\n",
      "State                0\n",
      "Type                 0\n",
      "Population [2011]    0\n",
      "Popuation [2001]     3\n",
      "Sex Ratio            0\n",
      "Median Age           0\n",
      "Avg Temp             0\n",
      "SWM                  0\n",
      "Toilets Avl          0\n",
      "Water Purity         1\n",
      "H Index              1\n",
      "Female Population    3\n",
      "# of hospitals       2\n",
      "Foreign Visitors     1\n",
      "Covid Cases          0\n",
      "dtype: int64\n",
      "City                  0\n",
      "State                 0\n",
      "Type                  0\n",
      "Population [2011]     1\n",
      "Popuation [2001]     68\n",
      "Sex Ratio             0\n",
      "Median Age            0\n",
      "Avg Temp              0\n",
      "SWM                   2\n",
      "Toilets Avl           2\n",
      "Water Purity          4\n",
      "H Index               6\n",
      "Female Population     6\n",
      "# of hospitals        1\n",
      "Foreign Visitors      5\n",
      "Covid Cases          48\n",
      "dtype: int64\n",
      "City                  0\n",
      "State                 0\n",
      "Type                  0\n",
      "Population [2011]     6\n",
      "Popuation [2001]     68\n",
      "Sex Ratio             2\n",
      "Median Age            0\n",
      "Avg Temp              0\n",
      "SWM                   0\n",
      "Toilets Avl           3\n",
      "Water Purity         10\n",
      "H Index               9\n",
      "Female Population     9\n",
      "# of hospitals        2\n",
      "Foreign Visitors      4\n",
      "Covid Cases          38\n",
      "dtype: int64\n",
      "City                  0\n",
      "State                 0\n",
      "Type                  1\n",
      "Population [2011]     0\n",
      "Popuation [2001]     28\n",
      "Sex Ratio             0\n",
      "Median Age            0\n",
      "Avg Temp              0\n",
      "SWM                   2\n",
      "Toilets Avl           4\n",
      "Water Purity          7\n",
      "H Index               5\n",
      "Female Population     5\n",
      "# of hospitals        1\n",
      "Foreign Visitors     12\n",
      "Covid Cases          15\n",
      "dtype: int64\n",
      "City                 0\n",
      "State                0\n",
      "Type                 0\n",
      "Population [2011]    0\n",
      "Popuation [2001]     2\n",
      "Sex Ratio            0\n",
      "Median Age           0\n",
      "Avg Temp             0\n",
      "SWM                  0\n",
      "Toilets Avl          0\n",
      "Water Purity         0\n",
      "H Index              0\n",
      "Female Population    0\n",
      "# of hospitals       0\n",
      "Foreign Visitors     0\n",
      "Covid Cases          2\n",
      "dtype: int64\n"
     ]
    }
   ],
   "source": [
    "for i in st:\n",
    "    ps=gs.get_group(i)\n",
    "    print(ps.isnull().sum())\n",
    "    "
   ]
  },
  {
   "cell_type": "code",
   "execution_count": 25,
   "metadata": {},
   "outputs": [
    {
     "data": {
      "text/plain": [
       "City                   0\n",
       "State                  0\n",
       "Type                   2\n",
       "Population [2011]     54\n",
       "Popuation [2001]     993\n",
       "Sex Ratio             15\n",
       "Median Age             0\n",
       "Avg Temp               0\n",
       "SWM                   13\n",
       "Toilets Avl           48\n",
       "Water Purity         177\n",
       "H Index              155\n",
       "Female Population    156\n",
       "# of hospitals        32\n",
       "Foreign Visitors     107\n",
       "Covid Cases          501\n",
       "dtype: int64"
      ]
     },
     "execution_count": 25,
     "metadata": {},
     "output_type": "execute_result"
    }
   ],
   "source": [
    "data.isnull().sum()"
   ]
  },
  {
   "cell_type": "code",
   "execution_count": null,
   "metadata": {},
   "outputs": [],
   "source": []
  },
  {
   "cell_type": "code",
   "execution_count": null,
   "metadata": {},
   "outputs": [],
   "source": []
  },
  {
   "cell_type": "code",
   "execution_count": 26,
   "metadata": {},
   "outputs": [
    {
     "data": {
      "text/plain": [
       "City                   0\n",
       "State                  0\n",
       "Type                   2\n",
       "Population [2011]     54\n",
       "Popuation [2001]     993\n",
       "Sex Ratio             15\n",
       "Median Age             0\n",
       "Avg Temp               0\n",
       "SWM                   13\n",
       "Toilets Avl           48\n",
       "Water Purity         177\n",
       "H Index              155\n",
       "Female Population    156\n",
       "# of hospitals        32\n",
       "Foreign Visitors     107\n",
       "Covid Cases          501\n",
       "dtype: int64"
      ]
     },
     "execution_count": 26,
     "metadata": {},
     "output_type": "execute_result"
    }
   ],
   "source": [
    "data.isnull().sum()"
   ]
  },
  {
   "cell_type": "code",
   "execution_count": null,
   "metadata": {},
   "outputs": [],
   "source": []
  },
  {
   "cell_type": "code",
   "execution_count": 27,
   "metadata": {},
   "outputs": [
    {
     "data": {
      "text/html": [
       "<div>\n",
       "<style scoped>\n",
       "    .dataframe tbody tr th:only-of-type {\n",
       "        vertical-align: middle;\n",
       "    }\n",
       "\n",
       "    .dataframe tbody tr th {\n",
       "        vertical-align: top;\n",
       "    }\n",
       "\n",
       "    .dataframe thead th {\n",
       "        text-align: right;\n",
       "    }\n",
       "</style>\n",
       "<table border=\"1\" class=\"dataframe\">\n",
       "  <thead>\n",
       "    <tr style=\"text-align: right;\">\n",
       "      <th></th>\n",
       "      <th>City</th>\n",
       "      <th>State</th>\n",
       "      <th>Type</th>\n",
       "      <th>Population [2011]</th>\n",
       "      <th>Popuation [2001]</th>\n",
       "      <th>Sex Ratio</th>\n",
       "      <th>Median Age</th>\n",
       "      <th>Avg Temp</th>\n",
       "      <th>SWM</th>\n",
       "      <th>Toilets Avl</th>\n",
       "      <th>Water Purity</th>\n",
       "      <th>H Index</th>\n",
       "      <th>Female Population</th>\n",
       "      <th># of hospitals</th>\n",
       "      <th>Foreign Visitors</th>\n",
       "      <th>Covid Cases</th>\n",
       "    </tr>\n",
       "  </thead>\n",
       "  <tbody>\n",
       "    <tr>\n",
       "      <th>0</th>\n",
       "      <td>Mumbai</td>\n",
       "      <td>Maharashtra</td>\n",
       "      <td>M.C</td>\n",
       "      <td>12442373.0</td>\n",
       "      <td>11978450.0</td>\n",
       "      <td>878.0</td>\n",
       "      <td>23.0</td>\n",
       "      <td>32.0</td>\n",
       "      <td>MEDIUM</td>\n",
       "      <td>219.0</td>\n",
       "      <td>150.0</td>\n",
       "      <td>0.700440</td>\n",
       "      <td>10924403.0</td>\n",
       "      <td>159.0</td>\n",
       "      <td>4408916.0</td>\n",
       "      <td>163115.0</td>\n",
       "    </tr>\n",
       "    <tr>\n",
       "      <th>1</th>\n",
       "      <td>Delhi</td>\n",
       "      <td>Delhi</td>\n",
       "      <td>M.C</td>\n",
       "      <td>11007835.0</td>\n",
       "      <td>9879172.0</td>\n",
       "      <td>858.0</td>\n",
       "      <td>27.0</td>\n",
       "      <td>30.0</td>\n",
       "      <td>MEDIUM</td>\n",
       "      <td>215.0</td>\n",
       "      <td>196.0</td>\n",
       "      <td>0.920018</td>\n",
       "      <td>9444722.0</td>\n",
       "      <td>148.0</td>\n",
       "      <td>2379169.0</td>\n",
       "      <td>80188.0</td>\n",
       "    </tr>\n",
       "    <tr>\n",
       "      <th>2</th>\n",
       "      <td>Bangalore</td>\n",
       "      <td>Karnataka</td>\n",
       "      <td>MPUA</td>\n",
       "      <td>8436675.0</td>\n",
       "      <td>4301326.0</td>\n",
       "      <td>936.0</td>\n",
       "      <td>28.0</td>\n",
       "      <td>37.0</td>\n",
       "      <td>HIGH</td>\n",
       "      <td>212.0</td>\n",
       "      <td>102.0</td>\n",
       "      <td>0.097085</td>\n",
       "      <td>7896728.0</td>\n",
       "      <td>123.0</td>\n",
       "      <td>636502.0</td>\n",
       "      <td>141000.0</td>\n",
       "    </tr>\n",
       "    <tr>\n",
       "      <th>3</th>\n",
       "      <td>Hyderabad</td>\n",
       "      <td>Telangana</td>\n",
       "      <td>MPUA</td>\n",
       "      <td>6809970.0</td>\n",
       "      <td>3637483.0</td>\n",
       "      <td>930.0</td>\n",
       "      <td>23.0</td>\n",
       "      <td>31.0</td>\n",
       "      <td>MEDIUM</td>\n",
       "      <td>217.0</td>\n",
       "      <td>118.0</td>\n",
       "      <td>0.827744</td>\n",
       "      <td>6333272.0</td>\n",
       "      <td>110.0</td>\n",
       "      <td>126078.0</td>\n",
       "      <td>55123.0</td>\n",
       "    </tr>\n",
       "  </tbody>\n",
       "</table>\n",
       "</div>"
      ],
      "text/plain": [
       "        City        State  Type  Population [2011]  Popuation [2001]  \\\n",
       "0     Mumbai  Maharashtra   M.C         12442373.0        11978450.0   \n",
       "1      Delhi        Delhi   M.C         11007835.0         9879172.0   \n",
       "2  Bangalore    Karnataka  MPUA          8436675.0         4301326.0   \n",
       "3  Hyderabad    Telangana  MPUA          6809970.0         3637483.0   \n",
       "\n",
       "   Sex Ratio  Median Age  Avg Temp     SWM  Toilets Avl  Water Purity  \\\n",
       "0      878.0        23.0      32.0  MEDIUM        219.0         150.0   \n",
       "1      858.0        27.0      30.0  MEDIUM        215.0         196.0   \n",
       "2      936.0        28.0      37.0    HIGH        212.0         102.0   \n",
       "3      930.0        23.0      31.0  MEDIUM        217.0         118.0   \n",
       "\n",
       "    H Index  Female Population  # of hospitals  Foreign Visitors  Covid Cases  \n",
       "0  0.700440         10924403.0           159.0         4408916.0     163115.0  \n",
       "1  0.920018          9444722.0           148.0         2379169.0      80188.0  \n",
       "2  0.097085          7896728.0           123.0          636502.0     141000.0  \n",
       "3  0.827744          6333272.0           110.0          126078.0      55123.0  "
      ]
     },
     "execution_count": 27,
     "metadata": {},
     "output_type": "execute_result"
    }
   ],
   "source": [
    "data.head(4)"
   ]
  },
  {
   "cell_type": "code",
   "execution_count": null,
   "metadata": {},
   "outputs": [],
   "source": []
  },
  {
   "cell_type": "code",
   "execution_count": null,
   "metadata": {},
   "outputs": [],
   "source": [
    "\n",
    "  \n"
   ]
  },
  {
   "cell_type": "code",
   "execution_count": 28,
   "metadata": {},
   "outputs": [
    {
     "name": "stdout",
     "output_type": "stream",
     "text": [
      "151.0\n"
     ]
    }
   ],
   "source": [
    "#for water purity\n",
    "med = data['Water Purity'].median()\n",
    "print(med)\n",
    "data['Water Purity'] = data['Water Purity'].fillna(med)"
   ]
  },
  {
   "cell_type": "code",
   "execution_count": 29,
   "metadata": {},
   "outputs": [
    {
     "name": "stdout",
     "output_type": "stream",
     "text": [
      "0.5073631387699299\n"
     ]
    }
   ],
   "source": [
    "# for H-Index\n",
    "\n",
    "med = data['H Index'].median()\n",
    "print(med)\n",
    "data['H Index'] = data['H Index'].fillna(med)"
   ]
  },
  {
   "cell_type": "code",
   "execution_count": 30,
   "metadata": {},
   "outputs": [
    {
     "data": {
      "text/plain": [
       "['Meghalaya',\n",
       " 'Bihar',\n",
       " 'Manipur',\n",
       " 'Andaman and Nicobar Islands',\n",
       " 'Andhra Pradesh',\n",
       " 'Tripura',\n",
       " 'Uttarakhand',\n",
       " 'Goa',\n",
       " 'Tamil nadu',\n",
       " 'Kerala',\n",
       " 'Dadra and Nagar Haveli',\n",
       " 'Punjab',\n",
       " 'Sikkim',\n",
       " 'Mizoram',\n",
       " 'Uttar Pradesh',\n",
       " 'Assam',\n",
       " 'Gujarat',\n",
       " 'Jharkhand',\n",
       " 'Haryana',\n",
       " 'Madhya Pradesh',\n",
       " 'Chandigarh',\n",
       " 'Delhi',\n",
       " 'Tamil Nadu',\n",
       " 'Andhra pradesh',\n",
       " 'Jammu and Kashmir',\n",
       " 'Maharashtra',\n",
       " 'Chhattisgarh',\n",
       " 'Odisha',\n",
       " 'Telangana',\n",
       " 'Himachal Pradesh',\n",
       " 'Nagaland',\n",
       " 'Puducherry',\n",
       " 'Rajasthan',\n",
       " 'Karnataka',\n",
       " 'West Bengal',\n",
       " 'Arunachal Pradesh']"
      ]
     },
     "execution_count": 30,
     "metadata": {},
     "output_type": "execute_result"
    }
   ],
   "source": [
    "st"
   ]
  },
  {
   "cell_type": "code",
   "execution_count": 31,
   "metadata": {},
   "outputs": [
    {
     "data": {
      "text/plain": [
       "0       159.0\n",
       "1       148.0\n",
       "2       123.0\n",
       "3       110.0\n",
       "4        73.0\n",
       "        ...  \n",
       "1283      4.0\n",
       "1284      6.0\n",
       "1285      6.0\n",
       "1286      8.0\n",
       "1287      6.0\n",
       "Name: # of hospitals, Length: 1288, dtype: float64"
      ]
     },
     "execution_count": 31,
     "metadata": {},
     "output_type": "execute_result"
    }
   ],
   "source": [
    "data['# of hospitals']\n"
   ]
  },
  {
   "cell_type": "code",
   "execution_count": 32,
   "metadata": {},
   "outputs": [],
   "source": [
    "data.rename(columns = {'# of hospitals': 'hospitals'}, inplace = True)"
   ]
  },
  {
   "cell_type": "code",
   "execution_count": 33,
   "metadata": {},
   "outputs": [
    {
     "data": {
      "text/html": [
       "<div>\n",
       "<style scoped>\n",
       "    .dataframe tbody tr th:only-of-type {\n",
       "        vertical-align: middle;\n",
       "    }\n",
       "\n",
       "    .dataframe tbody tr th {\n",
       "        vertical-align: top;\n",
       "    }\n",
       "\n",
       "    .dataframe thead th {\n",
       "        text-align: right;\n",
       "    }\n",
       "</style>\n",
       "<table border=\"1\" class=\"dataframe\">\n",
       "  <thead>\n",
       "    <tr style=\"text-align: right;\">\n",
       "      <th></th>\n",
       "      <th>City</th>\n",
       "      <th>State</th>\n",
       "      <th>Type</th>\n",
       "      <th>Population [2011]</th>\n",
       "      <th>Popuation [2001]</th>\n",
       "      <th>Sex Ratio</th>\n",
       "      <th>Median Age</th>\n",
       "      <th>Avg Temp</th>\n",
       "      <th>SWM</th>\n",
       "      <th>Toilets Avl</th>\n",
       "      <th>Water Purity</th>\n",
       "      <th>H Index</th>\n",
       "      <th>Female Population</th>\n",
       "      <th>hospitals</th>\n",
       "      <th>Foreign Visitors</th>\n",
       "      <th>Covid Cases</th>\n",
       "    </tr>\n",
       "  </thead>\n",
       "  <tbody>\n",
       "    <tr>\n",
       "      <th>0</th>\n",
       "      <td>Mumbai</td>\n",
       "      <td>Maharashtra</td>\n",
       "      <td>M.C</td>\n",
       "      <td>12442373.0</td>\n",
       "      <td>11978450.0</td>\n",
       "      <td>878.0</td>\n",
       "      <td>23.0</td>\n",
       "      <td>32.0</td>\n",
       "      <td>MEDIUM</td>\n",
       "      <td>219.0</td>\n",
       "      <td>150.0</td>\n",
       "      <td>0.700440</td>\n",
       "      <td>10924403.0</td>\n",
       "      <td>159.0</td>\n",
       "      <td>4408916.0</td>\n",
       "      <td>163115.0</td>\n",
       "    </tr>\n",
       "    <tr>\n",
       "      <th>1</th>\n",
       "      <td>Delhi</td>\n",
       "      <td>Delhi</td>\n",
       "      <td>M.C</td>\n",
       "      <td>11007835.0</td>\n",
       "      <td>9879172.0</td>\n",
       "      <td>858.0</td>\n",
       "      <td>27.0</td>\n",
       "      <td>30.0</td>\n",
       "      <td>MEDIUM</td>\n",
       "      <td>215.0</td>\n",
       "      <td>196.0</td>\n",
       "      <td>0.920018</td>\n",
       "      <td>9444722.0</td>\n",
       "      <td>148.0</td>\n",
       "      <td>2379169.0</td>\n",
       "      <td>80188.0</td>\n",
       "    </tr>\n",
       "  </tbody>\n",
       "</table>\n",
       "</div>"
      ],
      "text/plain": [
       "     City        State Type  Population [2011]  Popuation [2001]  Sex Ratio  \\\n",
       "0  Mumbai  Maharashtra  M.C         12442373.0        11978450.0      878.0   \n",
       "1   Delhi        Delhi  M.C         11007835.0         9879172.0      858.0   \n",
       "\n",
       "   Median Age  Avg Temp     SWM  Toilets Avl  Water Purity   H Index  \\\n",
       "0        23.0      32.0  MEDIUM        219.0         150.0  0.700440   \n",
       "1        27.0      30.0  MEDIUM        215.0         196.0  0.920018   \n",
       "\n",
       "   Female Population  hospitals  Foreign Visitors  Covid Cases  \n",
       "0         10924403.0      159.0         4408916.0     163115.0  \n",
       "1          9444722.0      148.0         2379169.0      80188.0  "
      ]
     },
     "execution_count": 33,
     "metadata": {},
     "output_type": "execute_result"
    }
   ],
   "source": [
    "data.head(2)"
   ]
  },
  {
   "cell_type": "code",
   "execution_count": 34,
   "metadata": {},
   "outputs": [],
   "source": [
    "df=data"
   ]
  },
  {
   "cell_type": "code",
   "execution_count": 35,
   "metadata": {},
   "outputs": [],
   "source": [
    "data.rename(columns = {'# of hospitals': 'hospitals'}, inplace = True)"
   ]
  },
  {
   "cell_type": "code",
   "execution_count": 36,
   "metadata": {},
   "outputs": [
    {
     "data": {
      "text/html": [
       "<div>\n",
       "<style scoped>\n",
       "    .dataframe tbody tr th:only-of-type {\n",
       "        vertical-align: middle;\n",
       "    }\n",
       "\n",
       "    .dataframe tbody tr th {\n",
       "        vertical-align: top;\n",
       "    }\n",
       "\n",
       "    .dataframe thead th {\n",
       "        text-align: right;\n",
       "    }\n",
       "</style>\n",
       "<table border=\"1\" class=\"dataframe\">\n",
       "  <thead>\n",
       "    <tr style=\"text-align: right;\">\n",
       "      <th></th>\n",
       "      <th>City</th>\n",
       "      <th>State</th>\n",
       "      <th>Type</th>\n",
       "      <th>Population [2011]</th>\n",
       "      <th>Popuation [2001]</th>\n",
       "      <th>Sex Ratio</th>\n",
       "      <th>Median Age</th>\n",
       "      <th>Avg Temp</th>\n",
       "      <th>SWM</th>\n",
       "      <th>Toilets Avl</th>\n",
       "      <th>Water Purity</th>\n",
       "      <th>H Index</th>\n",
       "      <th>Female Population</th>\n",
       "      <th>hospitals</th>\n",
       "      <th>Foreign Visitors</th>\n",
       "      <th>Covid Cases</th>\n",
       "    </tr>\n",
       "  </thead>\n",
       "  <tbody>\n",
       "    <tr>\n",
       "      <th>0</th>\n",
       "      <td>Mumbai</td>\n",
       "      <td>Maharashtra</td>\n",
       "      <td>M.C</td>\n",
       "      <td>12442373.0</td>\n",
       "      <td>11978450.0</td>\n",
       "      <td>878.0</td>\n",
       "      <td>23.0</td>\n",
       "      <td>32.0</td>\n",
       "      <td>MEDIUM</td>\n",
       "      <td>219.0</td>\n",
       "      <td>150.0</td>\n",
       "      <td>0.700440</td>\n",
       "      <td>10924403.0</td>\n",
       "      <td>159.0</td>\n",
       "      <td>4408916.0</td>\n",
       "      <td>163115.0</td>\n",
       "    </tr>\n",
       "    <tr>\n",
       "      <th>1</th>\n",
       "      <td>Delhi</td>\n",
       "      <td>Delhi</td>\n",
       "      <td>M.C</td>\n",
       "      <td>11007835.0</td>\n",
       "      <td>9879172.0</td>\n",
       "      <td>858.0</td>\n",
       "      <td>27.0</td>\n",
       "      <td>30.0</td>\n",
       "      <td>MEDIUM</td>\n",
       "      <td>215.0</td>\n",
       "      <td>196.0</td>\n",
       "      <td>0.920018</td>\n",
       "      <td>9444722.0</td>\n",
       "      <td>148.0</td>\n",
       "      <td>2379169.0</td>\n",
       "      <td>80188.0</td>\n",
       "    </tr>\n",
       "  </tbody>\n",
       "</table>\n",
       "</div>"
      ],
      "text/plain": [
       "     City        State Type  Population [2011]  Popuation [2001]  Sex Ratio  \\\n",
       "0  Mumbai  Maharashtra  M.C         12442373.0        11978450.0      878.0   \n",
       "1   Delhi        Delhi  M.C         11007835.0         9879172.0      858.0   \n",
       "\n",
       "   Median Age  Avg Temp     SWM  Toilets Avl  Water Purity   H Index  \\\n",
       "0        23.0      32.0  MEDIUM        219.0         150.0  0.700440   \n",
       "1        27.0      30.0  MEDIUM        215.0         196.0  0.920018   \n",
       "\n",
       "   Female Population  hospitals  Foreign Visitors  Covid Cases  \n",
       "0         10924403.0      159.0         4408916.0     163115.0  \n",
       "1          9444722.0      148.0         2379169.0      80188.0  "
      ]
     },
     "execution_count": 36,
     "metadata": {},
     "output_type": "execute_result"
    }
   ],
   "source": [
    "data.head(2)"
   ]
  },
  {
   "cell_type": "code",
   "execution_count": null,
   "metadata": {},
   "outputs": [],
   "source": []
  },
  {
   "cell_type": "code",
   "execution_count": 37,
   "metadata": {},
   "outputs": [],
   "source": [
    "data['hospitals'] =data['hospitals'].replace(np.nan,0)"
   ]
  },
  {
   "cell_type": "code",
   "execution_count": 38,
   "metadata": {},
   "outputs": [],
   "source": [
    "for i in range(0,700):\n",
    "    if data['hospitals'][i]<0.0:\n",
    "        #print(data['State'][i])\n",
    "        print(i)"
   ]
  },
  {
   "cell_type": "code",
   "execution_count": null,
   "metadata": {},
   "outputs": [],
   "source": []
  },
  {
   "cell_type": "code",
   "execution_count": 39,
   "metadata": {},
   "outputs": [
    {
     "name": "stdout",
     "output_type": "stream",
     "text": [
      "<bound method Series.median of 0       159.0\n",
      "1       148.0\n",
      "2       123.0\n",
      "3       110.0\n",
      "4        73.0\n",
      "        ...  \n",
      "1283      4.0\n",
      "1284      6.0\n",
      "1285      6.0\n",
      "1286      8.0\n",
      "1287      6.0\n",
      "Name: hospitals, Length: 1288, dtype: float64>\n"
     ]
    }
   ],
   "source": [
    "med =data['hospitals'].median\n",
    "print(med)\n",
    "data['hospitals'] = data['hospitals'].fillna(med)"
   ]
  },
  {
   "cell_type": "code",
   "execution_count": 40,
   "metadata": {},
   "outputs": [
    {
     "data": {
      "text/plain": [
       "<matplotlib.axes._subplots.AxesSubplot at 0x20519c34248>"
      ]
     },
     "execution_count": 40,
     "metadata": {},
     "output_type": "execute_result"
    },
    {
     "data": {
      "image/png": "[encoded data removed]",
      "text/plain": [
       "<Figure size 432x288 with 2 Axes>"
      ]
     },
     "metadata": {
      "needs_background": "light"
     },
     "output_type": "display_data"
    }
   ],
   "source": [
    "cols = data.columns[:30] # first 30 columns\n",
    "colours = ['#000099', '#ffff00'] # specify the colours - yellow is missing. blue is not missing.\n",
    "sns.heatmap(data[cols].isnull(), cmap=sns.color_palette(colours))"
   ]
  },
  {
   "cell_type": "code",
   "execution_count": 41,
   "metadata": {},
   "outputs": [],
   "source": [
    "del(data['Popuation [2001]'])"
   ]
  },
  {
   "cell_type": "code",
   "execution_count": 42,
   "metadata": {},
   "outputs": [
    {
     "data": {
      "text/html": [
       "<div>\n",
       "<style scoped>\n",
       "    .dataframe tbody tr th:only-of-type {\n",
       "        vertical-align: middle;\n",
       "    }\n",
       "\n",
       "    .dataframe tbody tr th {\n",
       "        vertical-align: top;\n",
       "    }\n",
       "\n",
       "    .dataframe thead th {\n",
       "        text-align: right;\n",
       "    }\n",
       "</style>\n",
       "<table border=\"1\" class=\"dataframe\">\n",
       "  <thead>\n",
       "    <tr style=\"text-align: right;\">\n",
       "      <th></th>\n",
       "      <th>City</th>\n",
       "      <th>State</th>\n",
       "      <th>Type</th>\n",
       "      <th>Population [2011]</th>\n",
       "      <th>Sex Ratio</th>\n",
       "      <th>Median Age</th>\n",
       "      <th>Avg Temp</th>\n",
       "      <th>SWM</th>\n",
       "      <th>Toilets Avl</th>\n",
       "      <th>Water Purity</th>\n",
       "      <th>H Index</th>\n",
       "      <th>Female Population</th>\n",
       "      <th>hospitals</th>\n",
       "      <th>Foreign Visitors</th>\n",
       "      <th>Covid Cases</th>\n",
       "    </tr>\n",
       "  </thead>\n",
       "  <tbody>\n",
       "    <tr>\n",
       "      <th>0</th>\n",
       "      <td>Mumbai</td>\n",
       "      <td>Maharashtra</td>\n",
       "      <td>M.C</td>\n",
       "      <td>12442373.0</td>\n",
       "      <td>878.0</td>\n",
       "      <td>23.0</td>\n",
       "      <td>32.0</td>\n",
       "      <td>MEDIUM</td>\n",
       "      <td>219.0</td>\n",
       "      <td>150.0</td>\n",
       "      <td>0.700440</td>\n",
       "      <td>10924403.0</td>\n",
       "      <td>159.0</td>\n",
       "      <td>4408916.0</td>\n",
       "      <td>163115.0</td>\n",
       "    </tr>\n",
       "    <tr>\n",
       "      <th>1</th>\n",
       "      <td>Delhi</td>\n",
       "      <td>Delhi</td>\n",
       "      <td>M.C</td>\n",
       "      <td>11007835.0</td>\n",
       "      <td>858.0</td>\n",
       "      <td>27.0</td>\n",
       "      <td>30.0</td>\n",
       "      <td>MEDIUM</td>\n",
       "      <td>215.0</td>\n",
       "      <td>196.0</td>\n",
       "      <td>0.920018</td>\n",
       "      <td>9444722.0</td>\n",
       "      <td>148.0</td>\n",
       "      <td>2379169.0</td>\n",
       "      <td>80188.0</td>\n",
       "    </tr>\n",
       "    <tr>\n",
       "      <th>2</th>\n",
       "      <td>Bangalore</td>\n",
       "      <td>Karnataka</td>\n",
       "      <td>MPUA</td>\n",
       "      <td>8436675.0</td>\n",
       "      <td>936.0</td>\n",
       "      <td>28.0</td>\n",
       "      <td>37.0</td>\n",
       "      <td>HIGH</td>\n",
       "      <td>212.0</td>\n",
       "      <td>102.0</td>\n",
       "      <td>0.097085</td>\n",
       "      <td>7896728.0</td>\n",
       "      <td>123.0</td>\n",
       "      <td>636502.0</td>\n",
       "      <td>141000.0</td>\n",
       "    </tr>\n",
       "  </tbody>\n",
       "</table>\n",
       "</div>"
      ],
      "text/plain": [
       "        City        State  Type  Population [2011]  Sex Ratio  Median Age  \\\n",
       "0     Mumbai  Maharashtra   M.C         12442373.0      878.0        23.0   \n",
       "1      Delhi        Delhi   M.C         11007835.0      858.0        27.0   \n",
       "2  Bangalore    Karnataka  MPUA          8436675.0      936.0        28.0   \n",
       "\n",
       "   Avg Temp     SWM  Toilets Avl  Water Purity   H Index  Female Population  \\\n",
       "0      32.0  MEDIUM        219.0         150.0  0.700440         10924403.0   \n",
       "1      30.0  MEDIUM        215.0         196.0  0.920018          9444722.0   \n",
       "2      37.0    HIGH        212.0         102.0  0.097085          7896728.0   \n",
       "\n",
       "   hospitals  Foreign Visitors  Covid Cases  \n",
       "0      159.0         4408916.0     163115.0  \n",
       "1      148.0         2379169.0      80188.0  \n",
       "2      123.0          636502.0     141000.0  "
      ]
     },
     "execution_count": 42,
     "metadata": {},
     "output_type": "execute_result"
    }
   ],
   "source": [
    "data.head(3)"
   ]
  },
  {
   "cell_type": "code",
   "execution_count": null,
   "metadata": {},
   "outputs": [],
   "source": []
  },
  {
   "cell_type": "code",
   "execution_count": 43,
   "metadata": {},
   "outputs": [
    {
     "data": {
      "text/plain": [
       "47"
      ]
     },
     "execution_count": 43,
     "metadata": {},
     "output_type": "execute_result"
    }
   ],
   "source": [
    "len(data.Type.value_counts())"
   ]
  },
  {
   "cell_type": "code",
   "execution_count": 44,
   "metadata": {},
   "outputs": [],
   "source": [
    "stt=data['Type'].tolist()"
   ]
  },
  {
   "cell_type": "code",
   "execution_count": 45,
   "metadata": {},
   "outputs": [],
   "source": [
    "stt=set(stt)"
   ]
  },
  {
   "cell_type": "code",
   "execution_count": 46,
   "metadata": {},
   "outputs": [
    {
     "data": {
      "text/plain": [
       "{'C-1T',\n",
       " 'C.B',\n",
       " 'C.M.C',\n",
       " 'C.T',\n",
       " 'C.T.',\n",
       " 'CMC',\n",
       " 'CT',\n",
       " 'G.P',\n",
       " 'G.P.',\n",
       " 'I.N.A',\n",
       " 'M',\n",
       " 'M Cl',\n",
       " 'M&F',\n",
       " 'M.B',\n",
       " 'M.B.',\n",
       " 'M.C',\n",
       " 'M.C.',\n",
       " 'M.Cl',\n",
       " 'M.Cl.',\n",
       " 'M.Corp',\n",
       " 'M.Corp.',\n",
       " 'MB',\n",
       " 'MPUA',\n",
       " 'N.A',\n",
       " 'N.A.C',\n",
       " 'N.A.C.',\n",
       " 'N.P',\n",
       " 'N.P.',\n",
       " 'N.P.P',\n",
       " 'N.P.P.',\n",
       " 'N.Pd',\n",
       " 'N.T',\n",
       " 'NAC',\n",
       " 'NP',\n",
       " 'NPP',\n",
       " 'Nagar Parishad',\n",
       " 'Np',\n",
       " 'T',\n",
       " 'T.C',\n",
       " 'T.C.',\n",
       " 'T.M.C',\n",
       " 'T.M.C.',\n",
       " 'T.P',\n",
       " 'T.P.',\n",
       " 'TP',\n",
       " 'U.A',\n",
       " 'UA',\n",
       " nan}"
      ]
     },
     "execution_count": 46,
     "metadata": {},
     "output_type": "execute_result"
    }
   ],
   "source": [
    "stt"
   ]
  },
  {
   "cell_type": "code",
   "execution_count": 47,
   "metadata": {},
   "outputs": [],
   "source": [
    "data['Type']=data.Type.replace(('Nagar Parishad','N.P','N.P.P','N.P.P.','N.P.','Np'),'NP')"
   ]
  },
  {
   "cell_type": "code",
   "execution_count": 48,
   "metadata": {},
   "outputs": [],
   "source": [
    "data['Type']=data.Type.replace(('T.P','T.P.'),'TP')"
   ]
  },
  {
   "cell_type": "code",
   "execution_count": 49,
   "metadata": {},
   "outputs": [],
   "source": [
    "data['Type']=data.Type.replace(('T.M.C','T.M.C.'),'TMC')"
   ]
  },
  {
   "cell_type": "code",
   "execution_count": 50,
   "metadata": {},
   "outputs": [],
   "source": [
    "data['Type']=data.Type.replace(('M.B','M.B.'),'MB')"
   ]
  },
  {
   "cell_type": "code",
   "execution_count": 51,
   "metadata": {},
   "outputs": [],
   "source": [
    "data['Type']=data.Type.replace(('T.P','T.P.'),'TP')"
   ]
  },
  {
   "cell_type": "code",
   "execution_count": 52,
   "metadata": {},
   "outputs": [],
   "source": [
    "data['Type']=data.Type.replace(('U.A'),'UA')"
   ]
  },
  {
   "cell_type": "code",
   "execution_count": 53,
   "metadata": {},
   "outputs": [],
   "source": [
    "data['Type']=data.Type.replace(('M.Corp','M.Corp.'),'MC')"
   ]
  },
  {
   "cell_type": "code",
   "execution_count": 54,
   "metadata": {},
   "outputs": [],
   "source": [
    "data['Type']=data.Type.replace(('C.T','C.T.'),'CT')"
   ]
  },
  {
   "cell_type": "code",
   "execution_count": 55,
   "metadata": {},
   "outputs": [],
   "source": [
    "data['Type']=data.Type.replace(('T.P','T.P.'),'TP')"
   ]
  },
  {
   "cell_type": "code",
   "execution_count": 56,
   "metadata": {},
   "outputs": [],
   "source": [
    "data['Type']=data.Type.replace(('M.Cl','M.Cl.','M cl'),'MCL')"
   ]
  },
  {
   "cell_type": "code",
   "execution_count": 57,
   "metadata": {},
   "outputs": [],
   "source": [
    "data['Type']=data.Type.replace(('N.A.C','N.A'),'NA')"
   ]
  },
  {
   "cell_type": "code",
   "execution_count": 58,
   "metadata": {},
   "outputs": [
    {
     "data": {
      "text/plain": [
       "M         355\n",
       "C-1T      269\n",
       "NP        151\n",
       "MCL       134\n",
       "CT         60\n",
       "TP         53\n",
       "MB         49\n",
       "MPUA       44\n",
       "TMC        43\n",
       "UA         37\n",
       "NA         30\n",
       "M.C        15\n",
       "T.C         8\n",
       "C.M.C       7\n",
       "G.P         3\n",
       "CMC         3\n",
       "C.B         3\n",
       "N.Pd        3\n",
       "N.T         3\n",
       "MC          3\n",
       "NPP         2\n",
       "M.C.        2\n",
       "T           2\n",
       "G.P.        1\n",
       "N.A.C.      1\n",
       "NAC         1\n",
       "M Cl        1\n",
       "I.N.A       1\n",
       "M&F         1\n",
       "T.C.        1\n",
       "Name: Type, dtype: int64"
      ]
     },
     "execution_count": 58,
     "metadata": {},
     "output_type": "execute_result"
    }
   ],
   "source": [
    "data['Type'].value_counts()"
   ]
  },
  {
   "cell_type": "code",
   "execution_count": 59,
   "metadata": {},
   "outputs": [],
   "source": [
    "data['Type']=data.Type.replace(('C.B'),'CB')"
   ]
  },
  {
   "cell_type": "code",
   "execution_count": 60,
   "metadata": {},
   "outputs": [],
   "source": [
    "data['Type']=data.Type.replace(('N.T'),'NT')"
   ]
  },
  {
   "cell_type": "code",
   "execution_count": 61,
   "metadata": {},
   "outputs": [],
   "source": [
    "data['Type']=data.Type.replace(('C.M.C'),'CMC')"
   ]
  },
  {
   "cell_type": "code",
   "execution_count": 62,
   "metadata": {},
   "outputs": [],
   "source": [
    "data['Type']=data.Type.replace(('N.Pd'),'NPD')"
   ]
  },
  {
   "cell_type": "code",
   "execution_count": 63,
   "metadata": {},
   "outputs": [
    {
     "data": {
      "text/plain": [
       "M         355\n",
       "C-1T      269\n",
       "NP        151\n",
       "MCL       134\n",
       "CT         60\n",
       "TP         53\n",
       "MB         49\n",
       "MPUA       44\n",
       "TMC        43\n",
       "UA         37\n",
       "NA         30\n",
       "M.C        15\n",
       "CMC        10\n",
       "T.C         8\n",
       "NPD         3\n",
       "NT          3\n",
       "CB          3\n",
       "MC          3\n",
       "G.P         3\n",
       "NPP         2\n",
       "M.C.        2\n",
       "T           2\n",
       "M&F         1\n",
       "I.N.A       1\n",
       "G.P.        1\n",
       "NAC         1\n",
       "N.A.C.      1\n",
       "M Cl        1\n",
       "T.C.        1\n",
       "Name: Type, dtype: int64"
      ]
     },
     "execution_count": 63,
     "metadata": {},
     "output_type": "execute_result"
    }
   ],
   "source": [
    "\n",
    "data.Type.value_counts()"
   ]
  },
  {
   "cell_type": "code",
   "execution_count": 64,
   "metadata": {},
   "outputs": [],
   "source": [
    "data['Type']=data.Type.replace(('M cl'),'MCL')"
   ]
  },
  {
   "cell_type": "code",
   "execution_count": 65,
   "metadata": {},
   "outputs": [],
   "source": [
    "data['Type']=data.Type.replace(('T.C','T.C.'),'TC')"
   ]
  },
  {
   "cell_type": "code",
   "execution_count": 66,
   "metadata": {},
   "outputs": [],
   "source": [
    "data['Type']=data.Type.replace(('M.C','M.C.'),'MC')\n",
    "data['Type']=data.Type.replace(('N.A.C.'),'NAC')\n",
    "data['Type']=data.Type.replace(('G.P','G.P.'),'GP')\n",
    "data['Type']=data.Type.replace(('M&F'),'MF')\n",
    "data['Type']=data.Type.replace(('I.N.A'),'INA')"
   ]
  },
  {
   "cell_type": "code",
   "execution_count": 67,
   "metadata": {},
   "outputs": [
    {
     "data": {
      "text/plain": [
       "24"
      ]
     },
     "execution_count": 67,
     "metadata": {},
     "output_type": "execute_result"
    }
   ],
   "source": [
    "len(data.Type.value_counts())"
   ]
  },
  {
   "cell_type": "code",
   "execution_count": 68,
   "metadata": {},
   "outputs": [
    {
     "data": {
      "text/html": [
       "<div>\n",
       "<style scoped>\n",
       "    .dataframe tbody tr th:only-of-type {\n",
       "        vertical-align: middle;\n",
       "    }\n",
       "\n",
       "    .dataframe tbody tr th {\n",
       "        vertical-align: top;\n",
       "    }\n",
       "\n",
       "    .dataframe thead th {\n",
       "        text-align: right;\n",
       "    }\n",
       "</style>\n",
       "<table border=\"1\" class=\"dataframe\">\n",
       "  <thead>\n",
       "    <tr style=\"text-align: right;\">\n",
       "      <th></th>\n",
       "      <th>City</th>\n",
       "      <th>State</th>\n",
       "      <th>Type</th>\n",
       "      <th>Population [2011]</th>\n",
       "      <th>Sex Ratio</th>\n",
       "      <th>Median Age</th>\n",
       "      <th>Avg Temp</th>\n",
       "      <th>SWM</th>\n",
       "      <th>Toilets Avl</th>\n",
       "      <th>Water Purity</th>\n",
       "      <th>H Index</th>\n",
       "      <th>Female Population</th>\n",
       "      <th>hospitals</th>\n",
       "      <th>Foreign Visitors</th>\n",
       "      <th>Covid Cases</th>\n",
       "    </tr>\n",
       "  </thead>\n",
       "  <tbody>\n",
       "    <tr>\n",
       "      <th>0</th>\n",
       "      <td>Mumbai</td>\n",
       "      <td>Maharashtra</td>\n",
       "      <td>MC</td>\n",
       "      <td>12442373.0</td>\n",
       "      <td>878.0</td>\n",
       "      <td>23.0</td>\n",
       "      <td>32.0</td>\n",
       "      <td>MEDIUM</td>\n",
       "      <td>219.0</td>\n",
       "      <td>150.0</td>\n",
       "      <td>0.700440</td>\n",
       "      <td>10924403.0</td>\n",
       "      <td>159.0</td>\n",
       "      <td>4408916.0</td>\n",
       "      <td>163115.0</td>\n",
       "    </tr>\n",
       "    <tr>\n",
       "      <th>1</th>\n",
       "      <td>Delhi</td>\n",
       "      <td>Delhi</td>\n",
       "      <td>MC</td>\n",
       "      <td>11007835.0</td>\n",
       "      <td>858.0</td>\n",
       "      <td>27.0</td>\n",
       "      <td>30.0</td>\n",
       "      <td>MEDIUM</td>\n",
       "      <td>215.0</td>\n",
       "      <td>196.0</td>\n",
       "      <td>0.920018</td>\n",
       "      <td>9444722.0</td>\n",
       "      <td>148.0</td>\n",
       "      <td>2379169.0</td>\n",
       "      <td>80188.0</td>\n",
       "    </tr>\n",
       "    <tr>\n",
       "      <th>2</th>\n",
       "      <td>Bangalore</td>\n",
       "      <td>Karnataka</td>\n",
       "      <td>MPUA</td>\n",
       "      <td>8436675.0</td>\n",
       "      <td>936.0</td>\n",
       "      <td>28.0</td>\n",
       "      <td>37.0</td>\n",
       "      <td>HIGH</td>\n",
       "      <td>212.0</td>\n",
       "      <td>102.0</td>\n",
       "      <td>0.097085</td>\n",
       "      <td>7896728.0</td>\n",
       "      <td>123.0</td>\n",
       "      <td>636502.0</td>\n",
       "      <td>141000.0</td>\n",
       "    </tr>\n",
       "    <tr>\n",
       "      <th>3</th>\n",
       "      <td>Hyderabad</td>\n",
       "      <td>Telangana</td>\n",
       "      <td>MPUA</td>\n",
       "      <td>6809970.0</td>\n",
       "      <td>930.0</td>\n",
       "      <td>23.0</td>\n",
       "      <td>31.0</td>\n",
       "      <td>MEDIUM</td>\n",
       "      <td>217.0</td>\n",
       "      <td>118.0</td>\n",
       "      <td>0.827744</td>\n",
       "      <td>6333272.0</td>\n",
       "      <td>110.0</td>\n",
       "      <td>126078.0</td>\n",
       "      <td>55123.0</td>\n",
       "    </tr>\n",
       "    <tr>\n",
       "      <th>4</th>\n",
       "      <td>Ahmedabad</td>\n",
       "      <td>Gujarat</td>\n",
       "      <td>MPUA</td>\n",
       "      <td>5570585.0</td>\n",
       "      <td>852.0</td>\n",
       "      <td>29.0</td>\n",
       "      <td>25.0</td>\n",
       "      <td>LOW</td>\n",
       "      <td>227.0</td>\n",
       "      <td>109.0</td>\n",
       "      <td>0.847941</td>\n",
       "      <td>4746138.0</td>\n",
       "      <td>73.0</td>\n",
       "      <td>284973.0</td>\n",
       "      <td>33204.0</td>\n",
       "    </tr>\n",
       "    <tr>\n",
       "      <th>5</th>\n",
       "      <td>Chennai</td>\n",
       "      <td>Tamil Nadu</td>\n",
       "      <td>MPUA</td>\n",
       "      <td>4681087.0</td>\n",
       "      <td>904.0</td>\n",
       "      <td>26.0</td>\n",
       "      <td>31.0</td>\n",
       "      <td>HIGH</td>\n",
       "      <td>210.0</td>\n",
       "      <td>179.0</td>\n",
       "      <td>0.536995</td>\n",
       "      <td>4231703.0</td>\n",
       "      <td>67.0</td>\n",
       "      <td>4684707.0</td>\n",
       "      <td>145606.0</td>\n",
       "    </tr>\n",
       "    <tr>\n",
       "      <th>6</th>\n",
       "      <td>Chennai</td>\n",
       "      <td>Tamil nadu</td>\n",
       "      <td>T</td>\n",
       "      <td>4646732.0</td>\n",
       "      <td>912.0</td>\n",
       "      <td>26.0</td>\n",
       "      <td>30.0</td>\n",
       "      <td>MEDIUM</td>\n",
       "      <td>145.0</td>\n",
       "      <td>177.0</td>\n",
       "      <td>0.093451</td>\n",
       "      <td>4237820.0</td>\n",
       "      <td>55.0</td>\n",
       "      <td>4684707.0</td>\n",
       "      <td>145606.0</td>\n",
       "    </tr>\n",
       "    <tr>\n",
       "      <th>7</th>\n",
       "      <td>Kolkata</td>\n",
       "      <td>West Bengal</td>\n",
       "      <td>MPUA</td>\n",
       "      <td>4486679.0</td>\n",
       "      <td>945.0</td>\n",
       "      <td>26.0</td>\n",
       "      <td>37.0</td>\n",
       "      <td>NaN</td>\n",
       "      <td>NaN</td>\n",
       "      <td>151.0</td>\n",
       "      <td>0.473585</td>\n",
       "      <td>4239912.0</td>\n",
       "      <td>82.0</td>\n",
       "      <td>1489500.0</td>\n",
       "      <td>44957.0</td>\n",
       "    </tr>\n",
       "    <tr>\n",
       "      <th>8</th>\n",
       "      <td>Surat</td>\n",
       "      <td>Gujarat</td>\n",
       "      <td>MPUA</td>\n",
       "      <td>4467797.0</td>\n",
       "      <td>NaN</td>\n",
       "      <td>27.0</td>\n",
       "      <td>26.0</td>\n",
       "      <td>NaN</td>\n",
       "      <td>NaN</td>\n",
       "      <td>151.0</td>\n",
       "      <td>0.809334</td>\n",
       "      <td>3797627.0</td>\n",
       "      <td>98.0</td>\n",
       "      <td>284973.0</td>\n",
       "      <td>23432.0</td>\n",
       "    </tr>\n",
       "    <tr>\n",
       "      <th>9</th>\n",
       "      <td>Pune</td>\n",
       "      <td>Maharashtra</td>\n",
       "      <td>MPUA</td>\n",
       "      <td>3124458.0</td>\n",
       "      <td>NaN</td>\n",
       "      <td>29.0</td>\n",
       "      <td>29.0</td>\n",
       "      <td>NaN</td>\n",
       "      <td>NaN</td>\n",
       "      <td>151.0</td>\n",
       "      <td>0.445902</td>\n",
       "      <td>2743274.0</td>\n",
       "      <td>50.0</td>\n",
       "      <td>4408916.0</td>\n",
       "      <td>218502.0</td>\n",
       "    </tr>\n",
       "  </tbody>\n",
       "</table>\n",
       "</div>"
      ],
      "text/plain": [
       "        City        State  Type  Population [2011]  Sex Ratio  Median Age  \\\n",
       "0     Mumbai  Maharashtra    MC         12442373.0      878.0        23.0   \n",
       "1      Delhi        Delhi    MC         11007835.0      858.0        27.0   \n",
       "2  Bangalore    Karnataka  MPUA          8436675.0      936.0        28.0   \n",
       "3  Hyderabad    Telangana  MPUA          6809970.0      930.0        23.0   \n",
       "4  Ahmedabad      Gujarat  MPUA          5570585.0      852.0        29.0   \n",
       "5    Chennai   Tamil Nadu  MPUA          4681087.0      904.0        26.0   \n",
       "6    Chennai   Tamil nadu     T          4646732.0      912.0        26.0   \n",
       "7    Kolkata  West Bengal  MPUA          4486679.0      945.0        26.0   \n",
       "8      Surat      Gujarat  MPUA          4467797.0        NaN        27.0   \n",
       "9       Pune  Maharashtra  MPUA          3124458.0        NaN        29.0   \n",
       "\n",
       "   Avg Temp     SWM  Toilets Avl  Water Purity   H Index  Female Population  \\\n",
       "0      32.0  MEDIUM        219.0         150.0  0.700440         10924403.0   \n",
       "1      30.0  MEDIUM        215.0         196.0  0.920018          9444722.0   \n",
       "2      37.0    HIGH        212.0         102.0  0.097085          7896728.0   \n",
       "3      31.0  MEDIUM        217.0         118.0  0.827744          6333272.0   \n",
       "4      25.0     LOW        227.0         109.0  0.847941          4746138.0   \n",
       "5      31.0    HIGH        210.0         179.0  0.536995          4231703.0   \n",
       "6      30.0  MEDIUM        145.0         177.0  0.093451          4237820.0   \n",
       "7      37.0     NaN          NaN         151.0  0.473585          4239912.0   \n",
       "8      26.0     NaN          NaN         151.0  0.809334          3797627.0   \n",
       "9      29.0     NaN          NaN         151.0  0.445902          2743274.0   \n",
       "\n",
       "   hospitals  Foreign Visitors  Covid Cases  \n",
       "0      159.0         4408916.0     163115.0  \n",
       "1      148.0         2379169.0      80188.0  \n",
       "2      123.0          636502.0     141000.0  \n",
       "3      110.0          126078.0      55123.0  \n",
       "4       73.0          284973.0      33204.0  \n",
       "5       67.0         4684707.0     145606.0  \n",
       "6       55.0         4684707.0     145606.0  \n",
       "7       82.0         1489500.0      44957.0  \n",
       "8       98.0          284973.0      23432.0  \n",
       "9       50.0         4408916.0     218502.0  "
      ]
     },
     "execution_count": 68,
     "metadata": {},
     "output_type": "execute_result"
    }
   ],
   "source": [
    "data.head(10)"
   ]
  },
  {
   "cell_type": "code",
   "execution_count": 69,
   "metadata": {},
   "outputs": [
    {
     "name": "stdout",
     "output_type": "stream",
     "text": [
      "85.0\n"
     ]
    }
   ],
   "source": [
    "#for water purity\n",
    "med = data['Toilets Avl'].median()\n",
    "print(med)\n",
    "data['Toilets Avl'] = data['Toilets Avl'].fillna(med)"
   ]
  },
  {
   "cell_type": "code",
   "execution_count": 70,
   "metadata": {},
   "outputs": [
    {
     "name": "stdout",
     "output_type": "stream",
     "text": [
      "902.0\n"
     ]
    }
   ],
   "source": [
    "#for water purity\n",
    "med = data['Sex Ratio'].median()\n",
    "print(med)\n",
    "data['Sex Ratio'] = data['Sex Ratio'].fillna(med)"
   ]
  },
  {
   "cell_type": "code",
   "execution_count": 71,
   "metadata": {},
   "outputs": [],
   "source": [
    "encoded_columns = pd.get_dummies(data['SWM'])\n",
    "data=data.join(encoded_columns).drop('SWM', axis=1)"
   ]
  },
  {
   "cell_type": "code",
   "execution_count": 72,
   "metadata": {},
   "outputs": [
    {
     "data": {
      "text/html": [
       "<div>\n",
       "<style scoped>\n",
       "    .dataframe tbody tr th:only-of-type {\n",
       "        vertical-align: middle;\n",
       "    }\n",
       "\n",
       "    .dataframe tbody tr th {\n",
       "        vertical-align: top;\n",
       "    }\n",
       "\n",
       "    .dataframe thead th {\n",
       "        text-align: right;\n",
       "    }\n",
       "</style>\n",
       "<table border=\"1\" class=\"dataframe\">\n",
       "  <thead>\n",
       "    <tr style=\"text-align: right;\">\n",
       "      <th></th>\n",
       "      <th>City</th>\n",
       "      <th>State</th>\n",
       "      <th>Type</th>\n",
       "      <th>Population [2011]</th>\n",
       "      <th>Sex Ratio</th>\n",
       "      <th>Median Age</th>\n",
       "      <th>Avg Temp</th>\n",
       "      <th>Toilets Avl</th>\n",
       "      <th>Water Purity</th>\n",
       "      <th>H Index</th>\n",
       "      <th>Female Population</th>\n",
       "      <th>hospitals</th>\n",
       "      <th>Foreign Visitors</th>\n",
       "      <th>Covid Cases</th>\n",
       "      <th>HIGH</th>\n",
       "      <th>LOW</th>\n",
       "      <th>MEDIUM</th>\n",
       "    </tr>\n",
       "  </thead>\n",
       "  <tbody>\n",
       "    <tr>\n",
       "      <th>0</th>\n",
       "      <td>Mumbai</td>\n",
       "      <td>Maharashtra</td>\n",
       "      <td>MC</td>\n",
       "      <td>12442373.0</td>\n",
       "      <td>878.0</td>\n",
       "      <td>23.0</td>\n",
       "      <td>32.0</td>\n",
       "      <td>219.0</td>\n",
       "      <td>150.0</td>\n",
       "      <td>0.700440</td>\n",
       "      <td>10924403.0</td>\n",
       "      <td>159.0</td>\n",
       "      <td>4408916.0</td>\n",
       "      <td>163115.0</td>\n",
       "      <td>0</td>\n",
       "      <td>0</td>\n",
       "      <td>1</td>\n",
       "    </tr>\n",
       "    <tr>\n",
       "      <th>1</th>\n",
       "      <td>Delhi</td>\n",
       "      <td>Delhi</td>\n",
       "      <td>MC</td>\n",
       "      <td>11007835.0</td>\n",
       "      <td>858.0</td>\n",
       "      <td>27.0</td>\n",
       "      <td>30.0</td>\n",
       "      <td>215.0</td>\n",
       "      <td>196.0</td>\n",
       "      <td>0.920018</td>\n",
       "      <td>9444722.0</td>\n",
       "      <td>148.0</td>\n",
       "      <td>2379169.0</td>\n",
       "      <td>80188.0</td>\n",
       "      <td>0</td>\n",
       "      <td>0</td>\n",
       "      <td>1</td>\n",
       "    </tr>\n",
       "    <tr>\n",
       "      <th>2</th>\n",
       "      <td>Bangalore</td>\n",
       "      <td>Karnataka</td>\n",
       "      <td>MPUA</td>\n",
       "      <td>8436675.0</td>\n",
       "      <td>936.0</td>\n",
       "      <td>28.0</td>\n",
       "      <td>37.0</td>\n",
       "      <td>212.0</td>\n",
       "      <td>102.0</td>\n",
       "      <td>0.097085</td>\n",
       "      <td>7896728.0</td>\n",
       "      <td>123.0</td>\n",
       "      <td>636502.0</td>\n",
       "      <td>141000.0</td>\n",
       "      <td>1</td>\n",
       "      <td>0</td>\n",
       "      <td>0</td>\n",
       "    </tr>\n",
       "    <tr>\n",
       "      <th>3</th>\n",
       "      <td>Hyderabad</td>\n",
       "      <td>Telangana</td>\n",
       "      <td>MPUA</td>\n",
       "      <td>6809970.0</td>\n",
       "      <td>930.0</td>\n",
       "      <td>23.0</td>\n",
       "      <td>31.0</td>\n",
       "      <td>217.0</td>\n",
       "      <td>118.0</td>\n",
       "      <td>0.827744</td>\n",
       "      <td>6333272.0</td>\n",
       "      <td>110.0</td>\n",
       "      <td>126078.0</td>\n",
       "      <td>55123.0</td>\n",
       "      <td>0</td>\n",
       "      <td>0</td>\n",
       "      <td>1</td>\n",
       "    </tr>\n",
       "    <tr>\n",
       "      <th>4</th>\n",
       "      <td>Ahmedabad</td>\n",
       "      <td>Gujarat</td>\n",
       "      <td>MPUA</td>\n",
       "      <td>5570585.0</td>\n",
       "      <td>852.0</td>\n",
       "      <td>29.0</td>\n",
       "      <td>25.0</td>\n",
       "      <td>227.0</td>\n",
       "      <td>109.0</td>\n",
       "      <td>0.847941</td>\n",
       "      <td>4746138.0</td>\n",
       "      <td>73.0</td>\n",
       "      <td>284973.0</td>\n",
       "      <td>33204.0</td>\n",
       "      <td>0</td>\n",
       "      <td>1</td>\n",
       "      <td>0</td>\n",
       "    </tr>\n",
       "    <tr>\n",
       "      <th>5</th>\n",
       "      <td>Chennai</td>\n",
       "      <td>Tamil Nadu</td>\n",
       "      <td>MPUA</td>\n",
       "      <td>4681087.0</td>\n",
       "      <td>904.0</td>\n",
       "      <td>26.0</td>\n",
       "      <td>31.0</td>\n",
       "      <td>210.0</td>\n",
       "      <td>179.0</td>\n",
       "      <td>0.536995</td>\n",
       "      <td>4231703.0</td>\n",
       "      <td>67.0</td>\n",
       "      <td>4684707.0</td>\n",
       "      <td>145606.0</td>\n",
       "      <td>1</td>\n",
       "      <td>0</td>\n",
       "      <td>0</td>\n",
       "    </tr>\n",
       "    <tr>\n",
       "      <th>6</th>\n",
       "      <td>Chennai</td>\n",
       "      <td>Tamil nadu</td>\n",
       "      <td>T</td>\n",
       "      <td>4646732.0</td>\n",
       "      <td>912.0</td>\n",
       "      <td>26.0</td>\n",
       "      <td>30.0</td>\n",
       "      <td>145.0</td>\n",
       "      <td>177.0</td>\n",
       "      <td>0.093451</td>\n",
       "      <td>4237820.0</td>\n",
       "      <td>55.0</td>\n",
       "      <td>4684707.0</td>\n",
       "      <td>145606.0</td>\n",
       "      <td>0</td>\n",
       "      <td>0</td>\n",
       "      <td>1</td>\n",
       "    </tr>\n",
       "    <tr>\n",
       "      <th>7</th>\n",
       "      <td>Kolkata</td>\n",
       "      <td>West Bengal</td>\n",
       "      <td>MPUA</td>\n",
       "      <td>4486679.0</td>\n",
       "      <td>945.0</td>\n",
       "      <td>26.0</td>\n",
       "      <td>37.0</td>\n",
       "      <td>85.0</td>\n",
       "      <td>151.0</td>\n",
       "      <td>0.473585</td>\n",
       "      <td>4239912.0</td>\n",
       "      <td>82.0</td>\n",
       "      <td>1489500.0</td>\n",
       "      <td>44957.0</td>\n",
       "      <td>0</td>\n",
       "      <td>0</td>\n",
       "      <td>0</td>\n",
       "    </tr>\n",
       "    <tr>\n",
       "      <th>8</th>\n",
       "      <td>Surat</td>\n",
       "      <td>Gujarat</td>\n",
       "      <td>MPUA</td>\n",
       "      <td>4467797.0</td>\n",
       "      <td>902.0</td>\n",
       "      <td>27.0</td>\n",
       "      <td>26.0</td>\n",
       "      <td>85.0</td>\n",
       "      <td>151.0</td>\n",
       "      <td>0.809334</td>\n",
       "      <td>3797627.0</td>\n",
       "      <td>98.0</td>\n",
       "      <td>284973.0</td>\n",
       "      <td>23432.0</td>\n",
       "      <td>0</td>\n",
       "      <td>0</td>\n",
       "      <td>0</td>\n",
       "    </tr>\n",
       "    <tr>\n",
       "      <th>9</th>\n",
       "      <td>Pune</td>\n",
       "      <td>Maharashtra</td>\n",
       "      <td>MPUA</td>\n",
       "      <td>3124458.0</td>\n",
       "      <td>902.0</td>\n",
       "      <td>29.0</td>\n",
       "      <td>29.0</td>\n",
       "      <td>85.0</td>\n",
       "      <td>151.0</td>\n",
       "      <td>0.445902</td>\n",
       "      <td>2743274.0</td>\n",
       "      <td>50.0</td>\n",
       "      <td>4408916.0</td>\n",
       "      <td>218502.0</td>\n",
       "      <td>0</td>\n",
       "      <td>0</td>\n",
       "      <td>0</td>\n",
       "    </tr>\n",
       "  </tbody>\n",
       "</table>\n",
       "</div>"
      ],
      "text/plain": [
       "        City        State  Type  Population [2011]  Sex Ratio  Median Age  \\\n",
       "0     Mumbai  Maharashtra    MC         12442373.0      878.0        23.0   \n",
       "1      Delhi        Delhi    MC         11007835.0      858.0        27.0   \n",
       "2  Bangalore    Karnataka  MPUA          8436675.0      936.0        28.0   \n",
       "3  Hyderabad    Telangana  MPUA          6809970.0      930.0        23.0   \n",
       "4  Ahmedabad      Gujarat  MPUA          5570585.0      852.0        29.0   \n",
       "5    Chennai   Tamil Nadu  MPUA          4681087.0      904.0        26.0   \n",
       "6    Chennai   Tamil nadu     T          4646732.0      912.0        26.0   \n",
       "7    Kolkata  West Bengal  MPUA          4486679.0      945.0        26.0   \n",
       "8      Surat      Gujarat  MPUA          4467797.0      902.0        27.0   \n",
       "9       Pune  Maharashtra  MPUA          3124458.0      902.0        29.0   \n",
       "\n",
       "   Avg Temp  Toilets Avl  Water Purity   H Index  Female Population  \\\n",
       "0      32.0        219.0         150.0  0.700440         10924403.0   \n",
       "1      30.0        215.0         196.0  0.920018          9444722.0   \n",
       "2      37.0        212.0         102.0  0.097085          7896728.0   \n",
       "3      31.0        217.0         118.0  0.827744          6333272.0   \n",
       "4      25.0        227.0         109.0  0.847941          4746138.0   \n",
       "5      31.0        210.0         179.0  0.536995          4231703.0   \n",
       "6      30.0        145.0         177.0  0.093451          4237820.0   \n",
       "7      37.0         85.0         151.0  0.473585          4239912.0   \n",
       "8      26.0         85.0         151.0  0.809334          3797627.0   \n",
       "9      29.0         85.0         151.0  0.445902          2743274.0   \n",
       "\n",
       "   hospitals  Foreign Visitors  Covid Cases  HIGH  LOW  MEDIUM  \n",
       "0      159.0         4408916.0     163115.0     0    0       1  \n",
       "1      148.0         2379169.0      80188.0     0    0       1  \n",
       "2      123.0          636502.0     141000.0     1    0       0  \n",
       "3      110.0          126078.0      55123.0     0    0       1  \n",
       "4       73.0          284973.0      33204.0     0    1       0  \n",
       "5       67.0         4684707.0     145606.0     1    0       0  \n",
       "6       55.0         4684707.0     145606.0     0    0       1  \n",
       "7       82.0         1489500.0      44957.0     0    0       0  \n",
       "8       98.0          284973.0      23432.0     0    0       0  \n",
       "9       50.0         4408916.0     218502.0     0    0       0  "
      ]
     },
     "execution_count": 72,
     "metadata": {},
     "output_type": "execute_result"
    }
   ],
   "source": [
    "data.head(10)"
   ]
  },
  {
   "cell_type": "code",
   "execution_count": 73,
   "metadata": {},
   "outputs": [],
   "source": [
    "encoded_columns = pd.get_dummies(data['Type'])\n",
    "data=data.join(encoded_columns).drop('Type', axis=1)"
   ]
  },
  {
   "cell_type": "code",
   "execution_count": 74,
   "metadata": {},
   "outputs": [
    {
     "data": {
      "text/html": [
       "<div>\n",
       "<style scoped>\n",
       "    .dataframe tbody tr th:only-of-type {\n",
       "        vertical-align: middle;\n",
       "    }\n",
       "\n",
       "    .dataframe tbody tr th {\n",
       "        vertical-align: top;\n",
       "    }\n",
       "\n",
       "    .dataframe thead th {\n",
       "        text-align: right;\n",
       "    }\n",
       "</style>\n",
       "<table border=\"1\" class=\"dataframe\">\n",
       "  <thead>\n",
       "    <tr style=\"text-align: right;\">\n",
       "      <th></th>\n",
       "      <th>City</th>\n",
       "      <th>State</th>\n",
       "      <th>Population [2011]</th>\n",
       "      <th>Sex Ratio</th>\n",
       "      <th>Median Age</th>\n",
       "      <th>Avg Temp</th>\n",
       "      <th>Toilets Avl</th>\n",
       "      <th>Water Purity</th>\n",
       "      <th>H Index</th>\n",
       "      <th>Female Population</th>\n",
       "      <th>...</th>\n",
       "      <th>NAC</th>\n",
       "      <th>NP</th>\n",
       "      <th>NPD</th>\n",
       "      <th>NPP</th>\n",
       "      <th>NT</th>\n",
       "      <th>T</th>\n",
       "      <th>TC</th>\n",
       "      <th>TMC</th>\n",
       "      <th>TP</th>\n",
       "      <th>UA</th>\n",
       "    </tr>\n",
       "  </thead>\n",
       "  <tbody>\n",
       "    <tr>\n",
       "      <th>0</th>\n",
       "      <td>Mumbai</td>\n",
       "      <td>Maharashtra</td>\n",
       "      <td>12442373.0</td>\n",
       "      <td>878.0</td>\n",
       "      <td>23.0</td>\n",
       "      <td>32.0</td>\n",
       "      <td>219.0</td>\n",
       "      <td>150.0</td>\n",
       "      <td>0.700440</td>\n",
       "      <td>10924403.0</td>\n",
       "      <td>...</td>\n",
       "      <td>0</td>\n",
       "      <td>0</td>\n",
       "      <td>0</td>\n",
       "      <td>0</td>\n",
       "      <td>0</td>\n",
       "      <td>0</td>\n",
       "      <td>0</td>\n",
       "      <td>0</td>\n",
       "      <td>0</td>\n",
       "      <td>0</td>\n",
       "    </tr>\n",
       "    <tr>\n",
       "      <th>1</th>\n",
       "      <td>Delhi</td>\n",
       "      <td>Delhi</td>\n",
       "      <td>11007835.0</td>\n",
       "      <td>858.0</td>\n",
       "      <td>27.0</td>\n",
       "      <td>30.0</td>\n",
       "      <td>215.0</td>\n",
       "      <td>196.0</td>\n",
       "      <td>0.920018</td>\n",
       "      <td>9444722.0</td>\n",
       "      <td>...</td>\n",
       "      <td>0</td>\n",
       "      <td>0</td>\n",
       "      <td>0</td>\n",
       "      <td>0</td>\n",
       "      <td>0</td>\n",
       "      <td>0</td>\n",
       "      <td>0</td>\n",
       "      <td>0</td>\n",
       "      <td>0</td>\n",
       "      <td>0</td>\n",
       "    </tr>\n",
       "    <tr>\n",
       "      <th>2</th>\n",
       "      <td>Bangalore</td>\n",
       "      <td>Karnataka</td>\n",
       "      <td>8436675.0</td>\n",
       "      <td>936.0</td>\n",
       "      <td>28.0</td>\n",
       "      <td>37.0</td>\n",
       "      <td>212.0</td>\n",
       "      <td>102.0</td>\n",
       "      <td>0.097085</td>\n",
       "      <td>7896728.0</td>\n",
       "      <td>...</td>\n",
       "      <td>0</td>\n",
       "      <td>0</td>\n",
       "      <td>0</td>\n",
       "      <td>0</td>\n",
       "      <td>0</td>\n",
       "      <td>0</td>\n",
       "      <td>0</td>\n",
       "      <td>0</td>\n",
       "      <td>0</td>\n",
       "      <td>0</td>\n",
       "    </tr>\n",
       "  </tbody>\n",
       "</table>\n",
       "<p>3 rows × 40 columns</p>\n",
       "</div>"
      ],
      "text/plain": [
       "        City        State  Population [2011]  Sex Ratio  Median Age  Avg Temp  \\\n",
       "0     Mumbai  Maharashtra         12442373.0      878.0        23.0      32.0   \n",
       "1      Delhi        Delhi         11007835.0      858.0        27.0      30.0   \n",
       "2  Bangalore    Karnataka          8436675.0      936.0        28.0      37.0   \n",
       "\n",
       "   Toilets Avl  Water Purity   H Index  Female Population  ...  NAC  NP  NPD  \\\n",
       "0        219.0         150.0  0.700440         10924403.0  ...    0   0    0   \n",
       "1        215.0         196.0  0.920018          9444722.0  ...    0   0    0   \n",
       "2        212.0         102.0  0.097085          7896728.0  ...    0   0    0   \n",
       "\n",
       "   NPP  NT  T  TC  TMC  TP  UA  \n",
       "0    0   0  0   0    0   0   0  \n",
       "1    0   0  0   0    0   0   0  \n",
       "2    0   0  0   0    0   0   0  \n",
       "\n",
       "[3 rows x 40 columns]"
      ]
     },
     "execution_count": 74,
     "metadata": {},
     "output_type": "execute_result"
    }
   ],
   "source": [
    "data.head(3)"
   ]
  },
  {
   "cell_type": "code",
   "execution_count": 75,
   "metadata": {},
   "outputs": [
    {
     "data": {
      "text/plain": [
       "City                   0\n",
       "State                  0\n",
       "Population [2011]     54\n",
       "Sex Ratio              0\n",
       "Median Age             0\n",
       "Avg Temp               0\n",
       "Toilets Avl            0\n",
       "Water Purity           0\n",
       "H Index                0\n",
       "Female Population    156\n",
       "hospitals              0\n",
       "Foreign Visitors     107\n",
       "Covid Cases          501\n",
       "HIGH                   0\n",
       "LOW                    0\n",
       "MEDIUM                 0\n",
       "C-1T                   0\n",
       "CB                     0\n",
       "CMC                    0\n",
       "CT                     0\n",
       "GP                     0\n",
       "INA                    0\n",
       "M                      0\n",
       "M Cl                   0\n",
       "MB                     0\n",
       "MC                     0\n",
       "MCL                    0\n",
       "MF                     0\n",
       "MPUA                   0\n",
       "NA                     0\n",
       "NAC                    0\n",
       "NP                     0\n",
       "NPD                    0\n",
       "NPP                    0\n",
       "NT                     0\n",
       "T                      0\n",
       "TC                     0\n",
       "TMC                    0\n",
       "TP                     0\n",
       "UA                     0\n",
       "dtype: int64"
      ]
     },
     "execution_count": 75,
     "metadata": {},
     "output_type": "execute_result"
    }
   ],
   "source": [
    "data.isnull().sum()"
   ]
  },
  {
   "cell_type": "code",
   "execution_count": 76,
   "metadata": {},
   "outputs": [
    {
     "name": "stdout",
     "output_type": "stream",
     "text": [
      "47392.0\n"
     ]
    }
   ],
   "source": [
    "med = data['Population [2011]'].median()\n",
    "print(med)\n",
    "data['Population [2011]'] = data['Population [2011]'].fillna(med)\n",
    "\n",
    "\n",
    "\n",
    "\n",
    "\n"
   ]
  },
  {
   "cell_type": "code",
   "execution_count": 77,
   "metadata": {},
   "outputs": [
    {
     "name": "stdout",
     "output_type": "stream",
     "text": [
      "636502.0\n"
     ]
    }
   ],
   "source": [
    "\n",
    "med = data['Foreign Visitors'].median()\n",
    "print(med)\n",
    "data['Foreign Visitors'] = data['Foreign Visitors'].fillna(med)"
   ]
  },
  {
   "cell_type": "code",
   "execution_count": 78,
   "metadata": {},
   "outputs": [
    {
     "data": {
      "text/plain": [
       "City                   0\n",
       "State                  0\n",
       "Population [2011]      0\n",
       "Sex Ratio              0\n",
       "Median Age             0\n",
       "Avg Temp               0\n",
       "Toilets Avl            0\n",
       "Water Purity           0\n",
       "H Index                0\n",
       "Female Population    156\n",
       "hospitals              0\n",
       "Foreign Visitors       0\n",
       "Covid Cases          501\n",
       "HIGH                   0\n",
       "LOW                    0\n",
       "MEDIUM                 0\n",
       "C-1T                   0\n",
       "CB                     0\n",
       "CMC                    0\n",
       "CT                     0\n",
       "GP                     0\n",
       "INA                    0\n",
       "M                      0\n",
       "M Cl                   0\n",
       "MB                     0\n",
       "MC                     0\n",
       "MCL                    0\n",
       "MF                     0\n",
       "MPUA                   0\n",
       "NA                     0\n",
       "NAC                    0\n",
       "NP                     0\n",
       "NPD                    0\n",
       "NPP                    0\n",
       "NT                     0\n",
       "T                      0\n",
       "TC                     0\n",
       "TMC                    0\n",
       "TP                     0\n",
       "UA                     0\n",
       "dtype: int64"
      ]
     },
     "execution_count": 78,
     "metadata": {},
     "output_type": "execute_result"
    }
   ],
   "source": [
    "data.isnull().sum()"
   ]
  },
  {
   "cell_type": "code",
   "execution_count": 79,
   "metadata": {},
   "outputs": [],
   "source": [
    "lst=['Population [2011]','Sex Ratio','Median Age','Avg Temp','Toilets Avl','Water Purity','H Index','Female Population','hospitals','Foreign Visitors']\n"
   ]
  },
  {
   "cell_type": "code",
   "execution_count": 80,
   "metadata": {},
   "outputs": [],
   "source": [
    "for i in lst:\n",
    "    data[i] = (data[i] -data[i].mean()) /data[i].std()"
   ]
  },
  {
   "cell_type": "code",
   "execution_count": 81,
   "metadata": {},
   "outputs": [
    {
     "data": {
      "text/html": [
       "<div>\n",
       "<style scoped>\n",
       "    .dataframe tbody tr th:only-of-type {\n",
       "        vertical-align: middle;\n",
       "    }\n",
       "\n",
       "    .dataframe tbody tr th {\n",
       "        vertical-align: top;\n",
       "    }\n",
       "\n",
       "    .dataframe thead th {\n",
       "        text-align: right;\n",
       "    }\n",
       "</style>\n",
       "<table border=\"1\" class=\"dataframe\">\n",
       "  <thead>\n",
       "    <tr style=\"text-align: right;\">\n",
       "      <th></th>\n",
       "      <th>City</th>\n",
       "      <th>State</th>\n",
       "      <th>Population [2011]</th>\n",
       "      <th>Sex Ratio</th>\n",
       "      <th>Median Age</th>\n",
       "      <th>Avg Temp</th>\n",
       "      <th>Toilets Avl</th>\n",
       "      <th>Water Purity</th>\n",
       "      <th>H Index</th>\n",
       "      <th>Female Population</th>\n",
       "      <th>...</th>\n",
       "      <th>NAC</th>\n",
       "      <th>NP</th>\n",
       "      <th>NPD</th>\n",
       "      <th>NPP</th>\n",
       "      <th>NT</th>\n",
       "      <th>T</th>\n",
       "      <th>TC</th>\n",
       "      <th>TMC</th>\n",
       "      <th>TP</th>\n",
       "      <th>UA</th>\n",
       "    </tr>\n",
       "  </thead>\n",
       "  <tbody>\n",
       "    <tr>\n",
       "      <th>0</th>\n",
       "      <td>Mumbai</td>\n",
       "      <td>Maharashtra</td>\n",
       "      <td>17.847286</td>\n",
       "      <td>-0.630036</td>\n",
       "      <td>-1.502875</td>\n",
       "      <td>0.221852</td>\n",
       "      <td>4.558506</td>\n",
       "      <td>-0.030859</td>\n",
       "      <td>0.739112</td>\n",
       "      <td>16.670507</td>\n",
       "      <td>...</td>\n",
       "      <td>0</td>\n",
       "      <td>0</td>\n",
       "      <td>0</td>\n",
       "      <td>0</td>\n",
       "      <td>0</td>\n",
       "      <td>0</td>\n",
       "      <td>0</td>\n",
       "      <td>0</td>\n",
       "      <td>0</td>\n",
       "      <td>0</td>\n",
       "    </tr>\n",
       "    <tr>\n",
       "      <th>1</th>\n",
       "      <td>Delhi</td>\n",
       "      <td>Delhi</td>\n",
       "      <td>15.757763</td>\n",
       "      <td>-1.160817</td>\n",
       "      <td>0.402344</td>\n",
       "      <td>-0.031244</td>\n",
       "      <td>4.420558</td>\n",
       "      <td>1.682693</td>\n",
       "      <td>1.548018</td>\n",
       "      <td>14.375613</td>\n",
       "      <td>...</td>\n",
       "      <td>0</td>\n",
       "      <td>0</td>\n",
       "      <td>0</td>\n",
       "      <td>0</td>\n",
       "      <td>0</td>\n",
       "      <td>0</td>\n",
       "      <td>0</td>\n",
       "      <td>0</td>\n",
       "      <td>0</td>\n",
       "      <td>0</td>\n",
       "    </tr>\n",
       "    <tr>\n",
       "      <th>2</th>\n",
       "      <td>Bangalore</td>\n",
       "      <td>Karnataka</td>\n",
       "      <td>12.012656</td>\n",
       "      <td>0.909232</td>\n",
       "      <td>0.878649</td>\n",
       "      <td>0.854590</td>\n",
       "      <td>4.317098</td>\n",
       "      <td>-1.818914</td>\n",
       "      <td>-1.483588</td>\n",
       "      <td>11.974770</td>\n",
       "      <td>...</td>\n",
       "      <td>0</td>\n",
       "      <td>0</td>\n",
       "      <td>0</td>\n",
       "      <td>0</td>\n",
       "      <td>0</td>\n",
       "      <td>0</td>\n",
       "      <td>0</td>\n",
       "      <td>0</td>\n",
       "      <td>0</td>\n",
       "      <td>0</td>\n",
       "    </tr>\n",
       "  </tbody>\n",
       "</table>\n",
       "<p>3 rows × 40 columns</p>\n",
       "</div>"
      ],
      "text/plain": [
       "        City        State  Population [2011]  Sex Ratio  Median Age  Avg Temp  \\\n",
       "0     Mumbai  Maharashtra          17.847286  -0.630036   -1.502875  0.221852   \n",
       "1      Delhi        Delhi          15.757763  -1.160817    0.402344 -0.031244   \n",
       "2  Bangalore    Karnataka          12.012656   0.909232    0.878649  0.854590   \n",
       "\n",
       "   Toilets Avl  Water Purity   H Index  Female Population  ...  NAC  NP  NPD  \\\n",
       "0     4.558506     -0.030859  0.739112          16.670507  ...    0   0    0   \n",
       "1     4.420558      1.682693  1.548018          14.375613  ...    0   0    0   \n",
       "2     4.317098     -1.818914 -1.483588          11.974770  ...    0   0    0   \n",
       "\n",
       "   NPP  NT  T  TC  TMC  TP  UA  \n",
       "0    0   0  0   0    0   0   0  \n",
       "1    0   0  0   0    0   0   0  \n",
       "2    0   0  0   0    0   0   0  \n",
       "\n",
       "[3 rows x 40 columns]"
      ]
     },
     "execution_count": 81,
     "metadata": {},
     "output_type": "execute_result"
    }
   ],
   "source": [
    "data.head(3)"
   ]
  },
  {
   "cell_type": "code",
   "execution_count": null,
   "metadata": {},
   "outputs": [],
   "source": []
  },
  {
   "cell_type": "code",
   "execution_count": null,
   "metadata": {},
   "outputs": [],
   "source": []
  },
  {
   "cell_type": "code",
   "execution_count": 82,
   "metadata": {},
   "outputs": [],
   "source": [
    "train_data=data[data['Covid Cases'].notnull()]\n",
    "test_data=data[data['Covid Cases'].isnull()]\n"
   ]
  },
  {
   "cell_type": "code",
   "execution_count": 83,
   "metadata": {},
   "outputs": [
    {
     "data": {
      "text/plain": [
       "City                   0\n",
       "State                  0\n",
       "Population [2011]      0\n",
       "Sex Ratio              0\n",
       "Median Age             0\n",
       "Avg Temp               0\n",
       "Toilets Avl            0\n",
       "Water Purity           0\n",
       "H Index                0\n",
       "Female Population    141\n",
       "hospitals              0\n",
       "Foreign Visitors       0\n",
       "Covid Cases            0\n",
       "HIGH                   0\n",
       "LOW                    0\n",
       "MEDIUM                 0\n",
       "C-1T                   0\n",
       "CB                     0\n",
       "CMC                    0\n",
       "CT                     0\n",
       "GP                     0\n",
       "INA                    0\n",
       "M                      0\n",
       "M Cl                   0\n",
       "MB                     0\n",
       "MC                     0\n",
       "MCL                    0\n",
       "MF                     0\n",
       "MPUA                   0\n",
       "NA                     0\n",
       "NAC                    0\n",
       "NP                     0\n",
       "NPD                    0\n",
       "NPP                    0\n",
       "NT                     0\n",
       "T                      0\n",
       "TC                     0\n",
       "TMC                    0\n",
       "TP                     0\n",
       "UA                     0\n",
       "dtype: int64"
      ]
     },
     "execution_count": 83,
     "metadata": {},
     "output_type": "execute_result"
    }
   ],
   "source": [
    "train_data.isnull().sum()"
   ]
  },
  {
   "cell_type": "code",
   "execution_count": 84,
   "metadata": {},
   "outputs": [],
   "source": [
    "X = train_data[['Population [2011]','Median Age','Avg Temp','Toilets Avl','Water Purity','H Index','hospitals','Foreign Visitors','HIGH','LOW','MEDIUM']]\n",
    "Y = train_data['Covid Cases']"
   ]
  },
  {
   "cell_type": "code",
   "execution_count": 85,
   "metadata": {},
   "outputs": [],
   "source": [
    "from sklearn.model_selection import train_test_split\n",
    "from sklearn.svm import SVR\n",
    "from sklearn.metrics import r2_score,mean_squared_error\n",
    "import seaborn as sns\n",
    "import matplotlib.pyplot as plt"
   ]
  },
  {
   "cell_type": "code",
   "execution_count": 86,
   "metadata": {},
   "outputs": [],
   "source": [
    "\n",
    "X_train,X_test,Y_train,Y_test=train_test_split(X,Y,test_size=0.2,random_state=0)"
   ]
  },
  {
   "cell_type": "code",
   "execution_count": 87,
   "metadata": {},
   "outputs": [],
   "source": [
    "# applying SVM\n",
    "from sklearn.svm import SVR\n",
    "sv=SVR(kernel='rbf')\n"
   ]
  },
  {
   "cell_type": "code",
   "execution_count": 88,
   "metadata": {},
   "outputs": [
    {
     "data": {
      "text/html": [
       "<div>\n",
       "<style scoped>\n",
       "    .dataframe tbody tr th:only-of-type {\n",
       "        vertical-align: middle;\n",
       "    }\n",
       "\n",
       "    .dataframe tbody tr th {\n",
       "        vertical-align: top;\n",
       "    }\n",
       "\n",
       "    .dataframe thead th {\n",
       "        text-align: right;\n",
       "    }\n",
       "</style>\n",
       "<table border=\"1\" class=\"dataframe\">\n",
       "  <thead>\n",
       "    <tr style=\"text-align: right;\">\n",
       "      <th></th>\n",
       "      <th>Population [2011]</th>\n",
       "      <th>Median Age</th>\n",
       "      <th>Avg Temp</th>\n",
       "      <th>Toilets Avl</th>\n",
       "      <th>Water Purity</th>\n",
       "      <th>H Index</th>\n",
       "      <th>hospitals</th>\n",
       "      <th>Foreign Visitors</th>\n",
       "      <th>HIGH</th>\n",
       "      <th>LOW</th>\n",
       "      <th>MEDIUM</th>\n",
       "    </tr>\n",
       "  </thead>\n",
       "  <tbody>\n",
       "    <tr>\n",
       "      <th>435</th>\n",
       "      <td>-0.172855</td>\n",
       "      <td>0.402344</td>\n",
       "      <td>0.601495</td>\n",
       "      <td>-0.338630</td>\n",
       "      <td>0.006392</td>\n",
       "      <td>0.027836</td>\n",
       "      <td>-0.668366</td>\n",
       "      <td>-0.756226</td>\n",
       "      <td>1</td>\n",
       "      <td>0</td>\n",
       "      <td>0</td>\n",
       "    </tr>\n",
       "    <tr>\n",
       "      <th>501</th>\n",
       "      <td>-0.186034</td>\n",
       "      <td>1.354954</td>\n",
       "      <td>1.234234</td>\n",
       "      <td>-0.062735</td>\n",
       "      <td>-0.068111</td>\n",
       "      <td>-1.134059</td>\n",
       "      <td>-0.397754</td>\n",
       "      <td>0.010874</td>\n",
       "      <td>0</td>\n",
       "      <td>1</td>\n",
       "      <td>0</td>\n",
       "    </tr>\n",
       "    <tr>\n",
       "      <th>597</th>\n",
       "      <td>-0.200234</td>\n",
       "      <td>0.878649</td>\n",
       "      <td>-0.157792</td>\n",
       "      <td>-1.028367</td>\n",
       "      <td>-1.595407</td>\n",
       "      <td>0.417042</td>\n",
       "      <td>-0.204460</td>\n",
       "      <td>-0.643757</td>\n",
       "      <td>1</td>\n",
       "      <td>0</td>\n",
       "      <td>0</td>\n",
       "    </tr>\n",
       "    <tr>\n",
       "      <th>247</th>\n",
       "      <td>0.002608</td>\n",
       "      <td>-0.073960</td>\n",
       "      <td>-0.157792</td>\n",
       "      <td>1.385714</td>\n",
       "      <td>1.049424</td>\n",
       "      <td>-0.182541</td>\n",
       "      <td>2.463003</td>\n",
       "      <td>1.000394</td>\n",
       "      <td>0</td>\n",
       "      <td>0</td>\n",
       "      <td>1</td>\n",
       "    </tr>\n",
       "    <tr>\n",
       "      <th>457</th>\n",
       "      <td>-0.178132</td>\n",
       "      <td>0.402344</td>\n",
       "      <td>-0.663983</td>\n",
       "      <td>-0.580038</td>\n",
       "      <td>0.006392</td>\n",
       "      <td>0.027836</td>\n",
       "      <td>-0.359095</td>\n",
       "      <td>1.969130</td>\n",
       "      <td>0</td>\n",
       "      <td>1</td>\n",
       "      <td>0</td>\n",
       "    </tr>\n",
       "    <tr>\n",
       "      <th>...</th>\n",
       "      <td>...</td>\n",
       "      <td>...</td>\n",
       "      <td>...</td>\n",
       "      <td>...</td>\n",
       "      <td>...</td>\n",
       "      <td>...</td>\n",
       "      <td>...</td>\n",
       "      <td>...</td>\n",
       "      <td>...</td>\n",
       "      <td>...</td>\n",
       "      <td>...</td>\n",
       "    </tr>\n",
       "    <tr>\n",
       "      <th>763</th>\n",
       "      <td>-0.220789</td>\n",
       "      <td>1.354954</td>\n",
       "      <td>0.601495</td>\n",
       "      <td>0.109699</td>\n",
       "      <td>0.974921</td>\n",
       "      <td>-0.406321</td>\n",
       "      <td>-0.823002</td>\n",
       "      <td>1.800105</td>\n",
       "      <td>0</td>\n",
       "      <td>1</td>\n",
       "      <td>0</td>\n",
       "    </tr>\n",
       "    <tr>\n",
       "      <th>192</th>\n",
       "      <td>0.069994</td>\n",
       "      <td>-0.550265</td>\n",
       "      <td>0.854590</td>\n",
       "      <td>2.144425</td>\n",
       "      <td>-1.297398</td>\n",
       "      <td>0.374078</td>\n",
       "      <td>1.187260</td>\n",
       "      <td>-0.511905</td>\n",
       "      <td>0</td>\n",
       "      <td>0</td>\n",
       "      <td>1</td>\n",
       "    </tr>\n",
       "    <tr>\n",
       "      <th>629</th>\n",
       "      <td>-0.203485</td>\n",
       "      <td>-0.073960</td>\n",
       "      <td>1.234234</td>\n",
       "      <td>-0.752472</td>\n",
       "      <td>-0.328869</td>\n",
       "      <td>1.128458</td>\n",
       "      <td>-0.359095</td>\n",
       "      <td>-0.753460</td>\n",
       "      <td>0</td>\n",
       "      <td>1</td>\n",
       "      <td>0</td>\n",
       "    </tr>\n",
       "    <tr>\n",
       "      <th>559</th>\n",
       "      <td>-0.194600</td>\n",
       "      <td>-0.550265</td>\n",
       "      <td>0.981138</td>\n",
       "      <td>0.109699</td>\n",
       "      <td>-0.068111</td>\n",
       "      <td>0.653169</td>\n",
       "      <td>-0.475072</td>\n",
       "      <td>-0.860955</td>\n",
       "      <td>0</td>\n",
       "      <td>0</td>\n",
       "      <td>1</td>\n",
       "    </tr>\n",
       "    <tr>\n",
       "      <th>684</th>\n",
       "      <td>-0.211078</td>\n",
       "      <td>1.831259</td>\n",
       "      <td>-0.031244</td>\n",
       "      <td>-0.924907</td>\n",
       "      <td>0.900419</td>\n",
       "      <td>0.125468</td>\n",
       "      <td>-0.823002</td>\n",
       "      <td>-0.302930</td>\n",
       "      <td>0</td>\n",
       "      <td>1</td>\n",
       "      <td>0</td>\n",
       "    </tr>\n",
       "  </tbody>\n",
       "</table>\n",
       "<p>629 rows × 11 columns</p>\n",
       "</div>"
      ],
      "text/plain": [
       "     Population [2011]  Median Age  Avg Temp  Toilets Avl  Water Purity  \\\n",
       "435          -0.172855    0.402344  0.601495    -0.338630      0.006392   \n",
       "501          -0.186034    1.354954  1.234234    -0.062735     -0.068111   \n",
       "597          -0.200234    0.878649 -0.157792    -1.028367     -1.595407   \n",
       "247           0.002608   -0.073960 -0.157792     1.385714      1.049424   \n",
       "457          -0.178132    0.402344 -0.663983    -0.580038      0.006392   \n",
       "..                 ...         ...       ...          ...           ...   \n",
       "763          -0.220789    1.354954  0.601495     0.109699      0.974921   \n",
       "192           0.069994   -0.550265  0.854590     2.144425     -1.297398   \n",
       "629          -0.203485   -0.073960  1.234234    -0.752472     -0.328869   \n",
       "559          -0.194600   -0.550265  0.981138     0.109699     -0.068111   \n",
       "684          -0.211078    1.831259 -0.031244    -0.924907      0.900419   \n",
       "\n",
       "      H Index  hospitals  Foreign Visitors  HIGH  LOW  MEDIUM  \n",
       "435  0.027836  -0.668366         -0.756226     1    0       0  \n",
       "501 -1.134059  -0.397754          0.010874     0    1       0  \n",
       "597  0.417042  -0.204460         -0.643757     1    0       0  \n",
       "247 -0.182541   2.463003          1.000394     0    0       1  \n",
       "457  0.027836  -0.359095          1.969130     0    1       0  \n",
       "..        ...        ...               ...   ...  ...     ...  \n",
       "763 -0.406321  -0.823002          1.800105     0    1       0  \n",
       "192  0.374078   1.187260         -0.511905     0    0       1  \n",
       "629  1.128458  -0.359095         -0.753460     0    1       0  \n",
       "559  0.653169  -0.475072         -0.860955     0    0       1  \n",
       "684  0.125468  -0.823002         -0.302930     0    1       0  \n",
       "\n",
       "[629 rows x 11 columns]"
      ]
     },
     "execution_count": 88,
     "metadata": {},
     "output_type": "execute_result"
    }
   ],
   "source": [
    "X_train"
   ]
  },
  {
   "cell_type": "code",
   "execution_count": 89,
   "metadata": {},
   "outputs": [
    {
     "data": {
      "text/plain": [
       "Population [2011]    float64\n",
       "Median Age           float64\n",
       "Avg Temp             float64\n",
       "Toilets Avl          float64\n",
       "Water Purity         float64\n",
       "H Index              float64\n",
       "hospitals            float64\n",
       "Foreign Visitors     float64\n",
       "HIGH                   uint8\n",
       "LOW                    uint8\n",
       "MEDIUM                 uint8\n",
       "dtype: object"
      ]
     },
     "execution_count": 89,
     "metadata": {},
     "output_type": "execute_result"
    }
   ],
   "source": [
    "X_train.dtypes"
   ]
  },
  {
   "cell_type": "code",
   "execution_count": 90,
   "metadata": {
    "scrolled": true
   },
   "outputs": [
    {
     "data": {
      "text/plain": [
       "SVR(C=1.0, cache_size=200, coef0=0.0, degree=3, epsilon=0.1, gamma='scale',\n",
       "    kernel='rbf', max_iter=-1, shrinking=True, tol=0.001, verbose=False)"
      ]
     },
     "execution_count": 90,
     "metadata": {},
     "output_type": "execute_result"
    }
   ],
   "source": [
    "sv.fit(X_train,Y_train)"
   ]
  },
  {
   "cell_type": "code",
   "execution_count": 91,
   "metadata": {},
   "outputs": [],
   "source": [
    "y_pred=sv.predict(X_test)"
   ]
  },
  {
   "cell_type": "code",
   "execution_count": 92,
   "metadata": {},
   "outputs": [
    {
     "data": {
      "text/html": [
       "<div>\n",
       "<style scoped>\n",
       "    .dataframe tbody tr th:only-of-type {\n",
       "        vertical-align: middle;\n",
       "    }\n",
       "\n",
       "    .dataframe tbody tr th {\n",
       "        vertical-align: top;\n",
       "    }\n",
       "\n",
       "    .dataframe thead th {\n",
       "        text-align: right;\n",
       "    }\n",
       "</style>\n",
       "<table border=\"1\" class=\"dataframe\">\n",
       "  <thead>\n",
       "    <tr style=\"text-align: right;\">\n",
       "      <th></th>\n",
       "      <th>Actual</th>\n",
       "      <th>Predicted</th>\n",
       "    </tr>\n",
       "  </thead>\n",
       "  <tbody>\n",
       "    <tr>\n",
       "      <th>647</th>\n",
       "      <td>2188.0</td>\n",
       "      <td>2563.595748</td>\n",
       "    </tr>\n",
       "    <tr>\n",
       "      <th>85</th>\n",
       "      <td>30609.0</td>\n",
       "      <td>2628.143538</td>\n",
       "    </tr>\n",
       "    <tr>\n",
       "      <th>614</th>\n",
       "      <td>2338.0</td>\n",
       "      <td>2565.891381</td>\n",
       "    </tr>\n",
       "    <tr>\n",
       "      <th>310</th>\n",
       "      <td>8263.0</td>\n",
       "      <td>2593.689152</td>\n",
       "    </tr>\n",
       "    <tr>\n",
       "      <th>299</th>\n",
       "      <td>8134.0</td>\n",
       "      <td>2631.781099</td>\n",
       "    </tr>\n",
       "    <tr>\n",
       "      <th>14</th>\n",
       "      <td>44700.0</td>\n",
       "      <td>2613.134747</td>\n",
       "    </tr>\n",
       "    <tr>\n",
       "      <th>363</th>\n",
       "      <td>2343.0</td>\n",
       "      <td>2548.369253</td>\n",
       "    </tr>\n",
       "    <tr>\n",
       "      <th>713</th>\n",
       "      <td>2320.0</td>\n",
       "      <td>2567.376556</td>\n",
       "    </tr>\n",
       "    <tr>\n",
       "      <th>55</th>\n",
       "      <td>6031.0</td>\n",
       "      <td>2642.746790</td>\n",
       "    </tr>\n",
       "    <tr>\n",
       "      <th>31</th>\n",
       "      <td>20133.0</td>\n",
       "      <td>2592.922348</td>\n",
       "    </tr>\n",
       "  </tbody>\n",
       "</table>\n",
       "</div>"
      ],
      "text/plain": [
       "      Actual    Predicted\n",
       "647   2188.0  2563.595748\n",
       "85   30609.0  2628.143538\n",
       "614   2338.0  2565.891381\n",
       "310   8263.0  2593.689152\n",
       "299   8134.0  2631.781099\n",
       "14   44700.0  2613.134747\n",
       "363   2343.0  2548.369253\n",
       "713   2320.0  2567.376556\n",
       "55    6031.0  2642.746790\n",
       "31   20133.0  2592.922348"
      ]
     },
     "execution_count": 92,
     "metadata": {},
     "output_type": "execute_result"
    }
   ],
   "source": [
    "pred_df=pd.DataFrame({'Actual':Y_test,'Predicted':y_pred})\n",
    "pred_df.head(10)"
   ]
  },
  {
   "cell_type": "code",
   "execution_count": 93,
   "metadata": {},
   "outputs": [
    {
     "name": "stdout",
     "output_type": "stream",
     "text": [
      "R-2 score:  -0.10636703859965224\n"
     ]
    }
   ],
   "source": [
    "from sklearn import metrics\n",
    "print('R-2 score: ',metrics.r2_score(Y_test,y_pred))"
   ]
  },
  {
   "cell_type": "code",
   "execution_count": 94,
   "metadata": {},
   "outputs": [],
   "source": [
    "from sklearn.ensemble import RandomForestRegressor"
   ]
  },
  {
   "cell_type": "code",
   "execution_count": 95,
   "metadata": {},
   "outputs": [],
   "source": [
    "rf=RandomForestRegressor()"
   ]
  },
  {
   "cell_type": "code",
   "execution_count": 96,
   "metadata": {},
   "outputs": [],
   "source": [
    "rf.fit(X_train,Y_train)\n",
    "y_pre=rf.predict(X_test)\n"
   ]
  },
  {
   "cell_type": "code",
   "execution_count": 97,
   "metadata": {},
   "outputs": [
    {
     "data": {
      "text/html": [
       "<div>\n",
       "<style scoped>\n",
       "    .dataframe tbody tr th:only-of-type {\n",
       "        vertical-align: middle;\n",
       "    }\n",
       "\n",
       "    .dataframe tbody tr th {\n",
       "        vertical-align: top;\n",
       "    }\n",
       "\n",
       "    .dataframe thead th {\n",
       "        text-align: right;\n",
       "    }\n",
       "</style>\n",
       "<table border=\"1\" class=\"dataframe\">\n",
       "  <thead>\n",
       "    <tr style=\"text-align: right;\">\n",
       "      <th></th>\n",
       "      <th>Actual</th>\n",
       "      <th>Predicted</th>\n",
       "    </tr>\n",
       "  </thead>\n",
       "  <tbody>\n",
       "    <tr>\n",
       "      <th>642</th>\n",
       "      <td>2076.0</td>\n",
       "      <td>2102.77</td>\n",
       "    </tr>\n",
       "    <tr>\n",
       "      <th>367</th>\n",
       "      <td>2579.0</td>\n",
       "      <td>2282.61</td>\n",
       "    </tr>\n",
       "    <tr>\n",
       "      <th>261</th>\n",
       "      <td>428.0</td>\n",
       "      <td>9082.63</td>\n",
       "    </tr>\n",
       "    <tr>\n",
       "      <th>434</th>\n",
       "      <td>2184.0</td>\n",
       "      <td>4306.62</td>\n",
       "    </tr>\n",
       "    <tr>\n",
       "      <th>76</th>\n",
       "      <td>1996.0</td>\n",
       "      <td>8404.99</td>\n",
       "    </tr>\n",
       "    <tr>\n",
       "      <th>64</th>\n",
       "      <td>34227.0</td>\n",
       "      <td>10047.03</td>\n",
       "    </tr>\n",
       "    <tr>\n",
       "      <th>625</th>\n",
       "      <td>2351.0</td>\n",
       "      <td>2332.28</td>\n",
       "    </tr>\n",
       "    <tr>\n",
       "      <th>52</th>\n",
       "      <td>8540.0</td>\n",
       "      <td>12358.77</td>\n",
       "    </tr>\n",
       "    <tr>\n",
       "      <th>535</th>\n",
       "      <td>2384.0</td>\n",
       "      <td>2282.29</td>\n",
       "    </tr>\n",
       "    <tr>\n",
       "      <th>240</th>\n",
       "      <td>9712.0</td>\n",
       "      <td>8169.21</td>\n",
       "    </tr>\n",
       "  </tbody>\n",
       "</table>\n",
       "</div>"
      ],
      "text/plain": [
       "      Actual  Predicted\n",
       "642   2076.0    2102.77\n",
       "367   2579.0    2282.61\n",
       "261    428.0    9082.63\n",
       "434   2184.0    4306.62\n",
       "76    1996.0    8404.99\n",
       "64   34227.0   10047.03\n",
       "625   2351.0    2332.28\n",
       "52    8540.0   12358.77\n",
       "535   2384.0    2282.29\n",
       "240   9712.0    8169.21"
      ]
     },
     "execution_count": 97,
     "metadata": {},
     "output_type": "execute_result"
    }
   ],
   "source": [
    "pred_df=pd.DataFrame({'Actual':Y_test,'Predicted':y_pre})\n",
    "pred_df.tail(10)"
   ]
  },
  {
   "cell_type": "code",
   "execution_count": 98,
   "metadata": {},
   "outputs": [
    {
     "name": "stdout",
     "output_type": "stream",
     "text": [
      "R-2 score:  0.5120345634809156\n"
     ]
    }
   ],
   "source": [
    "from sklearn import metrics\n",
    "print('R-2 score: ',metrics.r2_score(Y_test,y_pre))"
   ]
  },
  {
   "cell_type": "code",
   "execution_count": 99,
   "metadata": {},
   "outputs": [],
   "source": [
    "import pandas as pd\n",
    "from mlxtend.regressor import StackingRegressor\n",
    "from sklearn.linear_model import LinearRegression\n",
    "from sklearn.linear_model import Ridge\n",
    "from sklearn.svm import SVR\n",
    "import matplotlib.pyplot as plt\n",
    "import numpy as np\n",
    "from sklearn.ensemble import RandomForestRegressor\n",
    "from sklearn.model_selection import train_test_split"
   ]
  },
  {
   "cell_type": "code",
   "execution_count": 100,
   "metadata": {},
   "outputs": [
    {
     "name": "stdout",
     "output_type": "stream",
     "text": [
      "Requirement already satisfied: mlxtend in c:\\users\\harshit\\anaconda3\\lib\\site-packages (0.17.3)\n",
      "Requirement already satisfied: numpy>=1.16.2 in c:\\users\\harshit\\anaconda3\\lib\\site-packages (from mlxtend) (1.18.1)\n",
      "Requirement already satisfied: setuptools in c:\\users\\harshit\\anaconda3\\lib\\site-packages (from mlxtend) (45.2.0.post20200210)\n",
      "Requirement already satisfied: scipy>=1.2.1 in c:\\users\\harshit\\anaconda3\\lib\\site-packages (from mlxtend) (1.4.1)\n",
      "Requirement already satisfied: joblib>=0.13.2 in c:\\users\\harshit\\anaconda3\\lib\\site-packages (from mlxtend) (0.14.1)\n",
      "Requirement already satisfied: pandas>=0.24.2 in c:\\users\\harshit\\anaconda3\\lib\\site-packages (from mlxtend) (1.0.1)\n",
      "Requirement already satisfied: matplotlib>=3.0.0 in c:\\users\\harshit\\anaconda3\\lib\\site-packages (from mlxtend) (3.1.3)\n",
      "Requirement already satisfied: scikit-learn>=0.20.3 in c:\\users\\harshit\\anaconda3\\lib\\site-packages (from mlxtend) (0.22.1)\n",
      "Requirement already satisfied: pytz>=2017.2 in c:\\users\\harshit\\anaconda3\\lib\\site-packages (from pandas>=0.24.2->mlxtend) (2019.3)\n",
      "Requirement already satisfied: python-dateutil>=2.6.1 in c:\\users\\harshit\\anaconda3\\lib\\site-packages (from pandas>=0.24.2->mlxtend) (2.8.1)\n",
      "Requirement already satisfied: cycler>=0.10 in c:\\users\\harshit\\anaconda3\\lib\\site-packages (from matplotlib>=3.0.0->mlxtend) (0.10.0)\n",
      "Requirement already satisfied: kiwisolver>=1.0.1 in c:\\users\\harshit\\anaconda3\\lib\\site-packages (from matplotlib>=3.0.0->mlxtend) (1.1.0)\n",
      "Requirement already satisfied: pyparsing!=2.0.4,!=2.1.2,!=2.1.6,>=2.0.1 in c:\\users\\harshit\\anaconda3\\lib\\site-packages (from matplotlib>=3.0.0->mlxtend) (2.4.6)\n",
      "Requirement already satisfied: six>=1.5 in c:\\users\\harshit\\anaconda3\\lib\\site-packages (from python-dateutil>=2.6.1->pandas>=0.24.2->mlxtend) (1.14.0)\n"
     ]
    }
   ],
   "source": [
    "! pip install mlxtend "
   ]
  },
  {
   "cell_type": "code",
   "execution_count": 101,
   "metadata": {},
   "outputs": [],
   "source": [
    "import pandas as pd\n",
    "from mlxtend.regressor import StackingRegressor\n",
    "from sklearn.linear_model import LinearRegression\n",
    "from sklearn.linear_model import Ridge\n",
    "from sklearn.svm import SVR\n",
    "import matplotlib.pyplot as plt\n",
    "import numpy as np\n",
    "from sklearn.ensemble import RandomForestRegressor\n",
    "from sklearn.model_selection import train_test_split"
   ]
  },
  {
   "cell_type": "code",
   "execution_count": 102,
   "metadata": {},
   "outputs": [],
   "source": [
    "lr = LinearRegression(n_jobs=4)\n",
    "svr_lin = SVR(kernel='linear')\n",
    "ridge = Ridge(random_state=1)\n",
    "svr_rbf = SVR(kernel='rbf')\n",
    "regr = RandomForestRegressor(n_estimators=100, max_depth=20, random_state=20, n_jobs=4)\n",
    "\n",
    "stregr = StackingRegressor(regressors=[svr_lin, svr_rbf, lr, regr], meta_regressor=ridge)\n"
   ]
  },
  {
   "cell_type": "code",
   "execution_count": 103,
   "metadata": {},
   "outputs": [
    {
     "data": {
      "text/plain": [
       "StackingRegressor(meta_regressor=Ridge(alpha=1.0, copy_X=True,\n",
       "                                       fit_intercept=True, max_iter=None,\n",
       "                                       normalize=False, random_state=1,\n",
       "                                       solver='auto', tol=0.001),\n",
       "                  refit=True,\n",
       "                  regressors=[SVR(C=1.0, cache_size=200, coef0=0.0, degree=3,\n",
       "                                  epsilon=0.1, gamma='scale', kernel='linear',\n",
       "                                  max_iter=-1, shrinking=True, tol=0.001,\n",
       "                                  verbose=False),\n",
       "                              SVR(C=1.0, cache_size=200, coef0=0.0, degr...\n",
       "                                                    criterion='mse',\n",
       "                                                    max_depth=20,\n",
       "                                                    max_features='auto',\n",
       "                                                    max_leaf_nodes=None,\n",
       "                                                    max_samples=None,\n",
       "                                                    min_impurity_decrease=0.0,\n",
       "                                                    min_impurity_split=None,\n",
       "                                                    min_samples_leaf=1,\n",
       "                                                    min_samples_split=2,\n",
       "                                                    min_weight_fraction_leaf=0.0,\n",
       "                                                    n_estimators=100, n_jobs=4,\n",
       "                                                    oob_score=False,\n",
       "                                                    random_state=20, verbose=0,\n",
       "                                                    warm_start=False)],\n",
       "                  store_train_meta_features=False,\n",
       "                  use_features_in_secondary=False, verbose=0)"
      ]
     },
     "execution_count": 103,
     "metadata": {},
     "output_type": "execute_result"
    }
   ],
   "source": [
    "\n",
    "stregr.fit(X_train, Y_train)"
   ]
  },
  {
   "cell_type": "code",
   "execution_count": 104,
   "metadata": {},
   "outputs": [
    {
     "name": "stdout",
     "output_type": "stream",
     "text": [
      "0.523837270718406\n"
     ]
    }
   ],
   "source": [
    "print(stregr.score(X_test,Y_test))"
   ]
  },
  {
   "cell_type": "code",
   "execution_count": 105,
   "metadata": {},
   "outputs": [],
   "source": [
    "y_pre=stregr.predict(X_test)"
   ]
  },
  {
   "cell_type": "code",
   "execution_count": 106,
   "metadata": {},
   "outputs": [
    {
     "data": {
      "text/html": [
       "<div>\n",
       "<style scoped>\n",
       "    .dataframe tbody tr th:only-of-type {\n",
       "        vertical-align: middle;\n",
       "    }\n",
       "\n",
       "    .dataframe tbody tr th {\n",
       "        vertical-align: top;\n",
       "    }\n",
       "\n",
       "    .dataframe thead th {\n",
       "        text-align: right;\n",
       "    }\n",
       "</style>\n",
       "<table border=\"1\" class=\"dataframe\">\n",
       "  <thead>\n",
       "    <tr style=\"text-align: right;\">\n",
       "      <th></th>\n",
       "      <th>Actual</th>\n",
       "      <th>Predicted</th>\n",
       "    </tr>\n",
       "  </thead>\n",
       "  <tbody>\n",
       "    <tr>\n",
       "      <th>642</th>\n",
       "      <td>2076.0</td>\n",
       "      <td>1645.608234</td>\n",
       "    </tr>\n",
       "    <tr>\n",
       "      <th>367</th>\n",
       "      <td>2579.0</td>\n",
       "      <td>1785.470699</td>\n",
       "    </tr>\n",
       "    <tr>\n",
       "      <th>261</th>\n",
       "      <td>428.0</td>\n",
       "      <td>9229.948080</td>\n",
       "    </tr>\n",
       "    <tr>\n",
       "      <th>434</th>\n",
       "      <td>2184.0</td>\n",
       "      <td>5218.443370</td>\n",
       "    </tr>\n",
       "    <tr>\n",
       "      <th>76</th>\n",
       "      <td>1996.0</td>\n",
       "      <td>6258.540241</td>\n",
       "    </tr>\n",
       "    <tr>\n",
       "      <th>64</th>\n",
       "      <td>34227.0</td>\n",
       "      <td>9439.835893</td>\n",
       "    </tr>\n",
       "    <tr>\n",
       "      <th>625</th>\n",
       "      <td>2351.0</td>\n",
       "      <td>2854.454605</td>\n",
       "    </tr>\n",
       "    <tr>\n",
       "      <th>52</th>\n",
       "      <td>8540.0</td>\n",
       "      <td>12337.134575</td>\n",
       "    </tr>\n",
       "    <tr>\n",
       "      <th>535</th>\n",
       "      <td>2384.0</td>\n",
       "      <td>2084.200535</td>\n",
       "    </tr>\n",
       "    <tr>\n",
       "      <th>240</th>\n",
       "      <td>9712.0</td>\n",
       "      <td>8825.879845</td>\n",
       "    </tr>\n",
       "  </tbody>\n",
       "</table>\n",
       "</div>"
      ],
      "text/plain": [
       "      Actual     Predicted\n",
       "642   2076.0   1645.608234\n",
       "367   2579.0   1785.470699\n",
       "261    428.0   9229.948080\n",
       "434   2184.0   5218.443370\n",
       "76    1996.0   6258.540241\n",
       "64   34227.0   9439.835893\n",
       "625   2351.0   2854.454605\n",
       "52    8540.0  12337.134575\n",
       "535   2384.0   2084.200535\n",
       "240   9712.0   8825.879845"
      ]
     },
     "execution_count": 106,
     "metadata": {},
     "output_type": "execute_result"
    }
   ],
   "source": [
    "pred_df=pd.DataFrame({'Actual':Y_test,'Predicted':y_pre})\n",
    "pred_df.tail(10)"
   ]
  },
  {
   "cell_type": "code",
   "execution_count": 107,
   "metadata": {},
   "outputs": [
    {
     "name": "stdout",
     "output_type": "stream",
     "text": [
      "R-2 score:  0.523837270718406\n"
     ]
    }
   ],
   "source": [
    "from sklearn import metrics\n",
    "print('R-2 score: ',metrics.r2_score(Y_test,y_pre))"
   ]
  },
  {
   "cell_type": "code",
   "execution_count": 108,
   "metadata": {},
   "outputs": [],
   "source": [
    "#KNN"
   ]
  },
  {
   "cell_type": "code",
   "execution_count": 109,
   "metadata": {},
   "outputs": [],
   "source": [
    "from sklearn.neighbors import KNeighborsRegressor"
   ]
  },
  {
   "cell_type": "code",
   "execution_count": 110,
   "metadata": {},
   "outputs": [],
   "source": [
    "kr = KNeighborsRegressor()"
   ]
  },
  {
   "cell_type": "code",
   "execution_count": 111,
   "metadata": {},
   "outputs": [
    {
     "data": {
      "text/plain": [
       "KNeighborsRegressor(algorithm='auto', leaf_size=30, metric='minkowski',\n",
       "                    metric_params=None, n_jobs=None, n_neighbors=5, p=2,\n",
       "                    weights='uniform')"
      ]
     },
     "execution_count": 111,
     "metadata": {},
     "output_type": "execute_result"
    }
   ],
   "source": [
    "kr.fit(X_train,Y_train)"
   ]
  },
  {
   "cell_type": "code",
   "execution_count": 112,
   "metadata": {},
   "outputs": [],
   "source": [
    "Y_pre = kr.predict(X_test)"
   ]
  },
  {
   "cell_type": "code",
   "execution_count": 113,
   "metadata": {},
   "outputs": [
    {
     "data": {
      "text/html": [
       "<div>\n",
       "<style scoped>\n",
       "    .dataframe tbody tr th:only-of-type {\n",
       "        vertical-align: middle;\n",
       "    }\n",
       "\n",
       "    .dataframe tbody tr th {\n",
       "        vertical-align: top;\n",
       "    }\n",
       "\n",
       "    .dataframe thead th {\n",
       "        text-align: right;\n",
       "    }\n",
       "</style>\n",
       "<table border=\"1\" class=\"dataframe\">\n",
       "  <thead>\n",
       "    <tr style=\"text-align: right;\">\n",
       "      <th></th>\n",
       "      <th>Actual</th>\n",
       "      <th>Predicted</th>\n",
       "    </tr>\n",
       "  </thead>\n",
       "  <tbody>\n",
       "    <tr>\n",
       "      <th>642</th>\n",
       "      <td>2076.0</td>\n",
       "      <td>1645.608234</td>\n",
       "    </tr>\n",
       "    <tr>\n",
       "      <th>367</th>\n",
       "      <td>2579.0</td>\n",
       "      <td>1785.470699</td>\n",
       "    </tr>\n",
       "    <tr>\n",
       "      <th>261</th>\n",
       "      <td>428.0</td>\n",
       "      <td>9229.948080</td>\n",
       "    </tr>\n",
       "    <tr>\n",
       "      <th>434</th>\n",
       "      <td>2184.0</td>\n",
       "      <td>5218.443370</td>\n",
       "    </tr>\n",
       "    <tr>\n",
       "      <th>76</th>\n",
       "      <td>1996.0</td>\n",
       "      <td>6258.540241</td>\n",
       "    </tr>\n",
       "    <tr>\n",
       "      <th>64</th>\n",
       "      <td>34227.0</td>\n",
       "      <td>9439.835893</td>\n",
       "    </tr>\n",
       "    <tr>\n",
       "      <th>625</th>\n",
       "      <td>2351.0</td>\n",
       "      <td>2854.454605</td>\n",
       "    </tr>\n",
       "    <tr>\n",
       "      <th>52</th>\n",
       "      <td>8540.0</td>\n",
       "      <td>12337.134575</td>\n",
       "    </tr>\n",
       "    <tr>\n",
       "      <th>535</th>\n",
       "      <td>2384.0</td>\n",
       "      <td>2084.200535</td>\n",
       "    </tr>\n",
       "    <tr>\n",
       "      <th>240</th>\n",
       "      <td>9712.0</td>\n",
       "      <td>8825.879845</td>\n",
       "    </tr>\n",
       "  </tbody>\n",
       "</table>\n",
       "</div>"
      ],
      "text/plain": [
       "      Actual     Predicted\n",
       "642   2076.0   1645.608234\n",
       "367   2579.0   1785.470699\n",
       "261    428.0   9229.948080\n",
       "434   2184.0   5218.443370\n",
       "76    1996.0   6258.540241\n",
       "64   34227.0   9439.835893\n",
       "625   2351.0   2854.454605\n",
       "52    8540.0  12337.134575\n",
       "535   2384.0   2084.200535\n",
       "240   9712.0   8825.879845"
      ]
     },
     "execution_count": 113,
     "metadata": {},
     "output_type": "execute_result"
    }
   ],
   "source": [
    "pred_df=pd.DataFrame({'Actual':Y_test,'Predicted':y_pre})\n",
    "pred_df.tail(10)"
   ]
  },
  {
   "cell_type": "code",
   "execution_count": 114,
   "metadata": {},
   "outputs": [
    {
     "name": "stdout",
     "output_type": "stream",
     "text": [
      "R-2 score:  0.523837270718406\n"
     ]
    }
   ],
   "source": [
    "from sklearn import metrics\n",
    "print('R-2 score: ',metrics.r2_score(Y_test,y_pre))"
   ]
  },
  {
   "cell_type": "code",
   "execution_count": 115,
   "metadata": {},
   "outputs": [],
   "source": [
    "X_TEST = test_data[['Population [2011]','Median Age','Avg Temp','Toilets Avl','Water Purity','H Index','hospitals','Foreign Visitors','HIGH','LOW','MEDIUM']]"
   ]
  },
  {
   "cell_type": "code",
   "execution_count": 116,
   "metadata": {},
   "outputs": [
    {
     "data": {
      "text/plain": [
       "KNeighborsRegressor(algorithm='auto', leaf_size=30, metric='minkowski',\n",
       "                    metric_params=None, n_jobs=None, n_neighbors=5, p=2,\n",
       "                    weights='uniform')"
      ]
     },
     "execution_count": 116,
     "metadata": {},
     "output_type": "execute_result"
    }
   ],
   "source": [
    "kr.fit(X,Y)"
   ]
  },
  {
   "cell_type": "code",
   "execution_count": 117,
   "metadata": {},
   "outputs": [],
   "source": [
    "Y_prediction = kr.predict(X_TEST)"
   ]
  },
  {
   "cell_type": "code",
   "execution_count": 118,
   "metadata": {},
   "outputs": [
    {
     "data": {
      "text/html": [
       "<div>\n",
       "<style scoped>\n",
       "    .dataframe tbody tr th:only-of-type {\n",
       "        vertical-align: middle;\n",
       "    }\n",
       "\n",
       "    .dataframe tbody tr th {\n",
       "        vertical-align: top;\n",
       "    }\n",
       "\n",
       "    .dataframe thead th {\n",
       "        text-align: right;\n",
       "    }\n",
       "</style>\n",
       "<table border=\"1\" class=\"dataframe\">\n",
       "  <thead>\n",
       "    <tr style=\"text-align: right;\">\n",
       "      <th></th>\n",
       "      <th>City</th>\n",
       "      <th>Predicted</th>\n",
       "    </tr>\n",
       "  </thead>\n",
       "  <tbody>\n",
       "    <tr>\n",
       "      <th>787</th>\n",
       "      <td>Tuensang</td>\n",
       "      <td>3365</td>\n",
       "    </tr>\n",
       "    <tr>\n",
       "      <th>788</th>\n",
       "      <td>Lakshmeshwar</td>\n",
       "      <td>2379</td>\n",
       "    </tr>\n",
       "    <tr>\n",
       "      <th>789</th>\n",
       "      <td>Zira</td>\n",
       "      <td>2625</td>\n",
       "    </tr>\n",
       "    <tr>\n",
       "      <th>790</th>\n",
       "      <td>Yawal</td>\n",
       "      <td>2312</td>\n",
       "    </tr>\n",
       "    <tr>\n",
       "      <th>791</th>\n",
       "      <td>Thana Bhawan</td>\n",
       "      <td>2539</td>\n",
       "    </tr>\n",
       "    <tr>\n",
       "      <th>792</th>\n",
       "      <td>Ramdurg</td>\n",
       "      <td>2424</td>\n",
       "    </tr>\n",
       "    <tr>\n",
       "      <th>793</th>\n",
       "      <td>Pulgaon</td>\n",
       "      <td>2900</td>\n",
       "    </tr>\n",
       "    <tr>\n",
       "      <th>794</th>\n",
       "      <td>Sadasivpet</td>\n",
       "      <td>2353</td>\n",
       "    </tr>\n",
       "    <tr>\n",
       "      <th>795</th>\n",
       "      <td>Nargund</td>\n",
       "      <td>2030</td>\n",
       "    </tr>\n",
       "    <tr>\n",
       "      <th>796</th>\n",
       "      <td>Neem-Ka-Thana</td>\n",
       "      <td>1765</td>\n",
       "    </tr>\n",
       "  </tbody>\n",
       "</table>\n",
       "</div>"
      ],
      "text/plain": [
       "              City  Predicted\n",
       "787       Tuensang       3365\n",
       "788   Lakshmeshwar       2379\n",
       "789           Zira       2625\n",
       "790          Yawal       2312\n",
       "791   Thana Bhawan       2539\n",
       "792        Ramdurg       2424\n",
       "793        Pulgaon       2900\n",
       "794     Sadasivpet       2353\n",
       "795        Nargund       2030\n",
       "796  Neem-Ka-Thana       1765"
      ]
     },
     "execution_count": 118,
     "metadata": {},
     "output_type": "execute_result"
    }
   ],
   "source": [
    "pred_df=pd.DataFrame({'City':test_data['City'],'Predicted':Y_prediction.astype(int)})\n",
    "pred_df.head(10)"
   ]
  },
  {
   "cell_type": "code",
   "execution_count": 119,
   "metadata": {},
   "outputs": [
    {
     "data": {
      "text/html": [
       "<div>\n",
       "<style scoped>\n",
       "    .dataframe tbody tr th:only-of-type {\n",
       "        vertical-align: middle;\n",
       "    }\n",
       "\n",
       "    .dataframe tbody tr th {\n",
       "        vertical-align: top;\n",
       "    }\n",
       "\n",
       "    .dataframe thead th {\n",
       "        text-align: right;\n",
       "    }\n",
       "</style>\n",
       "<table border=\"1\" class=\"dataframe\">\n",
       "  <thead>\n",
       "    <tr style=\"text-align: right;\">\n",
       "      <th></th>\n",
       "      <th>City</th>\n",
       "      <th>Predicted</th>\n",
       "    </tr>\n",
       "  </thead>\n",
       "  <tbody>\n",
       "    <tr>\n",
       "      <th>1278</th>\n",
       "      <td>Bhaiseena</td>\n",
       "      <td>2137</td>\n",
       "    </tr>\n",
       "    <tr>\n",
       "      <th>1279</th>\n",
       "      <td>Dwarahat</td>\n",
       "      <td>2263</td>\n",
       "    </tr>\n",
       "    <tr>\n",
       "      <th>1280</th>\n",
       "      <td>Badrinath</td>\n",
       "      <td>2601</td>\n",
       "    </tr>\n",
       "    <tr>\n",
       "      <th>1281</th>\n",
       "      <td>Dogadda</td>\n",
       "      <td>2438</td>\n",
       "    </tr>\n",
       "    <tr>\n",
       "      <th>1282</th>\n",
       "      <td>Devprayag</td>\n",
       "      <td>2730</td>\n",
       "    </tr>\n",
       "    <tr>\n",
       "      <th>1283</th>\n",
       "      <td>Nandaprayag</td>\n",
       "      <td>2486</td>\n",
       "    </tr>\n",
       "    <tr>\n",
       "      <th>1284</th>\n",
       "      <td>Kirtinagar</td>\n",
       "      <td>2539</td>\n",
       "    </tr>\n",
       "    <tr>\n",
       "      <th>1285</th>\n",
       "      <td>Kedarnath</td>\n",
       "      <td>2287</td>\n",
       "    </tr>\n",
       "    <tr>\n",
       "      <th>1286</th>\n",
       "      <td>Gangotri</td>\n",
       "      <td>2539</td>\n",
       "    </tr>\n",
       "    <tr>\n",
       "      <th>1287</th>\n",
       "      <td>Kumarganj</td>\n",
       "      <td>2180</td>\n",
       "    </tr>\n",
       "  </tbody>\n",
       "</table>\n",
       "</div>"
      ],
      "text/plain": [
       "             City  Predicted\n",
       "1278    Bhaiseena       2137\n",
       "1279     Dwarahat       2263\n",
       "1280    Badrinath       2601\n",
       "1281      Dogadda       2438\n",
       "1282    Devprayag       2730\n",
       "1283  Nandaprayag       2486\n",
       "1284   Kirtinagar       2539\n",
       "1285    Kedarnath       2287\n",
       "1286     Gangotri       2539\n",
       "1287    Kumarganj       2180"
      ]
     },
     "execution_count": 119,
     "metadata": {},
     "output_type": "execute_result"
    }
   ],
   "source": [
    "pred_df.tail(10)"
   ]
  },
  {
   "cell_type": "code",
   "execution_count": 120,
   "metadata": {},
   "outputs": [
    {
     "data": {
      "text/html": [
       "<div>\n",
       "<style scoped>\n",
       "    .dataframe tbody tr th:only-of-type {\n",
       "        vertical-align: middle;\n",
       "    }\n",
       "\n",
       "    .dataframe tbody tr th {\n",
       "        vertical-align: top;\n",
       "    }\n",
       "\n",
       "    .dataframe thead th {\n",
       "        text-align: right;\n",
       "    }\n",
       "</style>\n",
       "<table border=\"1\" class=\"dataframe\">\n",
       "  <thead>\n",
       "    <tr style=\"text-align: right;\">\n",
       "      <th></th>\n",
       "      <th>City</th>\n",
       "      <th>Time Series Data</th>\n",
       "      <th>Unnamed: 2</th>\n",
       "      <th>Unnamed: 3</th>\n",
       "      <th>Unnamed: 4</th>\n",
       "      <th>Unnamed: 5</th>\n",
       "    </tr>\n",
       "  </thead>\n",
       "  <tbody>\n",
       "    <tr>\n",
       "      <th>0</th>\n",
       "      <td>NaN</td>\n",
       "      <td>April</td>\n",
       "      <td>May</td>\n",
       "      <td>June</td>\n",
       "      <td>July</td>\n",
       "      <td>August</td>\n",
       "    </tr>\n",
       "    <tr>\n",
       "      <th>1</th>\n",
       "      <td>Tuensang</td>\n",
       "      <td>1614</td>\n",
       "      <td>1946</td>\n",
       "      <td>2372</td>\n",
       "      <td>2500</td>\n",
       "      <td>2769</td>\n",
       "    </tr>\n",
       "    <tr>\n",
       "      <th>2</th>\n",
       "      <td>Lakshmeshwar</td>\n",
       "      <td>369179</td>\n",
       "      <td>445559</td>\n",
       "      <td>541045</td>\n",
       "      <td>572860</td>\n",
       "      <td>636502</td>\n",
       "    </tr>\n",
       "    <tr>\n",
       "      <th>3</th>\n",
       "      <td>Zira</td>\n",
       "      <td>140581</td>\n",
       "      <td>169665</td>\n",
       "      <td>206030</td>\n",
       "      <td>218138</td>\n",
       "      <td>242367</td>\n",
       "    </tr>\n",
       "    <tr>\n",
       "      <th>4</th>\n",
       "      <td>Yawal</td>\n",
       "      <td>2557179</td>\n",
       "      <td>3086249</td>\n",
       "      <td>3747597</td>\n",
       "      <td>3968032</td>\n",
       "      <td>4408916</td>\n",
       "    </tr>\n",
       "    <tr>\n",
       "      <th>5</th>\n",
       "      <td>Thana Bhawan</td>\n",
       "      <td>1800363</td>\n",
       "      <td>2172850</td>\n",
       "      <td>2638469</td>\n",
       "      <td>2793662</td>\n",
       "      <td>3104060</td>\n",
       "    </tr>\n",
       "    <tr>\n",
       "      <th>6</th>\n",
       "      <td>Ramdurg</td>\n",
       "      <td>369179</td>\n",
       "      <td>445559</td>\n",
       "      <td>541045</td>\n",
       "      <td>572860</td>\n",
       "      <td>636502</td>\n",
       "    </tr>\n",
       "    <tr>\n",
       "      <th>7</th>\n",
       "      <td>Pulgaon</td>\n",
       "      <td>NaN</td>\n",
       "      <td>3086249</td>\n",
       "      <td>3747597</td>\n",
       "      <td>3968032</td>\n",
       "      <td>4408916</td>\n",
       "    </tr>\n",
       "    <tr>\n",
       "      <th>8</th>\n",
       "      <td>Sadasivpet</td>\n",
       "      <td>NaN</td>\n",
       "      <td>88263</td>\n",
       "      <td>107184</td>\n",
       "      <td>113478</td>\n",
       "      <td>126078</td>\n",
       "    </tr>\n",
       "    <tr>\n",
       "      <th>9</th>\n",
       "      <td>Nargund</td>\n",
       "      <td>NaN</td>\n",
       "      <td>445559</td>\n",
       "      <td>541045</td>\n",
       "      <td>572860</td>\n",
       "      <td>636502</td>\n",
       "    </tr>\n",
       "  </tbody>\n",
       "</table>\n",
       "</div>"
      ],
      "text/plain": [
       "           City Time Series Data Unnamed: 2 Unnamed: 3 Unnamed: 4 Unnamed: 5\n",
       "0           NaN            April        May       June       July     August\n",
       "1      Tuensang             1614       1946       2372       2500       2769\n",
       "2  Lakshmeshwar           369179     445559     541045     572860     636502\n",
       "3          Zira           140581     169665     206030     218138     242367\n",
       "4         Yawal          2557179    3086249    3747597    3968032    4408916\n",
       "5  Thana Bhawan          1800363    2172850    2638469    2793662    3104060\n",
       "6       Ramdurg           369179     445559     541045     572860     636502\n",
       "7       Pulgaon              NaN    3086249    3747597    3968032    4408916\n",
       "8    Sadasivpet              NaN      88263     107184     113478     126078\n",
       "9       Nargund              NaN     445559     541045     572860     636502"
      ]
     },
     "execution_count": 120,
     "metadata": {},
     "output_type": "execute_result"
    }
   ],
   "source": [
    "xls = pd.ExcelFile('Test_dataset.xlsx')\n",
    "dataset2 = pd.read_excel(xls, 'Foreign_Visitors_TS')\n",
    "dataset2.head(10)"
   ]
  },
  {
   "cell_type": "code",
   "execution_count": 121,
   "metadata": {},
   "outputs": [
    {
     "data": {
      "text/html": [
       "<div>\n",
       "<style scoped>\n",
       "    .dataframe tbody tr th:only-of-type {\n",
       "        vertical-align: middle;\n",
       "    }\n",
       "\n",
       "    .dataframe tbody tr th {\n",
       "        vertical-align: top;\n",
       "    }\n",
       "\n",
       "    .dataframe thead th {\n",
       "        text-align: right;\n",
       "    }\n",
       "</style>\n",
       "<table border=\"1\" class=\"dataframe\">\n",
       "  <thead>\n",
       "    <tr style=\"text-align: right;\">\n",
       "      <th></th>\n",
       "      <th>City</th>\n",
       "      <th>April</th>\n",
       "      <th>May</th>\n",
       "      <th>June</th>\n",
       "      <th>July</th>\n",
       "      <th>August</th>\n",
       "    </tr>\n",
       "  </thead>\n",
       "  <tbody>\n",
       "    <tr>\n",
       "      <th>1</th>\n",
       "      <td>Tuensang</td>\n",
       "      <td>1614</td>\n",
       "      <td>1946</td>\n",
       "      <td>2372</td>\n",
       "      <td>2500</td>\n",
       "      <td>2769</td>\n",
       "    </tr>\n",
       "    <tr>\n",
       "      <th>2</th>\n",
       "      <td>Lakshmeshwar</td>\n",
       "      <td>369179</td>\n",
       "      <td>445559</td>\n",
       "      <td>541045</td>\n",
       "      <td>572860</td>\n",
       "      <td>636502</td>\n",
       "    </tr>\n",
       "    <tr>\n",
       "      <th>3</th>\n",
       "      <td>Zira</td>\n",
       "      <td>140581</td>\n",
       "      <td>169665</td>\n",
       "      <td>206030</td>\n",
       "      <td>218138</td>\n",
       "      <td>242367</td>\n",
       "    </tr>\n",
       "    <tr>\n",
       "      <th>4</th>\n",
       "      <td>Yawal</td>\n",
       "      <td>2557179</td>\n",
       "      <td>3086249</td>\n",
       "      <td>3747597</td>\n",
       "      <td>3968032</td>\n",
       "      <td>4408916</td>\n",
       "    </tr>\n",
       "    <tr>\n",
       "      <th>5</th>\n",
       "      <td>Thana Bhawan</td>\n",
       "      <td>1800363</td>\n",
       "      <td>2172850</td>\n",
       "      <td>2638469</td>\n",
       "      <td>2793662</td>\n",
       "      <td>3104060</td>\n",
       "    </tr>\n",
       "    <tr>\n",
       "      <th>6</th>\n",
       "      <td>Ramdurg</td>\n",
       "      <td>369179</td>\n",
       "      <td>445559</td>\n",
       "      <td>541045</td>\n",
       "      <td>572860</td>\n",
       "      <td>636502</td>\n",
       "    </tr>\n",
       "    <tr>\n",
       "      <th>7</th>\n",
       "      <td>Pulgaon</td>\n",
       "      <td>NaN</td>\n",
       "      <td>3086249</td>\n",
       "      <td>3747597</td>\n",
       "      <td>3968032</td>\n",
       "      <td>4408916</td>\n",
       "    </tr>\n",
       "    <tr>\n",
       "      <th>8</th>\n",
       "      <td>Sadasivpet</td>\n",
       "      <td>NaN</td>\n",
       "      <td>88263</td>\n",
       "      <td>107184</td>\n",
       "      <td>113478</td>\n",
       "      <td>126078</td>\n",
       "    </tr>\n",
       "    <tr>\n",
       "      <th>9</th>\n",
       "      <td>Nargund</td>\n",
       "      <td>NaN</td>\n",
       "      <td>445559</td>\n",
       "      <td>541045</td>\n",
       "      <td>572860</td>\n",
       "      <td>636502</td>\n",
       "    </tr>\n",
       "    <tr>\n",
       "      <th>10</th>\n",
       "      <td>Neem-Ka-Thana</td>\n",
       "      <td>855688</td>\n",
       "      <td>1032726</td>\n",
       "      <td>NaN</td>\n",
       "      <td>1327788</td>\n",
       "      <td>1475311</td>\n",
       "    </tr>\n",
       "  </tbody>\n",
       "</table>\n",
       "</div>"
      ],
      "text/plain": [
       "             City    April      May     June     July   August\n",
       "1        Tuensang     1614     1946     2372     2500     2769\n",
       "2    Lakshmeshwar   369179   445559   541045   572860   636502\n",
       "3            Zira   140581   169665   206030   218138   242367\n",
       "4           Yawal  2557179  3086249  3747597  3968032  4408916\n",
       "5    Thana Bhawan  1800363  2172850  2638469  2793662  3104060\n",
       "6         Ramdurg   369179   445559   541045   572860   636502\n",
       "7         Pulgaon      NaN  3086249  3747597  3968032  4408916\n",
       "8      Sadasivpet      NaN    88263   107184   113478   126078\n",
       "9         Nargund      NaN   445559   541045   572860   636502\n",
       "10  Neem-Ka-Thana   855688  1032726      NaN  1327788  1475311"
      ]
     },
     "execution_count": 121,
     "metadata": {},
     "output_type": "execute_result"
    }
   ],
   "source": [
    "dataset2.columns=['City','April','May','June','July','August']\n",
    "dataset2=dataset2[dataset2['City'].notnull()]\n",
    "dataset2.head(10)"
   ]
  },
  {
   "cell_type": "code",
   "execution_count": 122,
   "metadata": {},
   "outputs": [
    {
     "name": "stdout",
     "output_type": "stream",
     "text": [
      "535775.0\n",
      "646624.0\n",
      "785194.0\n",
      "831371.0\n",
      "923737.0\n"
     ]
    }
   ],
   "source": [
    "list2=['April','May','June','July','August']\n",
    "for i in list2:\n",
    "    med = dataset2[i].median()\n",
    "    print(med)\n",
    "    dataset2[i] = dataset2[i].fillna(med)\n"
   ]
  },
  {
   "cell_type": "code",
   "execution_count": 123,
   "metadata": {},
   "outputs": [
    {
     "data": {
      "text/html": [
       "<div>\n",
       "<style scoped>\n",
       "    .dataframe tbody tr th:only-of-type {\n",
       "        vertical-align: middle;\n",
       "    }\n",
       "\n",
       "    .dataframe tbody tr th {\n",
       "        vertical-align: top;\n",
       "    }\n",
       "\n",
       "    .dataframe thead th {\n",
       "        text-align: right;\n",
       "    }\n",
       "</style>\n",
       "<table border=\"1\" class=\"dataframe\">\n",
       "  <thead>\n",
       "    <tr style=\"text-align: right;\">\n",
       "      <th></th>\n",
       "      <th>City</th>\n",
       "      <th>April</th>\n",
       "      <th>May</th>\n",
       "      <th>June</th>\n",
       "      <th>July</th>\n",
       "      <th>August</th>\n",
       "    </tr>\n",
       "  </thead>\n",
       "  <tbody>\n",
       "    <tr>\n",
       "      <th>1</th>\n",
       "      <td>Tuensang</td>\n",
       "      <td>1614.0</td>\n",
       "      <td>1946.0</td>\n",
       "      <td>2372.0</td>\n",
       "      <td>2500.0</td>\n",
       "      <td>2769</td>\n",
       "    </tr>\n",
       "    <tr>\n",
       "      <th>2</th>\n",
       "      <td>Lakshmeshwar</td>\n",
       "      <td>369179.0</td>\n",
       "      <td>445559.0</td>\n",
       "      <td>541045.0</td>\n",
       "      <td>572860.0</td>\n",
       "      <td>636502</td>\n",
       "    </tr>\n",
       "  </tbody>\n",
       "</table>\n",
       "</div>"
      ],
      "text/plain": [
       "           City     April       May      June      July  August\n",
       "1      Tuensang    1614.0    1946.0    2372.0    2500.0    2769\n",
       "2  Lakshmeshwar  369179.0  445559.0  541045.0  572860.0  636502"
      ]
     },
     "execution_count": 123,
     "metadata": {},
     "output_type": "execute_result"
    }
   ],
   "source": [
    "dataset2.head(2)"
   ]
  },
  {
   "cell_type": "code",
   "execution_count": 124,
   "metadata": {},
   "outputs": [
    {
     "data": {
      "text/plain": [
       "City      0\n",
       "April     0\n",
       "May       0\n",
       "June      0\n",
       "July      0\n",
       "August    0\n",
       "dtype: int64"
      ]
     },
     "execution_count": 124,
     "metadata": {},
     "output_type": "execute_result"
    }
   ],
   "source": [
    "dataset2.isnull().sum()"
   ]
  },
  {
   "cell_type": "code",
   "execution_count": 125,
   "metadata": {},
   "outputs": [],
   "source": [
    "p=dataset2.iloc[0]"
   ]
  },
  {
   "cell_type": "code",
   "execution_count": 126,
   "metadata": {},
   "outputs": [
    {
     "name": "stdout",
     "output_type": "stream",
     "text": [
      "City      Tuensang\n",
      "April         1614\n",
      "May           1946\n",
      "June          2372\n",
      "July          2500\n",
      "August        2769\n",
      "Name: 1, dtype: object\n"
     ]
    }
   ],
   "source": [
    "print(p)"
   ]
  },
  {
   "cell_type": "code",
   "execution_count": 127,
   "metadata": {},
   "outputs": [],
   "source": [
    "df = pd.DataFrame({'Month':['2020-05-01','2020-06-01','2020-07-01','2020-08-01','2020-09-01'],'Foreign_Visitors':dataset2.iloc[0][1:]})"
   ]
  },
  {
   "cell_type": "code",
   "execution_count": null,
   "metadata": {},
   "outputs": [],
   "source": []
  },
  {
   "cell_type": "code",
   "execution_count": 128,
   "metadata": {},
   "outputs": [],
   "source": [
    "df['Month'] = pd.to_datetime(df['Month'], format='%Y-%m')"
   ]
  },
  {
   "cell_type": "code",
   "execution_count": 129,
   "metadata": {},
   "outputs": [
    {
     "data": {
      "text/html": [
       "<div>\n",
       "<style scoped>\n",
       "    .dataframe tbody tr th:only-of-type {\n",
       "        vertical-align: middle;\n",
       "    }\n",
       "\n",
       "    .dataframe tbody tr th {\n",
       "        vertical-align: top;\n",
       "    }\n",
       "\n",
       "    .dataframe thead th {\n",
       "        text-align: right;\n",
       "    }\n",
       "</style>\n",
       "<table border=\"1\" class=\"dataframe\">\n",
       "  <thead>\n",
       "    <tr style=\"text-align: right;\">\n",
       "      <th></th>\n",
       "      <th>Month</th>\n",
       "      <th>Foreign_Visitors</th>\n",
       "    </tr>\n",
       "  </thead>\n",
       "  <tbody>\n",
       "    <tr>\n",
       "      <th>April</th>\n",
       "      <td>2020-05-01</td>\n",
       "      <td>1614</td>\n",
       "    </tr>\n",
       "    <tr>\n",
       "      <th>May</th>\n",
       "      <td>2020-06-01</td>\n",
       "      <td>1946</td>\n",
       "    </tr>\n",
       "    <tr>\n",
       "      <th>June</th>\n",
       "      <td>2020-07-01</td>\n",
       "      <td>2372</td>\n",
       "    </tr>\n",
       "    <tr>\n",
       "      <th>July</th>\n",
       "      <td>2020-08-01</td>\n",
       "      <td>2500</td>\n",
       "    </tr>\n",
       "    <tr>\n",
       "      <th>August</th>\n",
       "      <td>2020-09-01</td>\n",
       "      <td>2769</td>\n",
       "    </tr>\n",
       "  </tbody>\n",
       "</table>\n",
       "</div>"
      ],
      "text/plain": [
       "            Month Foreign_Visitors\n",
       "April  2020-05-01             1614\n",
       "May    2020-06-01             1946\n",
       "June   2020-07-01             2372\n",
       "July   2020-08-01             2500\n",
       "August 2020-09-01             2769"
      ]
     },
     "execution_count": 129,
     "metadata": {},
     "output_type": "execute_result"
    }
   ],
   "source": [
    "df.head()"
   ]
  },
  {
   "cell_type": "code",
   "execution_count": 130,
   "metadata": {},
   "outputs": [],
   "source": [
    "y=df.set_index('Month')"
   ]
  },
  {
   "cell_type": "code",
   "execution_count": 131,
   "metadata": {},
   "outputs": [
    {
     "data": {
      "text/plain": [
       "DatetimeIndex(['2020-05-01', '2020-06-01', '2020-07-01', '2020-08-01',\n",
       "               '2020-09-01'],\n",
       "              dtype='datetime64[ns]', name='Month', freq=None)"
      ]
     },
     "execution_count": 131,
     "metadata": {},
     "output_type": "execute_result"
    }
   ],
   "source": [
    "y.index"
   ]
  },
  {
   "cell_type": "code",
   "execution_count": 132,
   "metadata": {},
   "outputs": [
    {
     "data": {
      "text/plain": [
       "Foreign_Visitors    0\n",
       "dtype: int64"
      ]
     },
     "execution_count": 132,
     "metadata": {},
     "output_type": "execute_result"
    }
   ],
   "source": [
    "y.isnull().sum()"
   ]
  },
  {
   "cell_type": "code",
   "execution_count": 133,
   "metadata": {},
   "outputs": [],
   "source": [
    "import warnings\n",
    "import numpy as np\n",
    "import matplotlib.pyplot as plt\n",
    "warnings.filterwarnings(\"ignore\")\n",
    "plt.style.use('fivethirtyeight')\n",
    "import matplotlib\n",
    "matplotlib.rcParams['axes.labelsize'] = 14\n",
    "matplotlib.rcParams['xtick.labelsize'] = 12\n",
    "matplotlib.rcParams['ytick.labelsize'] = 12\n",
    "matplotlib.rcParams['text.color'] = 'k'\n",
    "import seaborn as sns\n"
   ]
  },
  {
   "cell_type": "code",
   "execution_count": 134,
   "metadata": {},
   "outputs": [
    {
     "data": {
      "image/png": "[encoded data removed]",
      "text/plain": [
       "<Figure size 1080x432 with 1 Axes>"
      ]
     },
     "metadata": {},
     "output_type": "display_data"
    }
   ],
   "source": [
    "y.plot(figsize=(15, 6))\n",
    "plt.show()"
   ]
  },
  {
   "cell_type": "code",
   "execution_count": 135,
   "metadata": {},
   "outputs": [
    {
     "data": {
      "image/png": "[encoded data removed]",
      "text/plain": [
       "<Figure size 432x288 with 1 Axes>"
      ]
     },
     "metadata": {},
     "output_type": "display_data"
    }
   ],
   "source": [
    "from pandas import Series\n",
    "from matplotlib import pyplot\n",
    "pyplot.figure(1)\n",
    "\n",
    "\n",
    "pyplot.subplot(212)\n",
    "y.Foreign_Visitors.plot(kind='kde')\n",
    "pyplot.show()"
   ]
  },
  {
   "cell_type": "code",
   "execution_count": 136,
   "metadata": {},
   "outputs": [
    {
     "data": {
      "text/plain": [
       "<matplotlib.axes._subplots.AxesSubplot at 0x2051b911d48>"
      ]
     },
     "execution_count": 136,
     "metadata": {},
     "output_type": "execute_result"
    },
    {
     "data": {
      "image/png": "[encoded data removed]",
      "text/plain": [
       "<Figure size 720x288 with 1 Axes>"
      ]
     },
     "metadata": {},
     "output_type": "display_data"
    }
   ],
   "source": [
    "fig, ax = plt.subplots(figsize=(10,4))\n",
    "sns.boxplot(y.Foreign_Visitors.index.month, y.Foreign_Visitors, ax=ax)"
   ]
  },
  {
   "cell_type": "code",
   "execution_count": 137,
   "metadata": {},
   "outputs": [
    {
     "data": {
      "image/png": "[encoded data removed]",
      "text/plain": [
       "<Figure size 1080x432 with 1 Axes>"
      ]
     },
     "metadata": {},
     "output_type": "display_data"
    }
   ],
   "source": [
    "y.plot(figsize=(15, 6))\n",
    "plt.show()"
   ]
  },
  {
   "cell_type": "code",
   "execution_count": null,
   "metadata": {},
   "outputs": [],
   "source": []
  },
  {
   "cell_type": "code",
   "execution_count": 138,
   "metadata": {},
   "outputs": [
    {
     "name": "stdout",
     "output_type": "stream",
     "text": [
      "Requirement already satisfied: rolling in c:\\users\\harshit\\anaconda3\\lib\\site-packages (0.2.0)\n",
      "Note: you may need to restart the kernel to use updated packages.\n"
     ]
    }
   ],
   "source": [
    " pip install rolling"
   ]
  },
  {
   "cell_type": "code",
   "execution_count": 139,
   "metadata": {},
   "outputs": [
    {
     "data": {
      "image/png": "[encoded data removed]",
      "text/plain": [
       "<Figure size 432x288 with 1 Axes>"
      ]
     },
     "metadata": {},
     "output_type": "display_data"
    }
   ],
   "source": [
    "#Determing rolling statistics\n",
    "rolmean = y.rolling(window=2).mean()\n",
    "rolstd=y.rolling(window=2).std()\n",
    "\n",
    "orig = plt.plot(y, color='blue',label='Original')\n",
    "mean = plt.plot(rolmean, color='red', label='Rolling Mean')\n",
    "std = plt.plot(rolstd, color='black', label = 'Rolling Std')\n",
    "plt.legend(loc='best')\n",
    "plt.title('Rolling Mean & Standard Deviation')\n",
    "plt.show(block=False)\n",
    "\n",
    "\n",
    "\n"
   ]
  },
  {
   "cell_type": "code",
   "execution_count": 140,
   "metadata": {},
   "outputs": [],
   "source": [
    "from statsmodels.tsa.stattools import adfuller"
   ]
  },
  {
   "cell_type": "code",
   "execution_count": 141,
   "metadata": {},
   "outputs": [
    {
     "name": "stdout",
     "output_type": "stream",
     "text": [
      "Results of Dickey-Fuller Test:\n",
      "Test Statistic                -1.106124\n",
      "p-value                        0.712624\n",
      "#Lags Used                     0.000000\n",
      "Number of Observations Used    4.000000\n",
      "Critical Value (1%)           -7.355441\n",
      "Critical Value (5%)           -4.474365\n",
      "Critical Value (10%)          -3.126933\n",
      "dtype: float64\n"
     ]
    }
   ],
   "source": [
    "print ('Results of Dickey-Fuller Test:')\n",
    "dftest = adfuller(y.Foreign_Visitors, autolag='AIC')\n",
    "dfoutput = pd.Series(dftest[0:4], index=['Test Statistic','p-value','#Lags Used','Number of Observations Used'])\n",
    "for key,value in dftest[4].items():\n",
    "    dfoutput['Critical Value (%s)'%key] = value\n",
    "print (dfoutput)"
   ]
  },
  {
   "cell_type": "code",
   "execution_count": 142,
   "metadata": {},
   "outputs": [],
   "source": [
    "def test_stationarity(timeseries):\n",
    "    \n",
    "    #Determing rolling statistics\n",
    "    rolmean =timeseries.rolling(window=2).mean()\n",
    "    rolstd=timeseries.rolling(window=2).std()\n",
    "    #Plot rolling statistics:\n",
    "    orig = plt.plot(timeseries, color='blue',label='Original')\n",
    "    mean = plt.plot(rolmean, color='red', label='Rolling Mean')\n",
    "    std = plt.plot(rolstd, color='black', label = 'Rolling Std')\n",
    "    plt.legend(loc='best')\n",
    "    plt.title('Rolling Mean & Standard Deviation')\n",
    "    plt.show(block=False)\n",
    "    \n",
    "    #Perform Dickey-Fuller test:\n",
    "    print ('Results of Dickey-Fuller Test:')\n",
    "    dftest = adfuller(timeseries, autolag='AIC')\n",
    "    dfoutput = pd.Series(dftest[0:4], index=['Test Statistic','p-value','#Lags Used','Number of Observations Used'])\n",
    "    for key,value in dftest[4].items():\n",
    "        dfoutput['Critical Value (%s)'%key] = value\n",
    "    print (dfoutput)"
   ]
  },
  {
   "cell_type": "code",
   "execution_count": 143,
   "metadata": {},
   "outputs": [
    {
     "data": {
      "text/plain": [
       "[<matplotlib.lines.Line2D at 0x2051bf2bf88>]"
      ]
     },
     "execution_count": 143,
     "metadata": {},
     "output_type": "execute_result"
    },
    {
     "data": {
      "image/png": "[encoded data removed]",
      "text/plain": [
       "<Figure size 432x288 with 1 Axes>"
      ]
     },
     "metadata": {},
     "output_type": "display_data"
    }
   ],
   "source": [
    "\n",
    "ts_log = np.log(y.astype(float))\n",
    "plt.plot(ts_log)"
   ]
  },
  {
   "cell_type": "code",
   "execution_count": 144,
   "metadata": {},
   "outputs": [
    {
     "data": {
      "text/plain": [
       "[<matplotlib.lines.Line2D at 0x2051bfa0e88>]"
      ]
     },
     "execution_count": 144,
     "metadata": {},
     "output_type": "execute_result"
    },
    {
     "data": {
      "image/png": "[encoded data removed]",
      "text/plain": [
       "<Figure size 432x288 with 1 Axes>"
      ]
     },
     "metadata": {},
     "output_type": "display_data"
    }
   ],
   "source": [
    "\n",
    "moving_avg = ts_log.rolling(window=2).mean()\n",
    "plt.plot(ts_log)\n",
    "plt.plot(moving_avg, color='red')"
   ]
  },
  {
   "cell_type": "code",
   "execution_count": 145,
   "metadata": {},
   "outputs": [
    {
     "data": {
      "text/plain": [
       "Month\n",
       "2020-05-01         NaN\n",
       "2020-06-01    0.093530\n",
       "2020-07-01    0.098979\n",
       "2020-08-01    0.026279\n",
       "2020-09-01    0.051098\n",
       "Name: Foreign_Visitors, dtype: float64"
      ]
     },
     "execution_count": 145,
     "metadata": {},
     "output_type": "execute_result"
    }
   ],
   "source": [
    "ts_log_moving_avg_diff = ts_log.Foreign_Visitors - moving_avg.Foreign_Visitors\n",
    "ts_log_moving_avg_diff.head()"
   ]
  },
  {
   "cell_type": "code",
   "execution_count": 146,
   "metadata": {},
   "outputs": [
    {
     "data": {
      "image/png": "[encoded data removed]",
      "text/plain": [
       "<Figure size 432x288 with 1 Axes>"
      ]
     },
     "metadata": {},
     "output_type": "display_data"
    },
    {
     "name": "stdout",
     "output_type": "stream",
     "text": [
      "Results of Dickey-Fuller Test:\n",
      "Test Statistic                 -0.988561\n",
      "p-value                         0.757414\n",
      "#Lags Used                      0.000000\n",
      "Number of Observations Used     3.000000\n",
      "Critical Value (1%)           -10.417191\n",
      "Critical Value (5%)            -5.778381\n",
      "Critical Value (10%)           -3.391681\n",
      "dtype: float64\n"
     ]
    }
   ],
   "source": [
    "ts_log_moving_avg_diff.dropna(inplace=True)\n",
    "test_stationarity(ts_log_moving_avg_diff)"
   ]
  },
  {
   "cell_type": "code",
   "execution_count": 147,
   "metadata": {},
   "outputs": [
    {
     "data": {
      "text/plain": [
       "[<matplotlib.lines.Line2D at 0x2051c058288>]"
      ]
     },
     "execution_count": 147,
     "metadata": {},
     "output_type": "execute_result"
    },
    {
     "data": {
      "image/png": "[encoded data removed]",
      "text/plain": [
       "<Figure size 432x288 with 1 Axes>"
      ]
     },
     "metadata": {},
     "output_type": "display_data"
    }
   ],
   "source": [
    "expwighted_avg =ts_log.ewm(span=2).mean()\n",
    "plt.plot(ts_log)\n",
    "plt.plot(expwighted_avg, color='red')"
   ]
  },
  {
   "cell_type": "code",
   "execution_count": 148,
   "metadata": {},
   "outputs": [
    {
     "data": {
      "image/png": "[encoded data removed]",
      "text/plain": [
       "<Figure size 432x288 with 1 Axes>"
      ]
     },
     "metadata": {},
     "output_type": "display_data"
    },
    {
     "name": "stdout",
     "output_type": "stream",
     "text": [
      "Results of Dickey-Fuller Test:\n",
      "Test Statistic                -2.891767\n",
      "p-value                        0.046314\n",
      "#Lags Used                     0.000000\n",
      "Number of Observations Used    4.000000\n",
      "Critical Value (1%)           -7.355441\n",
      "Critical Value (5%)           -4.474365\n",
      "Critical Value (10%)          -3.126933\n",
      "dtype: float64\n"
     ]
    }
   ],
   "source": [
    "ts_log_ewma_diff = ts_log.Foreign_Visitors - expwighted_avg.Foreign_Visitors\n",
    "test_stationarity(ts_log_ewma_diff)"
   ]
  },
  {
   "cell_type": "code",
   "execution_count": 149,
   "metadata": {},
   "outputs": [
    {
     "data": {
      "text/plain": [
       "[<matplotlib.lines.Line2D at 0x2051c1aab48>]"
      ]
     },
     "execution_count": 149,
     "metadata": {},
     "output_type": "execute_result"
    },
    {
     "data": {
      "image/png": "[encoded data removed]",
      "text/plain": [
       "<Figure size 432x288 with 1 Axes>"
      ]
     },
     "metadata": {},
     "output_type": "display_data"
    }
   ],
   "source": [
    "ts_log_diff = ts_log.Foreign_Visitors- ts_log.Foreign_Visitors.shift()\n",
    "plt.plot(ts_log_diff)"
   ]
  },
  {
   "cell_type": "code",
   "execution_count": 150,
   "metadata": {},
   "outputs": [
    {
     "data": {
      "image/png": "[encoded data removed]",
      "text/plain": [
       "<Figure size 432x288 with 1 Axes>"
      ]
     },
     "metadata": {},
     "output_type": "display_data"
    },
    {
     "name": "stdout",
     "output_type": "stream",
     "text": [
      "Results of Dickey-Fuller Test:\n",
      "Test Statistic                 -0.988561\n",
      "p-value                         0.757414\n",
      "#Lags Used                      0.000000\n",
      "Number of Observations Used     3.000000\n",
      "Critical Value (1%)           -10.417191\n",
      "Critical Value (5%)            -5.778381\n",
      "Critical Value (10%)           -3.391681\n",
      "dtype: float64\n"
     ]
    }
   ],
   "source": [
    "ts_log_diff.dropna(inplace=True)\n",
    "test_stationarity(ts_log_diff)"
   ]
  },
  {
   "cell_type": "code",
   "execution_count": 151,
   "metadata": {},
   "outputs": [],
   "source": [
    "\n",
    "from statsmodels.tsa.arima_model import ARIMA\n",
    "from random import random\n"
   ]
  },
  {
   "cell_type": "code",
   "execution_count": null,
   "metadata": {},
   "outputs": [],
   "source": [
    "\n",
    "\n",
    "\n"
   ]
  },
  {
   "cell_type": "code",
   "execution_count": 152,
   "metadata": {},
   "outputs": [
    {
     "data": {
      "text/plain": [
       "Text(0.5, 1.0, 'RSS: 0.0145')"
      ]
     },
     "execution_count": 152,
     "metadata": {},
     "output_type": "execute_result"
    },
    {
     "data": {
      "image/png": "[encoded data removed]",
      "text/plain": [
       "<Figure size 432x288 with 1 Axes>"
      ]
     },
     "metadata": {},
     "output_type": "display_data"
    }
   ],
   "source": [
    "model = ARIMA(ts_log, order=(0, 1, 0))  \n",
    "results_MA = model.fit(disp=-1)  \n",
    "plt.plot(ts_log_diff)\n",
    "plt.plot(results_MA.fittedvalues, color='red')\n",
    "plt.title('RSS: %.4f'% sum((results_MA.fittedvalues-ts_log_diff)**2))"
   ]
  },
  {
   "cell_type": "code",
   "execution_count": 153,
   "metadata": {},
   "outputs": [
    {
     "data": {
      "text/plain": [
       "Text(0.5, 1.0, 'RSS: 0.0145')"
      ]
     },
     "execution_count": 153,
     "metadata": {},
     "output_type": "execute_result"
    },
    {
     "data": {
      "image/png": "[encoded data removed]",
      "text/plain": [
       "<Figure size 432x288 with 1 Axes>"
      ]
     },
     "metadata": {},
     "output_type": "display_data"
    }
   ],
   "source": [
    "model = ARIMA(ts_log, order=(1, 1, 0))  \n",
    "results_MA = model.fit(disp=-1)  \n",
    "plt.plot(ts_log_diff)\n",
    "plt.plot(results_MA.fittedvalues, color='red')\n",
    "plt.title('RSS: %.4f'% sum((results_MA.fittedvalues-ts_log_diff)**2))"
   ]
  },
  {
   "cell_type": "code",
   "execution_count": 154,
   "metadata": {},
   "outputs": [
    {
     "data": {
      "text/plain": [
       "Text(0.5, 1.0, 'RSS: 0.0145')"
      ]
     },
     "execution_count": 154,
     "metadata": {},
     "output_type": "execute_result"
    },
    {
     "data": {
      "image/png": "[encoded data removed]",
      "text/plain": [
       "<Figure size 432x288 with 1 Axes>"
      ]
     },
     "metadata": {},
     "output_type": "display_data"
    }
   ],
   "source": [
    "model = ARIMA(ts_log, order=(0, 1, 0))  \n",
    "results_ARIMA = model.fit(disp=-1)  \n",
    "plt.plot(ts_log_diff)\n",
    "plt.plot(results_ARIMA.fittedvalues, color='red')\n",
    "plt.title('RSS: %.4f'% sum((results_ARIMA.fittedvalues-ts_log_diff)**2))"
   ]
  },
  {
   "cell_type": "code",
   "execution_count": 155,
   "metadata": {},
   "outputs": [
    {
     "name": "stdout",
     "output_type": "stream",
     "text": [
      "Month\n",
      "2020-06-01    0.134943\n",
      "2020-07-01    0.134943\n",
      "2020-08-01    0.134943\n",
      "2020-09-01    0.134943\n",
      "dtype: float64\n"
     ]
    }
   ],
   "source": [
    "predictions_ARIMA_diff = pd.Series(results_ARIMA.fittedvalues, copy=True)\n",
    "print (predictions_ARIMA_diff.head())"
   ]
  },
  {
   "cell_type": "code",
   "execution_count": 156,
   "metadata": {},
   "outputs": [
    {
     "name": "stdout",
     "output_type": "stream",
     "text": [
      "Month\n",
      "2020-06-01    0.134943\n",
      "2020-07-01    0.269885\n",
      "2020-08-01    0.404828\n",
      "2020-09-01    0.539771\n",
      "dtype: float64\n"
     ]
    }
   ],
   "source": [
    "predictions_ARIMA_diff_cumsum = predictions_ARIMA_diff.cumsum()\n",
    "print(predictions_ARIMA_diff_cumsum.head())"
   ]
  },
  {
   "cell_type": "code",
   "execution_count": 157,
   "metadata": {},
   "outputs": [
    {
     "data": {
      "text/plain": [
       "Month\n",
       "2020-05-01    7.386471\n",
       "2020-06-01    7.521414\n",
       "2020-07-01    7.656356\n",
       "2020-08-01    7.791299\n",
       "2020-09-01    7.926242\n",
       "dtype: float64"
      ]
     },
     "execution_count": 157,
     "metadata": {},
     "output_type": "execute_result"
    }
   ],
   "source": [
    "predictions_ARIMA_log = pd.Series(ts_log.Foreign_Visitors.iloc[0], index=ts_log.index)\n",
    "predictions_ARIMA_log = predictions_ARIMA_log.add(predictions_ARIMA_diff_cumsum,fill_value=0)\n",
    "predictions_ARIMA_log.head()"
   ]
  },
  {
   "cell_type": "code",
   "execution_count": 158,
   "metadata": {},
   "outputs": [],
   "source": [
    "predictions_ARIMA = np.exp(predictions_ARIMA_log)"
   ]
  },
  {
   "cell_type": "code",
   "execution_count": 159,
   "metadata": {},
   "outputs": [
    {
     "data": {
      "text/plain": [
       "Text(0.5, 1.0, 'RMSE: 128.6828')"
      ]
     },
     "execution_count": 159,
     "metadata": {},
     "output_type": "execute_result"
    },
    {
     "data": {
      "image/png": "[encoded data removed]",
      "text/plain": [
       "<Figure size 432x288 with 1 Axes>"
      ]
     },
     "metadata": {},
     "output_type": "display_data"
    }
   ],
   "source": [
    "\n",
    "plt.plot(y.Foreign_Visitors)\n",
    "plt.plot(predictions_ARIMA)\n",
    "plt.title('RMSE: %.4f'% np.sqrt(np.nansum((predictions_ARIMA-y.Foreign_Visitors)**2)/len(y.Foreign_Visitors)))"
   ]
  },
  {
   "cell_type": "code",
   "execution_count": 160,
   "metadata": {},
   "outputs": [],
   "source": [
    "#predictions_ARIMA['forecast'] = results_ARIMA.predict(start = 4, end =5, dynamic= True)  "
   ]
  },
  {
   "cell_type": "code",
   "execution_count": 161,
   "metadata": {},
   "outputs": [],
   "source": [
    "predictions_ARIMA.head()\n",
    "predictions_ARIMA['forecast'] = results_ARIMA.predict(start ='2020-09-01', end ='2020-12-01 ', dynamic= True)  "
   ]
  },
  {
   "cell_type": "code",
   "execution_count": 162,
   "metadata": {},
   "outputs": [
    {
     "data": {
      "text/plain": [
       "2020-09-01    0.134943\n",
       "2020-10-01    0.134943\n",
       "2020-11-01    0.134943\n",
       "2020-12-01    0.134943\n",
       "Freq: MS, dtype: float64"
      ]
     },
     "execution_count": 162,
     "metadata": {},
     "output_type": "execute_result"
    }
   ],
   "source": [
    "import statsmodels.api as sm\n",
    "predictions_ARIMA['forecast']"
   ]
  },
  {
   "cell_type": "code",
   "execution_count": 163,
   "metadata": {},
   "outputs": [],
   "source": [
    "#model=sm.tsa.statespace.SARIMAX(ts_log,order=(0, 1, 0))\n",
    "#results=model.fit()"
   ]
  },
  {
   "cell_type": "code",
   "execution_count": 164,
   "metadata": {},
   "outputs": [],
   "source": [
    "#predictions_ARIMA['forecast'] = results.predict(start ='2020-09-01', end ='2020-12-01 ', dynamic= True)  "
   ]
  },
  {
   "cell_type": "code",
   "execution_count": 165,
   "metadata": {},
   "outputs": [],
   "source": [
    "#predictions_ARIMA['forecast']"
   ]
  },
  {
   "cell_type": "code",
   "execution_count": 174,
   "metadata": {},
   "outputs": [],
   "source": [
    "\n",
    "ls=predictions_ARIMA.head()"
   ]
  },
  {
   "cell_type": "code",
   "execution_count": null,
   "metadata": {},
   "outputs": [],
   "source": [
    "def ARIMA_Model(x):\n",
    "    p=dataset2.iloc[x][1:]\n",
    "    df = pd.DataFrame({'Month':['2020-05-01','2020-06-01','2020-07-01','2020-08-01','2020-09-01'],'Foreign_Visitors':dataset2.iloc[x][1:]})\n",
    "    df['Month'] = pd.to_datetime(df['Month'], format='%Y-%m')\n",
    "    y=df.set_index('Month')\n",
    "    ts_log = np.log(y.astype(float))\n",
    "    model = ARIMA(ts_log, order=(0, 1, 0))  \n",
    "    results_MA = model.fit(disp=-1)  \n"
   ]
  },
  {
   "cell_type": "code",
   "execution_count": null,
   "metadata": {},
   "outputs": [],
   "source": []
  },
  {
   "cell_type": "code",
   "execution_count": null,
   "metadata": {},
   "outputs": [],
   "source": []
  },
  {
   "cell_type": "code",
   "execution_count": null,
   "metadata": {},
   "outputs": [],
   "source": []
  }
 ],
 "metadata": {
  "kernelspec": {
   "display_name": "Python 3",
   "language": "python",
   "name": "python3"
  },
  "language_info": {
   "codemirror_mode": {
    "name": "ipython",
    "version": 3
   },
   "file_extension": ".py",
   "mimetype": "text/x-python",
   "name": "python",
   "nbconvert_exporter": "python",
   "pygments_lexer": "ipython3",
   "version": "3.7.6"
  }
 },
 "nbformat": 4,
 "nbformat_minor": 4
}
